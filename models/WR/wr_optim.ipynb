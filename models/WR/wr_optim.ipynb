{
 "cells": [
  {
   "cell_type": "code",
   "execution_count": 7,
   "metadata": {
    "collapsed": true
   },
   "outputs": [],
   "source": [
    "import numpy as np\n",
    "import pandas as pd\n",
    "import csv\n",
    "import xgboost as xgb\n",
    "from sklearn.metrics import mean_squared_error\n",
    "from sklearn.preprocessing import StandardScaler\n",
    "import optuna\n",
    "import time\n",
    "\n",
    "def scrape(option: int, player_pos, player_name) -> pd.DataFrame:\n",
    "    url = None\n",
    "\n",
    "    if player_pos == 'D':\n",
    "        # hacky way to get seasonal defensive stats\n",
    "        url = 'https://www.fantasypros.com/nfl/stats/dst.php'\n",
    "    else:\n",
    "        url_head = r'https://www.nfl.com/players/'\n",
    "        url_feet = '/stats/career'\n",
    "        url = url_head + player_name + url_feet\n",
    "\n",
    "    s_df = pd.read_html(url)\n",
    "    return s_df[option]  # option of 0 = first table, 1 = second table\n",
    "\n",
    "def helper(h_df: pd.DataFrame, h_df2: pd.DataFrame, h_fantasy_points: [float]):\n",
    "    h_fantasy_points.append(sum(h_fantasy_points))  # this line calculates the total sum of all fantasy points on table\n",
    "    h_df['Fantasy Points'] = h_fantasy_points\n",
    "\n",
    "    # get rid of total row and bad data\n",
    "    h_df.drop(h_df.shape[0] - 1, axis=0, inplace=True)\n",
    "    h_df2.drop(h_df2.shape[0] - 1, axis=0, inplace=True)\n",
    "\n",
    "    h_df.drop('YEAR', axis=1, inplace=True)\n",
    "    h_df.drop('TEAM', axis=1, inplace=True)\n",
    "    h_df.drop('G', axis=1, inplace=True)\n",
    "\n",
    "    h_df2.drop('YEAR', axis=1, inplace=True)\n",
    "    h_df2.drop('TEAM', axis=1, inplace=True)\n",
    "    h_df2.drop('G', axis=1, inplace=True)\n",
    "\n",
    "    h_df = h_df[::-1]  # reverse the rows\n",
    "    h_df2 = h_df2[::-1]\n",
    "\n",
    "    return h_df, h_df2, h_fantasy_points\n",
    "\n",
    "def objective(trial):\n",
    "    param = {\n",
    "        'max_depth': trial.suggest_int('max_depth', 1, 10),\n",
    "        'learning_rate': trial.suggest_float('learning_rate', 0.001, 0.28),\n",
    "        'n_estimators': trial.suggest_int('n_estimators', 40, 1000),\n",
    "        'min_child_weight': trial.suggest_int('min_child_weight', 1, 10),\n",
    "        'gamma': trial.suggest_float('gamma', 0.01, 1.0),\n",
    "        'subsample': trial.suggest_float('subsample', 0.01, 1.0),\n",
    "        'colsample_bytree': trial.suggest_float('colsample_bytree', 0.01, 1.0),\n",
    "        'reg_alpha': trial.suggest_float('reg_alpha', 0.01, 1.0),\n",
    "        'reg_lambda': trial.suggest_float('reg_lambda', 0.01, 1.0),\n",
    "        'random_state': trial.suggest_int('random_state', 1, 1000)  # ,'seed': trial.suggest_int('seed', 0, 10000)\n",
    "    }\n",
    "    m = xgb.XGBRegressor(**param)\n",
    "    m.fit(data_train, label_train)\n",
    "    y_pred = m.predict(data_test)\n",
    "    return np.sqrt(mean_squared_error(label_test, y_pred))"
   ]
  },
  {
   "cell_type": "code",
   "execution_count": 8,
   "outputs": [
    {
     "name": "stdout",
     "output_type": "stream",
     "text": [
      "Optimizing:  justin-jefferson\n"
     ]
    },
    {
     "name": "stderr",
     "output_type": "stream",
     "text": [
      "/usr/local/lib/python3.9/site-packages/optuna/progress_bar.py:56: ExperimentalWarning: Progress bar is experimental (supported from v1.2.0). The interface can change in the future.\n",
      "  self._init_valid()\n"
     ]
    },
    {
     "data": {
      "text/plain": "  0%|          | 0/200 [00:00<?, ?it/s]",
      "application/vnd.jupyter.widget-view+json": {
       "version_major": 2,
       "version_minor": 0,
       "model_id": "501a4d5a397e43a691f72664e68df748"
      }
     },
     "metadata": {},
     "output_type": "display_data"
    },
    {
     "name": "stdout",
     "output_type": "stream",
     "text": [
      "Optimizing:  davante-adams\n",
      "Pass\n"
     ]
    },
    {
     "name": "stderr",
     "output_type": "stream",
     "text": [
      "/usr/local/lib/python3.9/site-packages/optuna/progress_bar.py:56: ExperimentalWarning: Progress bar is experimental (supported from v1.2.0). The interface can change in the future.\n",
      "  self._init_valid()\n"
     ]
    },
    {
     "data": {
      "text/plain": "  0%|          | 0/200 [00:00<?, ?it/s]",
      "application/vnd.jupyter.widget-view+json": {
       "version_major": 2,
       "version_minor": 0,
       "model_id": "543d457a96d44293a6a3b6959fbad670"
      }
     },
     "metadata": {},
     "output_type": "display_data"
    },
    {
     "name": "stdout",
     "output_type": "stream",
     "text": [
      "Optimizing:  tyreek-hill\n"
     ]
    },
    {
     "name": "stderr",
     "output_type": "stream",
     "text": [
      "/usr/local/lib/python3.9/site-packages/optuna/progress_bar.py:56: ExperimentalWarning: Progress bar is experimental (supported from v1.2.0). The interface can change in the future.\n",
      "  self._init_valid()\n"
     ]
    },
    {
     "data": {
      "text/plain": "  0%|          | 0/200 [00:00<?, ?it/s]",
      "application/vnd.jupyter.widget-view+json": {
       "version_major": 2,
       "version_minor": 0,
       "model_id": "e452f6b20d97443bafdfefcecde6f087"
      }
     },
     "metadata": {},
     "output_type": "display_data"
    },
    {
     "name": "stdout",
     "output_type": "stream",
     "text": [
      "Optimizing:  a-j-brown\n",
      "Pass\n"
     ]
    },
    {
     "name": "stderr",
     "output_type": "stream",
     "text": [
      "/usr/local/lib/python3.9/site-packages/optuna/progress_bar.py:56: ExperimentalWarning: Progress bar is experimental (supported from v1.2.0). The interface can change in the future.\n",
      "  self._init_valid()\n"
     ]
    },
    {
     "data": {
      "text/plain": "  0%|          | 0/200 [00:00<?, ?it/s]",
      "application/vnd.jupyter.widget-view+json": {
       "version_major": 2,
       "version_minor": 0,
       "model_id": "c991a19c81d54c898d43247e9825746a"
      }
     },
     "metadata": {},
     "output_type": "display_data"
    },
    {
     "name": "stdout",
     "output_type": "stream",
     "text": [
      "Optimizing:  stefon-diggs\n",
      "Pass\n"
     ]
    },
    {
     "name": "stderr",
     "output_type": "stream",
     "text": [
      "/usr/local/lib/python3.9/site-packages/optuna/progress_bar.py:56: ExperimentalWarning: Progress bar is experimental (supported from v1.2.0). The interface can change in the future.\n",
      "  self._init_valid()\n"
     ]
    },
    {
     "data": {
      "text/plain": "  0%|          | 0/200 [00:00<?, ?it/s]",
      "application/vnd.jupyter.widget-view+json": {
       "version_major": 2,
       "version_minor": 0,
       "model_id": "485d6afdf1724c049abdc178e748e2f3"
      }
     },
     "metadata": {},
     "output_type": "display_data"
    },
    {
     "name": "stdout",
     "output_type": "stream",
     "text": [
      "Optimizing:  ceedee-lamb\n"
     ]
    },
    {
     "name": "stderr",
     "output_type": "stream",
     "text": [
      "/usr/local/lib/python3.9/site-packages/optuna/progress_bar.py:56: ExperimentalWarning: Progress bar is experimental (supported from v1.2.0). The interface can change in the future.\n",
      "  self._init_valid()\n"
     ]
    },
    {
     "data": {
      "text/plain": "  0%|          | 0/200 [00:00<?, ?it/s]",
      "application/vnd.jupyter.widget-view+json": {
       "version_major": 2,
       "version_minor": 0,
       "model_id": "4eb74d8207264240a82047b6a7a982af"
      }
     },
     "metadata": {},
     "output_type": "display_data"
    },
    {
     "name": "stdout",
     "output_type": "stream",
     "text": [
      "Optimizing:  jaylen-waddle\n",
      "Optimizing:  amari-cooper\n",
      "Pass\n"
     ]
    },
    {
     "name": "stderr",
     "output_type": "stream",
     "text": [
      "/usr/local/lib/python3.9/site-packages/optuna/progress_bar.py:56: ExperimentalWarning: Progress bar is experimental (supported from v1.2.0). The interface can change in the future.\n",
      "  self._init_valid()\n"
     ]
    },
    {
     "data": {
      "text/plain": "  0%|          | 0/200 [00:00<?, ?it/s]",
      "application/vnd.jupyter.widget-view+json": {
       "version_major": 2,
       "version_minor": 0,
       "model_id": "b9f54ca45aa24af8a725bfc3a30a48ec"
      }
     },
     "metadata": {},
     "output_type": "display_data"
    },
    {
     "name": "stdout",
     "output_type": "stream",
     "text": [
      "Optimizing:  amon-ra-st-brown\n",
      "Optimizing:  devonta-smith\n",
      "Pass\n",
      "Optimizing:  christian-kirk\n"
     ]
    },
    {
     "name": "stderr",
     "output_type": "stream",
     "text": [
      "/usr/local/lib/python3.9/site-packages/optuna/progress_bar.py:56: ExperimentalWarning: Progress bar is experimental (supported from v1.2.0). The interface can change in the future.\n",
      "  self._init_valid()\n"
     ]
    },
    {
     "data": {
      "text/plain": "  0%|          | 0/200 [00:00<?, ?it/s]",
      "application/vnd.jupyter.widget-view+json": {
       "version_major": 2,
       "version_minor": 0,
       "model_id": "1850df40b3af4dcdbb144f859abaaee6"
      }
     },
     "metadata": {},
     "output_type": "display_data"
    },
    {
     "name": "stdout",
     "output_type": "stream",
     "text": [
      "Optimizing:  ja-marr-chase\n",
      "Optimizing:  tyler-lockett\n",
      "Pass\n"
     ]
    },
    {
     "name": "stderr",
     "output_type": "stream",
     "text": [
      "/usr/local/lib/python3.9/site-packages/optuna/progress_bar.py:56: ExperimentalWarning: Progress bar is experimental (supported from v1.2.0). The interface can change in the future.\n",
      "  self._init_valid()\n"
     ]
    },
    {
     "data": {
      "text/plain": "  0%|          | 0/200 [00:00<?, ?it/s]",
      "application/vnd.jupyter.widget-view+json": {
       "version_major": 2,
       "version_minor": 0,
       "model_id": "516299e28e7d4e2c91c46c9545e23f5a"
      }
     },
     "metadata": {},
     "output_type": "display_data"
    },
    {
     "name": "stdout",
     "output_type": "stream",
     "text": [
      "Optimizing:  terry-mclaurin\n",
      "Pass\n"
     ]
    },
    {
     "name": "stderr",
     "output_type": "stream",
     "text": [
      "/usr/local/lib/python3.9/site-packages/optuna/progress_bar.py:56: ExperimentalWarning: Progress bar is experimental (supported from v1.2.0). The interface can change in the future.\n",
      "  self._init_valid()\n"
     ]
    },
    {
     "data": {
      "text/plain": "  0%|          | 0/200 [00:00<?, ?it/s]",
      "application/vnd.jupyter.widget-view+json": {
       "version_major": 2,
       "version_minor": 0,
       "model_id": "54986230155c4ff987448cb8c0a47002"
      }
     },
     "metadata": {},
     "output_type": "display_data"
    },
    {
     "name": "stdout",
     "output_type": "stream",
     "text": [
      "Optimizing:  brandon-aiyuk\n"
     ]
    },
    {
     "name": "stderr",
     "output_type": "stream",
     "text": [
      "/usr/local/lib/python3.9/site-packages/optuna/progress_bar.py:56: ExperimentalWarning: Progress bar is experimental (supported from v1.2.0). The interface can change in the future.\n",
      "  self._init_valid()\n"
     ]
    },
    {
     "data": {
      "text/plain": "  0%|          | 0/200 [00:00<?, ?it/s]",
      "application/vnd.jupyter.widget-view+json": {
       "version_major": 2,
       "version_minor": 0,
       "model_id": "e5fa71142e0f4f65868e484dd53a1ca5"
      }
     },
     "metadata": {},
     "output_type": "display_data"
    },
    {
     "name": "stdout",
     "output_type": "stream",
     "text": [
      "Optimizing:  mike-evans\n",
      "Pass\n"
     ]
    },
    {
     "name": "stderr",
     "output_type": "stream",
     "text": [
      "/usr/local/lib/python3.9/site-packages/optuna/progress_bar.py:56: ExperimentalWarning: Progress bar is experimental (supported from v1.2.0). The interface can change in the future.\n",
      "  self._init_valid()\n"
     ]
    },
    {
     "data": {
      "text/plain": "  0%|          | 0/200 [00:00<?, ?it/s]",
      "application/vnd.jupyter.widget-view+json": {
       "version_major": 2,
       "version_minor": 0,
       "model_id": "492b86be7e374b13a407424c5faa9078"
      }
     },
     "metadata": {},
     "output_type": "display_data"
    },
    {
     "name": "stdout",
     "output_type": "stream",
     "text": [
      "Optimizing:  tee-higgins\n",
      "Pass\n"
     ]
    },
    {
     "name": "stderr",
     "output_type": "stream",
     "text": [
      "/usr/local/lib/python3.9/site-packages/optuna/progress_bar.py:56: ExperimentalWarning: Progress bar is experimental (supported from v1.2.0). The interface can change in the future.\n",
      "  self._init_valid()\n"
     ]
    },
    {
     "data": {
      "text/plain": "  0%|          | 0/200 [00:00<?, ?it/s]",
      "application/vnd.jupyter.widget-view+json": {
       "version_major": 2,
       "version_minor": 0,
       "model_id": "6d7a762bfe404b6b9d8f267d15f97902"
      }
     },
     "metadata": {},
     "output_type": "display_data"
    },
    {
     "name": "stdout",
     "output_type": "stream",
     "text": [
      "Optimizing:  jerry-jeudy\n",
      "Pass\n"
     ]
    },
    {
     "name": "stderr",
     "output_type": "stream",
     "text": [
      "/usr/local/lib/python3.9/site-packages/optuna/progress_bar.py:56: ExperimentalWarning: Progress bar is experimental (supported from v1.2.0). The interface can change in the future.\n",
      "  self._init_valid()\n"
     ]
    },
    {
     "data": {
      "text/plain": "  0%|          | 0/200 [00:00<?, ?it/s]",
      "application/vnd.jupyter.widget-view+json": {
       "version_major": 2,
       "version_minor": 0,
       "model_id": "54e677172baf4de4b6f44ed7d88a94d7"
      }
     },
     "metadata": {},
     "output_type": "display_data"
    },
    {
     "name": "stdout",
     "output_type": "stream",
     "text": [
      "Optimizing:  d-k-metcalf\n",
      "Pass\n"
     ]
    },
    {
     "name": "stderr",
     "output_type": "stream",
     "text": [
      "/usr/local/lib/python3.9/site-packages/optuna/progress_bar.py:56: ExperimentalWarning: Progress bar is experimental (supported from v1.2.0). The interface can change in the future.\n",
      "  self._init_valid()\n"
     ]
    },
    {
     "data": {
      "text/plain": "  0%|          | 0/200 [00:00<?, ?it/s]",
      "application/vnd.jupyter.widget-view+json": {
       "version_major": 2,
       "version_minor": 0,
       "model_id": "1cc7cfbf961a4dfcb695032102bdc6e7"
      }
     },
     "metadata": {},
     "output_type": "display_data"
    },
    {
     "name": "stdout",
     "output_type": "stream",
     "text": [
      "Optimizing:  d-j-moore\n"
     ]
    },
    {
     "name": "stderr",
     "output_type": "stream",
     "text": [
      "/usr/local/lib/python3.9/site-packages/optuna/progress_bar.py:56: ExperimentalWarning: Progress bar is experimental (supported from v1.2.0). The interface can change in the future.\n",
      "  self._init_valid()\n"
     ]
    },
    {
     "data": {
      "text/plain": "  0%|          | 0/200 [00:00<?, ?it/s]",
      "application/vnd.jupyter.widget-view+json": {
       "version_major": 2,
       "version_minor": 0,
       "model_id": "177e08d61bae4e6ba1103171e83a5032"
      }
     },
     "metadata": {},
     "output_type": "display_data"
    },
    {
     "name": "stdout",
     "output_type": "stream",
     "text": [
      "Optimizing:  garrett-wilson\n",
      "Optimizing:  cooper-kupp\n",
      "Pass\n"
     ]
    },
    {
     "name": "stderr",
     "output_type": "stream",
     "text": [
      "/usr/local/lib/python3.9/site-packages/optuna/progress_bar.py:56: ExperimentalWarning: Progress bar is experimental (supported from v1.2.0). The interface can change in the future.\n",
      "  self._init_valid()\n"
     ]
    },
    {
     "data": {
      "text/plain": "  0%|          | 0/200 [00:00<?, ?it/s]",
      "application/vnd.jupyter.widget-view+json": {
       "version_major": 2,
       "version_minor": 0,
       "model_id": "d12034e76c384a98af989a0d9424f25c"
      }
     },
     "metadata": {},
     "output_type": "display_data"
    },
    {
     "name": "stdout",
     "output_type": "stream",
     "text": [
      "Optimizing:  gabe-davis\n",
      "Pass\n"
     ]
    },
    {
     "name": "stderr",
     "output_type": "stream",
     "text": [
      "/usr/local/lib/python3.9/site-packages/optuna/progress_bar.py:56: ExperimentalWarning: Progress bar is experimental (supported from v1.2.0). The interface can change in the future.\n",
      "  self._init_valid()\n"
     ]
    },
    {
     "data": {
      "text/plain": "  0%|          | 0/200 [00:00<?, ?it/s]",
      "application/vnd.jupyter.widget-view+json": {
       "version_major": 2,
       "version_minor": 0,
       "model_id": "559d9ce539f748e38ee20674ecc2a1d2"
      }
     },
     "metadata": {},
     "output_type": "display_data"
    },
    {
     "name": "stdout",
     "output_type": "stream",
     "text": [
      "Optimizing:  christian-watson\n",
      "Optimizing:  chris-godwin\n",
      "Pass\n"
     ]
    },
    {
     "name": "stderr",
     "output_type": "stream",
     "text": [
      "/usr/local/lib/python3.9/site-packages/optuna/progress_bar.py:56: ExperimentalWarning: Progress bar is experimental (supported from v1.2.0). The interface can change in the future.\n",
      "  self._init_valid()\n"
     ]
    },
    {
     "data": {
      "text/plain": "  0%|          | 0/200 [00:00<?, ?it/s]",
      "application/vnd.jupyter.widget-view+json": {
       "version_major": 2,
       "version_minor": 0,
       "model_id": "1699d0858d3944999ba7767cf75b4410"
      }
     },
     "metadata": {},
     "output_type": "display_data"
    },
    {
     "name": "stdout",
     "output_type": "stream",
     "text": [
      "Optimizing:  michael-pittman-2\n"
     ]
    },
    {
     "name": "stderr",
     "output_type": "stream",
     "text": [
      "/usr/local/lib/python3.9/site-packages/optuna/progress_bar.py:56: ExperimentalWarning: Progress bar is experimental (supported from v1.2.0). The interface can change in the future.\n",
      "  self._init_valid()\n"
     ]
    },
    {
     "data": {
      "text/plain": "  0%|          | 0/200 [00:00<?, ?it/s]",
      "application/vnd.jupyter.widget-view+json": {
       "version_major": 2,
       "version_minor": 0,
       "model_id": "c042f70667a44f73ad23a1155b94316d"
      }
     },
     "metadata": {},
     "output_type": "display_data"
    },
    {
     "name": "stdout",
     "output_type": "stream",
     "text": [
      "Optimizing:  tyler-boyd\n",
      "Pass\n"
     ]
    },
    {
     "name": "stderr",
     "output_type": "stream",
     "text": [
      "/usr/local/lib/python3.9/site-packages/optuna/progress_bar.py:56: ExperimentalWarning: Progress bar is experimental (supported from v1.2.0). The interface can change in the future.\n",
      "  self._init_valid()\n"
     ]
    },
    {
     "data": {
      "text/plain": "  0%|          | 0/200 [00:00<?, ?it/s]",
      "application/vnd.jupyter.widget-view+json": {
       "version_major": 2,
       "version_minor": 0,
       "model_id": "73295b3831e44406bf14f574faf24655"
      }
     },
     "metadata": {},
     "output_type": "display_data"
    },
    {
     "name": "stdout",
     "output_type": "stream",
     "text": [
      "Optimizing:  zay-jones\n",
      "Pass\n"
     ]
    },
    {
     "name": "stderr",
     "output_type": "stream",
     "text": [
      "/usr/local/lib/python3.9/site-packages/optuna/progress_bar.py:56: ExperimentalWarning: Progress bar is experimental (supported from v1.2.0). The interface can change in the future.\n",
      "  self._init_valid()\n"
     ]
    },
    {
     "data": {
      "text/plain": "  0%|          | 0/200 [00:00<?, ?it/s]",
      "application/vnd.jupyter.widget-view+json": {
       "version_major": 2,
       "version_minor": 0,
       "model_id": "cafe2bfe5f474c4ebad05670f22b5cc4"
      }
     },
     "metadata": {},
     "output_type": "display_data"
    },
    {
     "name": "stdout",
     "output_type": "stream",
     "text": [
      "Optimizing:  allen-lazard\n",
      "Pass\n"
     ]
    },
    {
     "name": "stderr",
     "output_type": "stream",
     "text": [
      "/usr/local/lib/python3.9/site-packages/optuna/progress_bar.py:56: ExperimentalWarning: Progress bar is experimental (supported from v1.2.0). The interface can change in the future.\n",
      "  self._init_valid()\n"
     ]
    },
    {
     "data": {
      "text/plain": "  0%|          | 0/200 [00:00<?, ?it/s]",
      "application/vnd.jupyter.widget-view+json": {
       "version_major": 2,
       "version_minor": 0,
       "model_id": "18552680beea441bb84c7760f645d3c1"
      }
     },
     "metadata": {},
     "output_type": "display_data"
    },
    {
     "name": "stdout",
     "output_type": "stream",
     "text": [
      "Optimizing:  george-pickens\n",
      "Optimizing:  mike-williams\n",
      "Pass\n"
     ]
    },
    {
     "name": "stderr",
     "output_type": "stream",
     "text": [
      "/usr/local/lib/python3.9/site-packages/optuna/progress_bar.py:56: ExperimentalWarning: Progress bar is experimental (supported from v1.2.0). The interface can change in the future.\n",
      "  self._init_valid()\n"
     ]
    },
    {
     "data": {
      "text/plain": "  0%|          | 0/200 [00:00<?, ?it/s]",
      "application/vnd.jupyter.widget-view+json": {
       "version_major": 2,
       "version_minor": 0,
       "model_id": "63e9ceb8e05a45ea9fc589f01f20b1b7"
      }
     },
     "metadata": {},
     "output_type": "display_data"
    },
    {
     "name": "stdout",
     "output_type": "stream",
     "text": [
      "Optimizing:  jakobi-meyers\n",
      "Pass\n"
     ]
    },
    {
     "name": "stderr",
     "output_type": "stream",
     "text": [
      "/usr/local/lib/python3.9/site-packages/optuna/progress_bar.py:56: ExperimentalWarning: Progress bar is experimental (supported from v1.2.0). The interface can change in the future.\n",
      "  self._init_valid()\n"
     ]
    },
    {
     "data": {
      "text/plain": "  0%|          | 0/200 [00:00<?, ?it/s]",
      "application/vnd.jupyter.widget-view+json": {
       "version_major": 2,
       "version_minor": 0,
       "model_id": "f3e87f42557f434cac79875448409309"
      }
     },
     "metadata": {},
     "output_type": "display_data"
    },
    {
     "name": "stdout",
     "output_type": "stream",
     "text": [
      "Optimizing:  deebo-samuel\n"
     ]
    },
    {
     "name": "stderr",
     "output_type": "stream",
     "text": [
      "/usr/local/lib/python3.9/site-packages/optuna/progress_bar.py:56: ExperimentalWarning: Progress bar is experimental (supported from v1.2.0). The interface can change in the future.\n",
      "  self._init_valid()\n"
     ]
    },
    {
     "data": {
      "text/plain": "  0%|          | 0/200 [00:00<?, ?it/s]",
      "application/vnd.jupyter.widget-view+json": {
       "version_major": 2,
       "version_minor": 0,
       "model_id": "645f456a698345f7b084bad338c1e174"
      }
     },
     "metadata": {},
     "output_type": "display_data"
    },
    {
     "name": "stdout",
     "output_type": "stream",
     "text": [
      "Optimizing:  curtis-samuel\n"
     ]
    },
    {
     "name": "stderr",
     "output_type": "stream",
     "text": [
      "/usr/local/lib/python3.9/site-packages/optuna/progress_bar.py:56: ExperimentalWarning: Progress bar is experimental (supported from v1.2.0). The interface can change in the future.\n",
      "  self._init_valid()\n"
     ]
    },
    {
     "data": {
      "text/plain": "  0%|          | 0/200 [00:00<?, ?it/s]",
      "application/vnd.jupyter.widget-view+json": {
       "version_major": 2,
       "version_minor": 0,
       "model_id": "f090a07e352d4224b2a1945bbe138913"
      }
     },
     "metadata": {},
     "output_type": "display_data"
    },
    {
     "name": "stdout",
     "output_type": "stream",
     "text": [
      "Optimizing:  adam-thielen\n",
      "Pass\n"
     ]
    },
    {
     "name": "stderr",
     "output_type": "stream",
     "text": [
      "/usr/local/lib/python3.9/site-packages/optuna/progress_bar.py:56: ExperimentalWarning: Progress bar is experimental (supported from v1.2.0). The interface can change in the future.\n",
      "  self._init_valid()\n"
     ]
    },
    {
     "data": {
      "text/plain": "  0%|          | 0/200 [00:00<?, ?it/s]",
      "application/vnd.jupyter.widget-view+json": {
       "version_major": 2,
       "version_minor": 0,
       "model_id": "f9f14cdbe9f047bfa21fb3a59c612528"
      }
     },
     "metadata": {},
     "output_type": "display_data"
    },
    {
     "name": "stdout",
     "output_type": "stream",
     "text": [
      "Optimizing:  juju-smith-schuster\n",
      "Pass\n"
     ]
    },
    {
     "name": "stderr",
     "output_type": "stream",
     "text": [
      "/usr/local/lib/python3.9/site-packages/optuna/progress_bar.py:56: ExperimentalWarning: Progress bar is experimental (supported from v1.2.0). The interface can change in the future.\n",
      "  self._init_valid()\n"
     ]
    },
    {
     "data": {
      "text/plain": "  0%|          | 0/200 [00:00<?, ?it/s]",
      "application/vnd.jupyter.widget-view+json": {
       "version_major": 2,
       "version_minor": 0,
       "model_id": "0667e8e64a064b94bb73bd3c7fa4ec3e"
      }
     },
     "metadata": {},
     "output_type": "display_data"
    },
    {
     "name": "stdout",
     "output_type": "stream",
     "text": [
      "Optimizing:  donovan-peoples-jones\n",
      "Pass\n"
     ]
    },
    {
     "name": "stderr",
     "output_type": "stream",
     "text": [
      "/usr/local/lib/python3.9/site-packages/optuna/progress_bar.py:56: ExperimentalWarning: Progress bar is experimental (supported from v1.2.0). The interface can change in the future.\n",
      "  self._init_valid()\n"
     ]
    },
    {
     "data": {
      "text/plain": "  0%|          | 0/200 [00:00<?, ?it/s]",
      "application/vnd.jupyter.widget-view+json": {
       "version_major": 2,
       "version_minor": 0,
       "model_id": "c9496be0acf846aba991c5cb1bb21bf7"
      }
     },
     "metadata": {},
     "output_type": "display_data"
    },
    {
     "name": "stdout",
     "output_type": "stream",
     "text": [
      "Optimizing:  keenan-allen\n",
      "Pass\n"
     ]
    },
    {
     "name": "stderr",
     "output_type": "stream",
     "text": [
      "/usr/local/lib/python3.9/site-packages/optuna/progress_bar.py:56: ExperimentalWarning: Progress bar is experimental (supported from v1.2.0). The interface can change in the future.\n",
      "  self._init_valid()\n"
     ]
    },
    {
     "data": {
      "text/plain": "  0%|          | 0/200 [00:00<?, ?it/s]",
      "application/vnd.jupyter.widget-view+json": {
       "version_major": 2,
       "version_minor": 0,
       "model_id": "2473aba21cf9489e9442b80dda513516"
      }
     },
     "metadata": {},
     "output_type": "display_data"
    },
    {
     "name": "stdout",
     "output_type": "stream",
     "text": [
      "Optimizing:  josh-palmer\n",
      "Optimizing:  mack-hollins\n",
      "Pass\n"
     ]
    },
    {
     "name": "stderr",
     "output_type": "stream",
     "text": [
      "/usr/local/lib/python3.9/site-packages/optuna/progress_bar.py:56: ExperimentalWarning: Progress bar is experimental (supported from v1.2.0). The interface can change in the future.\n",
      "  self._init_valid()\n"
     ]
    },
    {
     "data": {
      "text/plain": "  0%|          | 0/200 [00:00<?, ?it/s]",
      "application/vnd.jupyter.widget-view+json": {
       "version_major": 2,
       "version_minor": 0,
       "model_id": "8fce541075ac4d03908d87e9c239f182"
      }
     },
     "metadata": {},
     "output_type": "display_data"
    },
    {
     "name": "stdout",
     "output_type": "stream",
     "text": [
      "Optimizing:  k-j-osborn\n",
      "Pass\n"
     ]
    },
    {
     "name": "stderr",
     "output_type": "stream",
     "text": [
      "/usr/local/lib/python3.9/site-packages/optuna/progress_bar.py:56: ExperimentalWarning: Progress bar is experimental (supported from v1.2.0). The interface can change in the future.\n",
      "  self._init_valid()\n"
     ]
    },
    {
     "data": {
      "text/plain": "  0%|          | 0/200 [00:00<?, ?it/s]",
      "application/vnd.jupyter.widget-view+json": {
       "version_major": 2,
       "version_minor": 0,
       "model_id": "653e7a35346144a291a5c2d4be5582ad"
      }
     },
     "metadata": {},
     "output_type": "display_data"
    },
    {
     "name": "stdout",
     "output_type": "stream",
     "text": [
      "Optimizing:  jahan-dotson\n",
      "Optimizing:  courtland-sutton\n",
      "Pass\n"
     ]
    },
    {
     "name": "stderr",
     "output_type": "stream",
     "text": [
      "/usr/local/lib/python3.9/site-packages/optuna/progress_bar.py:56: ExperimentalWarning: Progress bar is experimental (supported from v1.2.0). The interface can change in the future.\n",
      "  self._init_valid()\n"
     ]
    },
    {
     "data": {
      "text/plain": "  0%|          | 0/200 [00:00<?, ?it/s]",
      "application/vnd.jupyter.widget-view+json": {
       "version_major": 2,
       "version_minor": 0,
       "model_id": "b45a4c74f9c145cdb2869bc593f9e174"
      }
     },
     "metadata": {},
     "output_type": "display_data"
    },
    {
     "name": "stdout",
     "output_type": "stream",
     "text": [
      "Optimizing:  diontae-johnson\n"
     ]
    },
    {
     "name": "stderr",
     "output_type": "stream",
     "text": [
      "/usr/local/lib/python3.9/site-packages/optuna/progress_bar.py:56: ExperimentalWarning: Progress bar is experimental (supported from v1.2.0). The interface can change in the future.\n",
      "  self._init_valid()\n"
     ]
    },
    {
     "data": {
      "text/plain": "  0%|          | 0/200 [00:00<?, ?it/s]",
      "application/vnd.jupyter.widget-view+json": {
       "version_major": 2,
       "version_minor": 0,
       "model_id": "dbea31975e494b918a1b3260455ac97f"
      }
     },
     "metadata": {},
     "output_type": "display_data"
    },
    {
     "name": "stdout",
     "output_type": "stream",
     "text": [
      "Optimizing:  marquise-brown\n",
      "Pass\n"
     ]
    },
    {
     "name": "stderr",
     "output_type": "stream",
     "text": [
      "/usr/local/lib/python3.9/site-packages/optuna/progress_bar.py:56: ExperimentalWarning: Progress bar is experimental (supported from v1.2.0). The interface can change in the future.\n",
      "  self._init_valid()\n"
     ]
    },
    {
     "data": {
      "text/plain": "  0%|          | 0/200 [00:00<?, ?it/s]",
      "application/vnd.jupyter.widget-view+json": {
       "version_major": 2,
       "version_minor": 0,
       "model_id": "55a70a174ad64bdca9232760f49c2bd8"
      }
     },
     "metadata": {},
     "output_type": "display_data"
    },
    {
     "name": "stdout",
     "output_type": "stream",
     "text": [
      "Optimizing:  brandin-cooks\n",
      "Pass\n"
     ]
    },
    {
     "name": "stderr",
     "output_type": "stream",
     "text": [
      "/usr/local/lib/python3.9/site-packages/optuna/progress_bar.py:56: ExperimentalWarning: Progress bar is experimental (supported from v1.2.0). The interface can change in the future.\n",
      "  self._init_valid()\n"
     ]
    },
    {
     "data": {
      "text/plain": "  0%|          | 0/200 [00:00<?, ?it/s]",
      "application/vnd.jupyter.widget-view+json": {
       "version_major": 2,
       "version_minor": 0,
       "model_id": "913a37906ad24d7b935ebc94cbe1a79b"
      }
     },
     "metadata": {},
     "output_type": "display_data"
    },
    {
     "name": "stdout",
     "output_type": "stream",
     "text": [
      "Optimizing:  deandre-hopkins\n",
      "Pass\n"
     ]
    },
    {
     "name": "stderr",
     "output_type": "stream",
     "text": [
      "/usr/local/lib/python3.9/site-packages/optuna/progress_bar.py:56: ExperimentalWarning: Progress bar is experimental (supported from v1.2.0). The interface can change in the future.\n",
      "  self._init_valid()\n"
     ]
    },
    {
     "data": {
      "text/plain": "  0%|          | 0/200 [00:00<?, ?it/s]",
      "application/vnd.jupyter.widget-view+json": {
       "version_major": 2,
       "version_minor": 0,
       "model_id": "25ffaf1b80c0444bbc13b5787cb8b1b1"
      }
     },
     "metadata": {},
     "output_type": "display_data"
    },
    {
     "name": "stdout",
     "output_type": "stream",
     "text": [
      "Optimizing:  parris-campbell\n",
      "Pass\n"
     ]
    },
    {
     "name": "stderr",
     "output_type": "stream",
     "text": [
      "/usr/local/lib/python3.9/site-packages/optuna/progress_bar.py:56: ExperimentalWarning: Progress bar is experimental (supported from v1.2.0). The interface can change in the future.\n",
      "  self._init_valid()\n"
     ]
    },
    {
     "data": {
      "text/plain": "  0%|          | 0/200 [00:00<?, ?it/s]",
      "application/vnd.jupyter.widget-view+json": {
       "version_major": 2,
       "version_minor": 0,
       "model_id": "f5c31068c7b245b69a8a79dcc12594c0"
      }
     },
     "metadata": {},
     "output_type": "display_data"
    },
    {
     "name": "stdout",
     "output_type": "stream",
     "text": [
      "Optimizing:  darius-slayton\n",
      "Pass\n"
     ]
    },
    {
     "name": "stderr",
     "output_type": "stream",
     "text": [
      "/usr/local/lib/python3.9/site-packages/optuna/progress_bar.py:56: ExperimentalWarning: Progress bar is experimental (supported from v1.2.0). The interface can change in the future.\n",
      "  self._init_valid()\n"
     ]
    },
    {
     "data": {
      "text/plain": "  0%|          | 0/200 [00:00<?, ?it/s]",
      "application/vnd.jupyter.widget-view+json": {
       "version_major": 2,
       "version_minor": 0,
       "model_id": "eb1eb3e296a1483d9e809357a20520cc"
      }
     },
     "metadata": {},
     "output_type": "display_data"
    },
    {
     "name": "stdout",
     "output_type": "stream",
     "text": [
      "Optimizing:  marquez-valdes-scantling\n",
      "Pass\n"
     ]
    },
    {
     "name": "stderr",
     "output_type": "stream",
     "text": [
      "/usr/local/lib/python3.9/site-packages/optuna/progress_bar.py:56: ExperimentalWarning: Progress bar is experimental (supported from v1.2.0). The interface can change in the future.\n",
      "  self._init_valid()\n"
     ]
    },
    {
     "data": {
      "text/plain": "  0%|          | 0/200 [00:00<?, ?it/s]",
      "application/vnd.jupyter.widget-view+json": {
       "version_major": 2,
       "version_minor": 0,
       "model_id": "538a954d00684fdab598cffa7ac332b6"
      }
     },
     "metadata": {},
     "output_type": "display_data"
    },
    {
     "name": "stdout",
     "output_type": "stream",
     "text": [
      "Optimizing:  devin-duvernay\n"
     ]
    },
    {
     "name": "stderr",
     "output_type": "stream",
     "text": [
      "/usr/local/lib/python3.9/site-packages/optuna/progress_bar.py:56: ExperimentalWarning: Progress bar is experimental (supported from v1.2.0). The interface can change in the future.\n",
      "  self._init_valid()\n"
     ]
    },
    {
     "data": {
      "text/plain": "  0%|          | 0/200 [00:00<?, ?it/s]",
      "application/vnd.jupyter.widget-view+json": {
       "version_major": 2,
       "version_minor": 0,
       "model_id": "8f480f2d119b459cae667aad9ae06732"
      }
     },
     "metadata": {},
     "output_type": "display_data"
    },
    {
     "name": "stdout",
     "output_type": "stream",
     "text": [
      "Optimizing:  isaiah-mckenzie\n",
      "Pass\n"
     ]
    },
    {
     "name": "stderr",
     "output_type": "stream",
     "text": [
      "/usr/local/lib/python3.9/site-packages/optuna/progress_bar.py:56: ExperimentalWarning: Progress bar is experimental (supported from v1.2.0). The interface can change in the future.\n",
      "  self._init_valid()\n"
     ]
    },
    {
     "data": {
      "text/plain": "  0%|          | 0/200 [00:00<?, ?it/s]",
      "application/vnd.jupyter.widget-view+json": {
       "version_major": 2,
       "version_minor": 0,
       "model_id": "39444fc0ff0340dca697c080c54bb660"
      }
     },
     "metadata": {},
     "output_type": "display_data"
    },
    {
     "name": "stdout",
     "output_type": "stream",
     "text": [
      "Optimizing:  richie-james\n",
      "Pass\n"
     ]
    },
    {
     "name": "stderr",
     "output_type": "stream",
     "text": [
      "/usr/local/lib/python3.9/site-packages/optuna/progress_bar.py:56: ExperimentalWarning: Progress bar is experimental (supported from v1.2.0). The interface can change in the future.\n",
      "  self._init_valid()\n"
     ]
    },
    {
     "data": {
      "text/plain": "  0%|          | 0/200 [00:00<?, ?it/s]",
      "application/vnd.jupyter.widget-view+json": {
       "version_major": 2,
       "version_minor": 0,
       "model_id": "b02b960b982344cc8691f8fcd2e7f3fb"
      }
     },
     "metadata": {},
     "output_type": "display_data"
    },
    {
     "name": "stdout",
     "output_type": "stream",
     "text": [
      "Optimizing:  russell-gage\n",
      "Pass\n"
     ]
    },
    {
     "name": "stderr",
     "output_type": "stream",
     "text": [
      "/usr/local/lib/python3.9/site-packages/optuna/progress_bar.py:56: ExperimentalWarning: Progress bar is experimental (supported from v1.2.0). The interface can change in the future.\n",
      "  self._init_valid()\n"
     ]
    },
    {
     "data": {
      "text/plain": "  0%|          | 0/200 [00:00<?, ?it/s]",
      "application/vnd.jupyter.widget-view+json": {
       "version_major": 2,
       "version_minor": 0,
       "model_id": "4cc7732197ed4469a2aff6fff413de7f"
      }
     },
     "metadata": {},
     "output_type": "display_data"
    },
    {
     "name": "stdout",
     "output_type": "stream",
     "text": [
      "Optimizing:  rashid-shaheed\n",
      "Optimizing:  noah-brown\n",
      "Pass\n"
     ]
    },
    {
     "name": "stderr",
     "output_type": "stream",
     "text": [
      "/usr/local/lib/python3.9/site-packages/optuna/progress_bar.py:56: ExperimentalWarning: Progress bar is experimental (supported from v1.2.0). The interface can change in the future.\n",
      "  self._init_valid()\n"
     ]
    },
    {
     "data": {
      "text/plain": "  0%|          | 0/200 [00:00<?, ?it/s]",
      "application/vnd.jupyter.widget-view+json": {
       "version_major": 2,
       "version_minor": 0,
       "model_id": "051eb952a8ed440bbba7ffc5c76bca7d"
      }
     },
     "metadata": {},
     "output_type": "display_data"
    },
    {
     "name": "stdout",
     "output_type": "stream",
     "text": [
      "Optimizing:  marvin-jones\n",
      "Pass\n"
     ]
    },
    {
     "name": "stderr",
     "output_type": "stream",
     "text": [
      "/usr/local/lib/python3.9/site-packages/optuna/progress_bar.py:56: ExperimentalWarning: Progress bar is experimental (supported from v1.2.0). The interface can change in the future.\n",
      "  self._init_valid()\n"
     ]
    },
    {
     "data": {
      "text/plain": "  0%|          | 0/200 [00:00<?, ?it/s]",
      "application/vnd.jupyter.widget-view+json": {
       "version_major": 2,
       "version_minor": 0,
       "model_id": "afa9cf303a904e57b8e1f9f43ff899dd"
      }
     },
     "metadata": {},
     "output_type": "display_data"
    },
    {
     "name": "stdout",
     "output_type": "stream",
     "text": [
      "Optimizing:  olamide-zaccheaus\n",
      "Pass\n"
     ]
    },
    {
     "name": "stderr",
     "output_type": "stream",
     "text": [
      "/usr/local/lib/python3.9/site-packages/optuna/progress_bar.py:56: ExperimentalWarning: Progress bar is experimental (supported from v1.2.0). The interface can change in the future.\n",
      "  self._init_valid()\n"
     ]
    },
    {
     "data": {
      "text/plain": "  0%|          | 0/200 [00:00<?, ?it/s]",
      "application/vnd.jupyter.widget-view+json": {
       "version_major": 2,
       "version_minor": 0,
       "model_id": "04293ea737cc4fee934b1aff83e4ab0c"
      }
     },
     "metadata": {},
     "output_type": "display_data"
    },
    {
     "name": "stdout",
     "output_type": "stream",
     "text": [
      "Optimizing:  kalif-raymond\n",
      "Pass\n"
     ]
    },
    {
     "name": "stderr",
     "output_type": "stream",
     "text": [
      "/usr/local/lib/python3.9/site-packages/optuna/progress_bar.py:56: ExperimentalWarning: Progress bar is experimental (supported from v1.2.0). The interface can change in the future.\n",
      "  self._init_valid()\n"
     ]
    },
    {
     "data": {
      "text/plain": "  0%|          | 0/200 [00:00<?, ?it/s]",
      "application/vnd.jupyter.widget-view+json": {
       "version_major": 2,
       "version_minor": 0,
       "model_id": "ea3634f6fd6a4e80a9c5f243d215ebe1"
      }
     },
     "metadata": {},
     "output_type": "display_data"
    },
    {
     "name": "stdout",
     "output_type": "stream",
     "text": [
      "Optimizing:  mecole-hardman\n"
     ]
    },
    {
     "name": "stderr",
     "output_type": "stream",
     "text": [
      "/usr/local/lib/python3.9/site-packages/optuna/progress_bar.py:56: ExperimentalWarning: Progress bar is experimental (supported from v1.2.0). The interface can change in the future.\n",
      "  self._init_valid()\n"
     ]
    },
    {
     "data": {
      "text/plain": "  0%|          | 0/200 [00:00<?, ?it/s]",
      "application/vnd.jupyter.widget-view+json": {
       "version_major": 2,
       "version_minor": 0,
       "model_id": "693798d0eeb24c67bf083f4aaf2c096f"
      }
     },
     "metadata": {},
     "output_type": "display_data"
    },
    {
     "name": "stdout",
     "output_type": "stream",
     "text": [
      "Optimizing:  d-j-chark\n",
      "Pass\n"
     ]
    },
    {
     "name": "stderr",
     "output_type": "stream",
     "text": [
      "/usr/local/lib/python3.9/site-packages/optuna/progress_bar.py:56: ExperimentalWarning: Progress bar is experimental (supported from v1.2.0). The interface can change in the future.\n",
      "  self._init_valid()\n"
     ]
    },
    {
     "data": {
      "text/plain": "  0%|          | 0/200 [00:00<?, ?it/s]",
      "application/vnd.jupyter.widget-view+json": {
       "version_major": 2,
       "version_minor": 0,
       "model_id": "4786820e14fb400e8b74b4625038da8f"
      }
     },
     "metadata": {},
     "output_type": "display_data"
    },
    {
     "name": "stdout",
     "output_type": "stream",
     "text": [
      "Optimizing:  chris-moore\n",
      "Pass\n"
     ]
    },
    {
     "name": "stderr",
     "output_type": "stream",
     "text": [
      "/usr/local/lib/python3.9/site-packages/optuna/progress_bar.py:56: ExperimentalWarning: Progress bar is experimental (supported from v1.2.0). The interface can change in the future.\n",
      "  self._init_valid()\n"
     ]
    },
    {
     "data": {
      "text/plain": "  0%|          | 0/200 [00:00<?, ?it/s]",
      "application/vnd.jupyter.widget-view+json": {
       "version_major": 2,
       "version_minor": 0,
       "model_id": "5faefc54d1134ad6b7ae9419c139da68"
      }
     },
     "metadata": {},
     "output_type": "display_data"
    },
    {
     "name": "stdout",
     "output_type": "stream",
     "text": [
      "Optimizing:  deandre-carter\n",
      "Pass\n"
     ]
    },
    {
     "name": "stderr",
     "output_type": "stream",
     "text": [
      "/usr/local/lib/python3.9/site-packages/optuna/progress_bar.py:56: ExperimentalWarning: Progress bar is experimental (supported from v1.2.0). The interface can change in the future.\n",
      "  self._init_valid()\n"
     ]
    },
    {
     "data": {
      "text/plain": "  0%|          | 0/200 [00:00<?, ?it/s]",
      "application/vnd.jupyter.widget-view+json": {
       "version_major": 2,
       "version_minor": 0,
       "model_id": "02e51518088f434c9c7262e97506f3a7"
      }
     },
     "metadata": {},
     "output_type": "display_data"
    },
    {
     "name": "stdout",
     "output_type": "stream",
     "text": [
      "Optimizing:  josh-reynolds\n",
      "Pass\n"
     ]
    },
    {
     "name": "stderr",
     "output_type": "stream",
     "text": [
      "/usr/local/lib/python3.9/site-packages/optuna/progress_bar.py:56: ExperimentalWarning: Progress bar is experimental (supported from v1.2.0). The interface can change in the future.\n",
      "  self._init_valid()\n"
     ]
    },
    {
     "data": {
      "text/plain": "  0%|          | 0/200 [00:00<?, ?it/s]",
      "application/vnd.jupyter.widget-view+json": {
       "version_major": 2,
       "version_minor": 0,
       "model_id": "b1c0451ee6fd4ec18d3d91dd74ea372f"
      }
     },
     "metadata": {},
     "output_type": "display_data"
    },
    {
     "name": "stdout",
     "output_type": "stream",
     "text": [
      "Optimizing:  corey-davis\n",
      "Pass\n"
     ]
    },
    {
     "name": "stderr",
     "output_type": "stream",
     "text": [
      "/usr/local/lib/python3.9/site-packages/optuna/progress_bar.py:56: ExperimentalWarning: Progress bar is experimental (supported from v1.2.0). The interface can change in the future.\n",
      "  self._init_valid()\n"
     ]
    },
    {
     "data": {
      "text/plain": "  0%|          | 0/200 [00:00<?, ?it/s]",
      "application/vnd.jupyter.widget-view+json": {
       "version_major": 2,
       "version_minor": 0,
       "model_id": "510c6de0bf534f9686eb37adca6930a3"
      }
     },
     "metadata": {},
     "output_type": "display_data"
    },
    {
     "name": "stdout",
     "output_type": "stream",
     "text": [
      "Optimizing:  marquise-goodwin\n",
      "Pass\n"
     ]
    },
    {
     "name": "stderr",
     "output_type": "stream",
     "text": [
      "/usr/local/lib/python3.9/site-packages/optuna/progress_bar.py:56: ExperimentalWarning: Progress bar is experimental (supported from v1.2.0). The interface can change in the future.\n",
      "  self._init_valid()\n"
     ]
    },
    {
     "data": {
      "text/plain": "  0%|          | 0/200 [00:00<?, ?it/s]",
      "application/vnd.jupyter.widget-view+json": {
       "version_major": 2,
       "version_minor": 0,
       "model_id": "4a3e40f6c62c42aba386d5f7f11ed2ae"
      }
     },
     "metadata": {},
     "output_type": "display_data"
    },
    {
     "name": "stdout",
     "output_type": "stream",
     "text": [
      "Optimizing:  robert-woods\n",
      "Pass\n"
     ]
    },
    {
     "name": "stderr",
     "output_type": "stream",
     "text": [
      "/usr/local/lib/python3.9/site-packages/optuna/progress_bar.py:56: ExperimentalWarning: Progress bar is experimental (supported from v1.2.0). The interface can change in the future.\n",
      "  self._init_valid()\n"
     ]
    },
    {
     "data": {
      "text/plain": "  0%|          | 0/200 [00:00<?, ?it/s]",
      "application/vnd.jupyter.widget-view+json": {
       "version_major": 2,
       "version_minor": 0,
       "model_id": "dc280b9ee4d84724a6018f2aca217711"
      }
     },
     "metadata": {},
     "output_type": "display_data"
    },
    {
     "name": "stdout",
     "output_type": "stream",
     "text": [
      "Optimizing:  darnell-mooney\n"
     ]
    },
    {
     "name": "stderr",
     "output_type": "stream",
     "text": [
      "/usr/local/lib/python3.9/site-packages/optuna/progress_bar.py:56: ExperimentalWarning: Progress bar is experimental (supported from v1.2.0). The interface can change in the future.\n",
      "  self._init_valid()\n"
     ]
    },
    {
     "data": {
      "text/plain": "  0%|          | 0/200 [00:00<?, ?it/s]",
      "application/vnd.jupyter.widget-view+json": {
       "version_major": 2,
       "version_minor": 0,
       "model_id": "37a20f1ef2954e40a7a30100a845c4f4"
      }
     },
     "metadata": {},
     "output_type": "display_data"
    },
    {
     "name": "stdout",
     "output_type": "stream",
     "text": [
      "Optimizing:  greg-dortch\n",
      "Pass\n"
     ]
    },
    {
     "name": "stderr",
     "output_type": "stream",
     "text": [
      "/usr/local/lib/python3.9/site-packages/optuna/progress_bar.py:56: ExperimentalWarning: Progress bar is experimental (supported from v1.2.0). The interface can change in the future.\n",
      "  self._init_valid()\n"
     ]
    },
    {
     "data": {
      "text/plain": "  0%|          | 0/200 [00:00<?, ?it/s]",
      "application/vnd.jupyter.widget-view+json": {
       "version_major": 2,
       "version_minor": 0,
       "model_id": "398142aa1238405aaaa0db876b886a9e"
      }
     },
     "metadata": {},
     "output_type": "display_data"
    },
    {
     "name": "stdout",
     "output_type": "stream",
     "text": [
      "Optimizing:  romeo-doubs\n",
      "Optimizing:  chase-claypool\n"
     ]
    },
    {
     "name": "stderr",
     "output_type": "stream",
     "text": [
      "/usr/local/lib/python3.9/site-packages/optuna/progress_bar.py:56: ExperimentalWarning: Progress bar is experimental (supported from v1.2.0). The interface can change in the future.\n",
      "  self._init_valid()\n"
     ]
    },
    {
     "data": {
      "text/plain": "  0%|          | 0/200 [00:00<?, ?it/s]",
      "application/vnd.jupyter.widget-view+json": {
       "version_major": 2,
       "version_minor": 0,
       "model_id": "a8897f575965496a96f3ebc95c1bd3ab"
      }
     },
     "metadata": {},
     "output_type": "display_data"
    },
    {
     "name": "stdout",
     "output_type": "stream",
     "text": [
      "Optimizing:  demarcus-robinson\n",
      "Pass\n"
     ]
    },
    {
     "name": "stderr",
     "output_type": "stream",
     "text": [
      "/usr/local/lib/python3.9/site-packages/optuna/progress_bar.py:56: ExperimentalWarning: Progress bar is experimental (supported from v1.2.0). The interface can change in the future.\n",
      "  self._init_valid()\n"
     ]
    },
    {
     "data": {
      "text/plain": "  0%|          | 0/200 [00:00<?, ?it/s]",
      "application/vnd.jupyter.widget-view+json": {
       "version_major": 2,
       "version_minor": 0,
       "model_id": "c7b3f596c6cd402da90c97aa2c9645ea"
      }
     },
     "metadata": {},
     "output_type": "display_data"
    },
    {
     "name": "stdout",
     "output_type": "stream",
     "text": [
      "Optimizing:  treylon-burks\n",
      "Optimizing:  van-jefferson\n",
      "Pass\n"
     ]
    },
    {
     "name": "stderr",
     "output_type": "stream",
     "text": [
      "/usr/local/lib/python3.9/site-packages/optuna/progress_bar.py:56: ExperimentalWarning: Progress bar is experimental (supported from v1.2.0). The interface can change in the future.\n",
      "  self._init_valid()\n"
     ]
    },
    {
     "data": {
      "text/plain": "  0%|          | 0/200 [00:00<?, ?it/s]",
      "application/vnd.jupyter.widget-view+json": {
       "version_major": 2,
       "version_minor": 0,
       "model_id": "78ed5097df69435da7622e3a76616bf4"
      }
     },
     "metadata": {},
     "output_type": "display_data"
    },
    {
     "name": "stdout",
     "output_type": "stream",
     "text": [
      "Optimizing:  trent-sherfield\n",
      "Pass\n"
     ]
    },
    {
     "name": "stderr",
     "output_type": "stream",
     "text": [
      "/usr/local/lib/python3.9/site-packages/optuna/progress_bar.py:56: ExperimentalWarning: Progress bar is experimental (supported from v1.2.0). The interface can change in the future.\n",
      "  self._init_valid()\n"
     ]
    },
    {
     "data": {
      "text/plain": "  0%|          | 0/200 [00:00<?, ?it/s]",
      "application/vnd.jupyter.widget-view+json": {
       "version_major": 2,
       "version_minor": 0,
       "model_id": "da3387e61b5543e29c8263b155b6a63c"
      }
     },
     "metadata": {},
     "output_type": "display_data"
    },
    {
     "name": "stdout",
     "output_type": "stream",
     "text": [
      "Optimizing:  kendrick-bourne\n",
      "Pass\n"
     ]
    },
    {
     "name": "stderr",
     "output_type": "stream",
     "text": [
      "/usr/local/lib/python3.9/site-packages/optuna/progress_bar.py:56: ExperimentalWarning: Progress bar is experimental (supported from v1.2.0). The interface can change in the future.\n",
      "  self._init_valid()\n"
     ]
    },
    {
     "data": {
      "text/plain": "  0%|          | 0/200 [00:00<?, ?it/s]",
      "application/vnd.jupyter.widget-view+json": {
       "version_major": 2,
       "version_minor": 0,
       "model_id": "4640c35685fd4b2eb2148b86a4db5450"
      }
     },
     "metadata": {},
     "output_type": "display_data"
    },
    {
     "name": "stdout",
     "output_type": "stream",
     "text": [
      "Optimizing:  allen-robinson\n",
      "Pass\n"
     ]
    },
    {
     "name": "stderr",
     "output_type": "stream",
     "text": [
      "/usr/local/lib/python3.9/site-packages/optuna/progress_bar.py:56: ExperimentalWarning: Progress bar is experimental (supported from v1.2.0). The interface can change in the future.\n",
      "  self._init_valid()\n"
     ]
    },
    {
     "data": {
      "text/plain": "  0%|          | 0/200 [00:00<?, ?it/s]",
      "application/vnd.jupyter.widget-view+json": {
       "version_major": 2,
       "version_minor": 0,
       "model_id": "645c96b6518a47a39d596c7c65b7d649"
      }
     },
     "metadata": {},
     "output_type": "display_data"
    },
    {
     "name": "stdout",
     "output_type": "stream",
     "text": [
      "Optimizing:  quez-watkins\n",
      "Pass\n"
     ]
    },
    {
     "name": "stderr",
     "output_type": "stream",
     "text": [
      "/usr/local/lib/python3.9/site-packages/optuna/progress_bar.py:56: ExperimentalWarning: Progress bar is experimental (supported from v1.2.0). The interface can change in the future.\n",
      "  self._init_valid()\n"
     ]
    },
    {
     "data": {
      "text/plain": "  0%|          | 0/200 [00:00<?, ?it/s]",
      "application/vnd.jupyter.widget-view+json": {
       "version_major": 2,
       "version_minor": 0,
       "model_id": "278aff5405cf4adc9bf24a274a73123f"
      }
     },
     "metadata": {},
     "output_type": "display_data"
    },
    {
     "name": "stdout",
     "output_type": "stream",
     "text": [
      "Optimizing:  elijah-moore\n",
      "Optimizing:  jamal-agnew\n"
     ]
    },
    {
     "name": "stderr",
     "output_type": "stream",
     "text": [
      "/usr/local/lib/python3.9/site-packages/optuna/progress_bar.py:56: ExperimentalWarning: Progress bar is experimental (supported from v1.2.0). The interface can change in the future.\n",
      "  self._init_valid()\n"
     ]
    },
    {
     "data": {
      "text/plain": "  0%|          | 0/200 [00:00<?, ?it/s]",
      "application/vnd.jupyter.widget-view+json": {
       "version_major": 2,
       "version_minor": 0,
       "model_id": "adf24b2e2f444699908091a5c09f9639"
      }
     },
     "metadata": {},
     "output_type": "display_data"
    },
    {
     "name": "stdout",
     "output_type": "stream",
     "text": [
      "Optimizing:  trenton-irwin\n",
      "Pass\n"
     ]
    },
    {
     "name": "stderr",
     "output_type": "stream",
     "text": [
      "/usr/local/lib/python3.9/site-packages/optuna/progress_bar.py:56: ExperimentalWarning: Progress bar is experimental (supported from v1.2.0). The interface can change in the future.\n",
      "  self._init_valid()\n"
     ]
    },
    {
     "data": {
      "text/plain": "  0%|          | 0/200 [00:00<?, ?it/s]",
      "application/vnd.jupyter.widget-view+json": {
       "version_major": 2,
       "version_minor": 0,
       "model_id": "c7a8636e513f4779849ea456a95b1535"
      }
     },
     "metadata": {},
     "output_type": "display_data"
    },
    {
     "name": "stdout",
     "output_type": "stream",
     "text": [
      "Optimizing:  randall-cobb\n",
      "Pass\n"
     ]
    },
    {
     "name": "stderr",
     "output_type": "stream",
     "text": [
      "/usr/local/lib/python3.9/site-packages/optuna/progress_bar.py:56: ExperimentalWarning: Progress bar is experimental (supported from v1.2.0). The interface can change in the future.\n",
      "  self._init_valid()\n"
     ]
    },
    {
     "data": {
      "text/plain": "  0%|          | 0/200 [00:00<?, ?it/s]",
      "application/vnd.jupyter.widget-view+json": {
       "version_major": 2,
       "version_minor": 0,
       "model_id": "4d4b6df9880d4087a63c8e78a6ab1581"
      }
     },
     "metadata": {},
     "output_type": "display_data"
    },
    {
     "name": "stdout",
     "output_type": "stream",
     "text": [
      "Optimizing:  rondale-moore\n",
      "Optimizing:  julio-jones\n",
      "Pass\n"
     ]
    },
    {
     "name": "stderr",
     "output_type": "stream",
     "text": [
      "/usr/local/lib/python3.9/site-packages/optuna/progress_bar.py:56: ExperimentalWarning: Progress bar is experimental (supported from v1.2.0). The interface can change in the future.\n",
      "  self._init_valid()\n"
     ]
    },
    {
     "data": {
      "text/plain": "  0%|          | 0/200 [00:00<?, ?it/s]",
      "application/vnd.jupyter.widget-view+json": {
       "version_major": 2,
       "version_minor": 0,
       "model_id": "8db2b0fbaff743ffa4dc6a9e20d28c9c"
      }
     },
     "metadata": {},
     "output_type": "display_data"
    },
    {
     "name": "stdout",
     "output_type": "stream",
     "text": [
      "Optimizing:  dante-pettis\n",
      "Pass\n"
     ]
    },
    {
     "name": "stderr",
     "output_type": "stream",
     "text": [
      "/usr/local/lib/python3.9/site-packages/optuna/progress_bar.py:56: ExperimentalWarning: Progress bar is experimental (supported from v1.2.0). The interface can change in the future.\n",
      "  self._init_valid()\n"
     ]
    },
    {
     "data": {
      "text/plain": "  0%|          | 0/200 [00:00<?, ?it/s]",
      "application/vnd.jupyter.widget-view+json": {
       "version_major": 2,
       "version_minor": 0,
       "model_id": "72de783183f24193a266a73ff31422ea"
      }
     },
     "metadata": {},
     "output_type": "display_data"
    },
    {
     "name": "stdout",
     "output_type": "stream",
     "text": [
      "Optimizing:  ben-skowronek\n",
      "Pass\n",
      "Optimizing:  tutu-atwell\n",
      "Pass\n",
      "Optimizing:  tyquan-thornton\n",
      "Optimizing:  nelson-agholor\n",
      "Pass\n"
     ]
    },
    {
     "name": "stderr",
     "output_type": "stream",
     "text": [
      "/usr/local/lib/python3.9/site-packages/optuna/progress_bar.py:56: ExperimentalWarning: Progress bar is experimental (supported from v1.2.0). The interface can change in the future.\n",
      "  self._init_valid()\n"
     ]
    },
    {
     "data": {
      "text/plain": "  0%|          | 0/200 [00:00<?, ?it/s]",
      "application/vnd.jupyter.widget-view+json": {
       "version_major": 2,
       "version_minor": 0,
       "model_id": "0c2f71463b874065a80f96938a238896"
      }
     },
     "metadata": {},
     "output_type": "display_data"
    },
    {
     "name": "stdout",
     "output_type": "stream",
     "text": [
      "Optimizing:  justin-watson\n",
      "Pass\n"
     ]
    },
    {
     "name": "stderr",
     "output_type": "stream",
     "text": [
      "/usr/local/lib/python3.9/site-packages/optuna/progress_bar.py:56: ExperimentalWarning: Progress bar is experimental (supported from v1.2.0). The interface can change in the future.\n",
      "  self._init_valid()\n"
     ]
    },
    {
     "data": {
      "text/plain": "  0%|          | 0/200 [00:00<?, ?it/s]",
      "application/vnd.jupyter.widget-view+json": {
       "version_major": 2,
       "version_minor": 0,
       "model_id": "fd9325f1e8054d45a578e9b287a233e2"
      }
     },
     "metadata": {},
     "output_type": "display_data"
    },
    {
     "name": "stdout",
     "output_type": "stream",
     "text": [
      "Optimizing:  hunter-renfrow\n",
      "Pass\n"
     ]
    },
    {
     "name": "stderr",
     "output_type": "stream",
     "text": [
      "/usr/local/lib/python3.9/site-packages/optuna/progress_bar.py:56: ExperimentalWarning: Progress bar is experimental (supported from v1.2.0). The interface can change in the future.\n",
      "  self._init_valid()\n"
     ]
    },
    {
     "data": {
      "text/plain": "  0%|          | 0/200 [00:00<?, ?it/s]",
      "application/vnd.jupyter.widget-view+json": {
       "version_major": 2,
       "version_minor": 0,
       "model_id": "4b61661ce60547859109b8f8ca7ea97c"
      }
     },
     "metadata": {},
     "output_type": "display_data"
    },
    {
     "name": "stdout",
     "output_type": "stream",
     "text": [
      "Optimizing:  kadarius-toney\n"
     ]
    },
    {
     "name": "stderr",
     "output_type": "stream",
     "text": [
      "/usr/local/lib/python3.9/site-packages/optuna/progress_bar.py:56: ExperimentalWarning: Progress bar is experimental (supported from v1.2.0). The interface can change in the future.\n",
      "  self._init_valid()\n"
     ]
    },
    {
     "data": {
      "text/plain": "  0%|          | 0/200 [00:00<?, ?it/s]",
      "application/vnd.jupyter.widget-view+json": {
       "version_major": 2,
       "version_minor": 0,
       "model_id": "aecf369d79864559bef3fd026a3f0e4a"
      }
     },
     "metadata": {},
     "output_type": "display_data"
    },
    {
     "name": "stdout",
     "output_type": "stream",
     "text": [
      "Optimizing:  braxton-berrios\n",
      "Pass\n"
     ]
    },
    {
     "name": "stderr",
     "output_type": "stream",
     "text": [
      "/usr/local/lib/python3.9/site-packages/optuna/progress_bar.py:56: ExperimentalWarning: Progress bar is experimental (supported from v1.2.0). The interface can change in the future.\n",
      "  self._init_valid()\n"
     ]
    },
    {
     "data": {
      "text/plain": "  0%|          | 0/200 [00:00<?, ?it/s]",
      "application/vnd.jupyter.widget-view+json": {
       "version_major": 2,
       "version_minor": 0,
       "model_id": "bb20602594e14279bcb1aeb678cdf3b9"
      }
     },
     "metadata": {},
     "output_type": "display_data"
    },
    {
     "name": "stdout",
     "output_type": "stream",
     "text": [
      "Optimizing:  shi-smith\n",
      "Pass\n",
      "Optimizing:  damiere-byrd\n",
      "Pass\n"
     ]
    },
    {
     "name": "stderr",
     "output_type": "stream",
     "text": [
      "/usr/local/lib/python3.9/site-packages/optuna/progress_bar.py:56: ExperimentalWarning: Progress bar is experimental (supported from v1.2.0). The interface can change in the future.\n",
      "  self._init_valid()\n"
     ]
    },
    {
     "data": {
      "text/plain": "  0%|          | 0/200 [00:00<?, ?it/s]",
      "application/vnd.jupyter.widget-view+json": {
       "version_major": 2,
       "version_minor": 0,
       "model_id": "a8db6781530e486b9dbcb1ca4646eb59"
      }
     },
     "metadata": {},
     "output_type": "display_data"
    },
    {
     "name": "stdout",
     "output_type": "stream",
     "text": [
      "Optimizing:  a-j-green\n",
      "Pass\n"
     ]
    },
    {
     "name": "stderr",
     "output_type": "stream",
     "text": [
      "/usr/local/lib/python3.9/site-packages/optuna/progress_bar.py:56: ExperimentalWarning: Progress bar is experimental (supported from v1.2.0). The interface can change in the future.\n",
      "  self._init_valid()\n"
     ]
    },
    {
     "data": {
      "text/plain": "  0%|          | 0/200 [00:00<?, ?it/s]",
      "application/vnd.jupyter.widget-view+json": {
       "version_major": 2,
       "version_minor": 0,
       "model_id": "6bf94414d2264d4c8cb1f9e7700fa62a"
      }
     },
     "metadata": {},
     "output_type": "display_data"
    },
    {
     "name": "stdout",
     "output_type": "stream",
     "text": [
      "Optimizing:  jarvis-landry\n",
      "Pass\n"
     ]
    },
    {
     "name": "stderr",
     "output_type": "stream",
     "text": [
      "/usr/local/lib/python3.9/site-packages/optuna/progress_bar.py:56: ExperimentalWarning: Progress bar is experimental (supported from v1.2.0). The interface can change in the future.\n",
      "  self._init_valid()\n"
     ]
    },
    {
     "data": {
      "text/plain": "  0%|          | 0/200 [00:00<?, ?it/s]",
      "application/vnd.jupyter.widget-view+json": {
       "version_major": 2,
       "version_minor": 0,
       "model_id": "f50fc959777c49298f08429bebfe2329"
      }
     },
     "metadata": {},
     "output_type": "display_data"
    },
    {
     "name": "stdout",
     "output_type": "stream",
     "text": [
      "Optimizing:  michael-thomas\n",
      "Pass\n"
     ]
    },
    {
     "name": "stderr",
     "output_type": "stream",
     "text": [
      "/usr/local/lib/python3.9/site-packages/optuna/progress_bar.py:56: ExperimentalWarning: Progress bar is experimental (supported from v1.2.0). The interface can change in the future.\n",
      "  self._init_valid()\n"
     ]
    },
    {
     "data": {
      "text/plain": "  0%|          | 0/200 [00:00<?, ?it/s]",
      "application/vnd.jupyter.widget-view+json": {
       "version_major": 2,
       "version_minor": 0,
       "model_id": "2a58946b3c2c4349904b7a55f618a785"
      }
     },
     "metadata": {},
     "output_type": "display_data"
    },
    {
     "name": "stdout",
     "output_type": "stream",
     "text": [
      "Optimizing:  tre-quan-smith\n",
      "Pass\n"
     ]
    },
    {
     "name": "stderr",
     "output_type": "stream",
     "text": [
      "/usr/local/lib/python3.9/site-packages/optuna/progress_bar.py:56: ExperimentalWarning: Progress bar is experimental (supported from v1.2.0). The interface can change in the future.\n",
      "  self._init_valid()\n"
     ]
    },
    {
     "data": {
      "text/plain": "  0%|          | 0/200 [00:00<?, ?it/s]",
      "application/vnd.jupyter.widget-view+json": {
       "version_major": 2,
       "version_minor": 0,
       "model_id": "060b10c138bd49b49dbf19daca6673ee"
      }
     },
     "metadata": {},
     "output_type": "display_data"
    },
    {
     "name": "stdout",
     "output_type": "stream",
     "text": [
      "Optimizing:  kendall-hinton\n",
      "Pass\n"
     ]
    },
    {
     "name": "stderr",
     "output_type": "stream",
     "text": [
      "/usr/local/lib/python3.9/site-packages/optuna/progress_bar.py:56: ExperimentalWarning: Progress bar is experimental (supported from v1.2.0). The interface can change in the future.\n",
      "  self._init_valid()\n"
     ]
    },
    {
     "data": {
      "text/plain": "  0%|          | 0/200 [00:00<?, ?it/s]",
      "application/vnd.jupyter.widget-view+json": {
       "version_major": 2,
       "version_minor": 0,
       "model_id": "eb6ca834364e4257835ff62d203b20b9"
      }
     },
     "metadata": {},
     "output_type": "display_data"
    },
    {
     "name": "stdout",
     "output_type": "stream",
     "text": [
      "Optimizing:  robbie-anderson\n",
      "Pass\n"
     ]
    },
    {
     "name": "stderr",
     "output_type": "stream",
     "text": [
      "/usr/local/lib/python3.9/site-packages/optuna/progress_bar.py:56: ExperimentalWarning: Progress bar is experimental (supported from v1.2.0). The interface can change in the future.\n",
      "  self._init_valid()\n"
     ]
    },
    {
     "data": {
      "text/plain": "  0%|          | 0/200 [00:00<?, ?it/s]",
      "application/vnd.jupyter.widget-view+json": {
       "version_major": 2,
       "version_minor": 0,
       "model_id": "146f8b78ef8242e3b524d0caf8f88d6f"
      }
     },
     "metadata": {},
     "output_type": "display_data"
    },
    {
     "name": "stdout",
     "output_type": "stream",
     "text": [
      "Optimizing:  phillip-dorsett\n",
      "Pass\n"
     ]
    },
    {
     "name": "stderr",
     "output_type": "stream",
     "text": [
      "/usr/local/lib/python3.9/site-packages/optuna/progress_bar.py:56: ExperimentalWarning: Progress bar is experimental (supported from v1.2.0). The interface can change in the future.\n",
      "  self._init_valid()\n"
     ]
    },
    {
     "data": {
      "text/plain": "  0%|          | 0/200 [00:00<?, ?it/s]",
      "application/vnd.jupyter.widget-view+json": {
       "version_major": 2,
       "version_minor": 0,
       "model_id": "65fe054c68724217beedb98db1db9575"
      }
     },
     "metadata": {},
     "output_type": "display_data"
    },
    {
     "name": "stdout",
     "output_type": "stream",
     "text": [
      "Optimizing:  sammy-watkins\n",
      "Pass\n"
     ]
    },
    {
     "name": "stderr",
     "output_type": "stream",
     "text": [
      "/usr/local/lib/python3.9/site-packages/optuna/progress_bar.py:56: ExperimentalWarning: Progress bar is experimental (supported from v1.2.0). The interface can change in the future.\n",
      "  self._init_valid()\n"
     ]
    },
    {
     "data": {
      "text/plain": "  0%|          | 0/200 [00:00<?, ?it/s]",
      "application/vnd.jupyter.widget-view+json": {
       "version_major": 2,
       "version_minor": 0,
       "model_id": "927a953ddd6e4b59876f0e5ac1b57a89"
      }
     },
     "metadata": {},
     "output_type": "display_data"
    },
    {
     "name": "stdout",
     "output_type": "stream",
     "text": [
      "Optimizing:  wan-dale-robinson\n"
     ]
    }
   ],
   "source": [
    "best_sets = []\n",
    "\n",
    "with open('wrs.csv', mode ='r') as file:\n",
    "    f = csv.reader(file)\n",
    "\n",
    "    for row in f:\n",
    "        fantasy_points = []\n",
    "        player, pos = row[0], row[1]\n",
    "        print(\"Optimizing: \", player)\n",
    "        # for wr\n",
    "        df = scrape(1, pos, player)  # get rushing\n",
    "        df2 = scrape(0, pos, player)  # get receiving\n",
    "\n",
    "        for i in range(df.shape[0] - 1):\n",
    "            # rushing TD\n",
    "            rush_td = df.at[i, 'TD']\n",
    "            points = (rush_td * 6)\n",
    "\n",
    "            # rushing YDs\n",
    "            rush_yds = df.at[i, 'YDS'] * 0.1\n",
    "            points += rush_yds\n",
    "\n",
    "            # receiving TD\n",
    "            rush_td = df2.at[i, 'TD']\n",
    "            points += (rush_td * 6)\n",
    "\n",
    "            # receiving YDs\n",
    "            rush_yds = df2.at[i, 'YDS'] * 0.1\n",
    "            points += rush_yds\n",
    "\n",
    "            fantasy_points.append(points)\n",
    "\n",
    "\n",
    "        df, df2, fantasy_points = helper(df, df2, fantasy_points)\n",
    "\n",
    "        # copy dataframe to make the target column for the XGBoost\n",
    "        temp = pd.DataFrame()\n",
    "\n",
    "\n",
    "        if df.isnull().sum().sum() >= (df.shape[0]/2):\n",
    "            print(\"Pass\")\n",
    "        else:\n",
    "            temp['ru-ATT'] = df['ATT']\n",
    "            temp['ru-YDS'] = df['YDS']\n",
    "            temp['ru-AVG'] = df['AVG']\n",
    "            temp['ru-LNG'] = df['LNG']\n",
    "            temp['ru-TD'] = df['TD']\n",
    "            temp['ru-1st'] = df['1st']\n",
    "            temp['ru-1st%'] = df['1st%']\n",
    "            temp['ru-20+'] = df['20+']\n",
    "            temp['ru-40+'] = df['40+']\n",
    "            temp['ru-FUM'] = df['FUM']\n",
    "\n",
    "        temp['re-REC'] = df2['REC']\n",
    "        temp['re-YDS'] = df2['YDS']\n",
    "        temp['re-AVG'] = df2['AVG']\n",
    "        temp['re-LNG'] = df2['LNG']\n",
    "        temp['re-TD'] = df2['TD']\n",
    "        temp['re-1st'] = df2['1st']\n",
    "        temp['re-1st'] = df2['1st%']\n",
    "        temp['re-20+'] = df2['20+']\n",
    "        temp['re-40+'] = df2['40+']\n",
    "\n",
    "        temp['Fantasy Points'] = df['Fantasy Points']\n",
    "        target = df['Fantasy Points'].tolist()\n",
    "        target.pop(0)\n",
    "        target.append(0)\n",
    "        temp['Target'] = target\n",
    "        df = temp\n",
    "        df = df[::-1]  # reverse the rows\n",
    "\n",
    "        df = df.fillna(0)\n",
    "        df = df.iloc[1:]\n",
    "\n",
    "        #print(df.shape[0])\n",
    "\n",
    "        if df.shape[0] > 1:\n",
    "            data, label = df.iloc[:, :-1], df.iloc[:, -1]\n",
    "            xgb.DMatrix(data=data, label=label, enable_categorical=True)\n",
    "\n",
    "            data_train, data_test = data.iloc[1:], data.iloc[:1]  # most recent season\n",
    "            label_train, label_test = label.iloc[1:], label.iloc[:1]\n",
    "\n",
    "            scaler = StandardScaler()\n",
    "            #print(data_train)\n",
    "            data_train = scaler.fit_transform(data_train)\n",
    "            data_test = scaler.transform(data_test)\n",
    "\n",
    "            model = xgb.XGBRegressor()\n",
    "            model.fit(data_train, label_train)\n",
    "            preds = model.predict(data_test)\n",
    "\n",
    "            # optimize parameters\n",
    "            num_trials = 200\n",
    "\n",
    "            start = time.time()\n",
    "            optuna.logging.set_verbosity(optuna.logging.WARNING)\n",
    "            study = optuna.create_study(direction='minimize', study_name='regression') # when first run\n",
    "            #study = joblib.load('qb.pkl')\n",
    "            study.optimize(objective, n_trials=num_trials, show_progress_bar=True, n_jobs=-1)\n",
    "\n",
    "            #joblib.dump(study, \"test.pkl\")  # save study\n",
    "\n",
    "            # result = study.best_params\n",
    "            result = study.best_trial.params\n",
    "            #print(\"Time: \", time.time() - start)\n",
    "            #print(result)\n",
    "            best_sets.append(result)"
   ],
   "metadata": {
    "collapsed": false
   }
  },
  {
   "cell_type": "code",
   "execution_count": 9,
   "outputs": [
    {
     "data": {
      "text/plain": "[{'max_depth': 10,\n  'learning_rate': 0.16587068830863264,\n  'n_estimators': 226,\n  'min_child_weight': 1,\n  'gamma': 0.3146387028699212,\n  'subsample': 0.32372774612408295,\n  'colsample_bytree': 0.44213089791859006,\n  'reg_alpha': 0.20554556324520204,\n  'reg_lambda': 0.32589644248761473,\n  'random_state': 582},\n {'max_depth': 4,\n  'learning_rate': 0.11322068217860831,\n  'n_estimators': 241,\n  'min_child_weight': 7,\n  'gamma': 0.3161590328671536,\n  'subsample': 0.8170993965371112,\n  'colsample_bytree': 0.046405139171371186,\n  'reg_alpha': 0.10389671431278173,\n  'reg_lambda': 0.5274914909284939,\n  'random_state': 980},\n {'max_depth': 10,\n  'learning_rate': 0.27835683534307926,\n  'n_estimators': 633,\n  'min_child_weight': 2,\n  'gamma': 0.9746811218263312,\n  'subsample': 0.7657647415850631,\n  'colsample_bytree': 0.01569900238017724,\n  'reg_alpha': 0.13516654838477699,\n  'reg_lambda': 0.37582528844797125,\n  'random_state': 728},\n {'max_depth': 10,\n  'learning_rate': 0.017134871574546864,\n  'n_estimators': 136,\n  'min_child_weight': 5,\n  'gamma': 0.6366566991397627,\n  'subsample': 0.2606080347863217,\n  'colsample_bytree': 0.08472031663267902,\n  'reg_alpha': 0.9758668018670063,\n  'reg_lambda': 0.25603167623219664,\n  'random_state': 75},\n {'max_depth': 10,\n  'learning_rate': 0.2565581957489365,\n  'n_estimators': 467,\n  'min_child_weight': 1,\n  'gamma': 0.8773165157663286,\n  'subsample': 0.8988095256641634,\n  'colsample_bytree': 0.6135581650172689,\n  'reg_alpha': 0.5123732754494115,\n  'reg_lambda': 0.22664899934902855,\n  'random_state': 236},\n {'max_depth': 9,\n  'learning_rate': 0.18138317994967806,\n  'n_estimators': 280,\n  'min_child_weight': 1,\n  'gamma': 0.8466942652656654,\n  'subsample': 0.8059425853067531,\n  'colsample_bytree': 0.792023577942619,\n  'reg_alpha': 0.010317573426078839,\n  'reg_lambda': 0.8411132435887442,\n  'random_state': 879},\n {'max_depth': 5,\n  'learning_rate': 0.14611157728176827,\n  'n_estimators': 129,\n  'min_child_weight': 9,\n  'gamma': 0.4561946904160188,\n  'subsample': 0.3974369953143176,\n  'colsample_bytree': 0.2378158721002945,\n  'reg_alpha': 0.1684463986016461,\n  'reg_lambda': 0.2870486155845694,\n  'random_state': 176},\n {'max_depth': 3,\n  'learning_rate': 0.24655776294254694,\n  'n_estimators': 662,\n  'min_child_weight': 1,\n  'gamma': 0.740057325464881,\n  'subsample': 0.8992004792632033,\n  'colsample_bytree': 0.677427778568902,\n  'reg_alpha': 0.5265849385543482,\n  'reg_lambda': 0.03094584240480548,\n  'random_state': 307},\n {'max_depth': 4,\n  'learning_rate': 0.23569422168932597,\n  'n_estimators': 208,\n  'min_child_weight': 9,\n  'gamma': 0.7770533150523316,\n  'subsample': 0.9901603397567263,\n  'colsample_bytree': 0.7975466813083116,\n  'reg_alpha': 0.16607037301090968,\n  'reg_lambda': 0.9535641765393396,\n  'random_state': 71},\n {'max_depth': 1,\n  'learning_rate': 0.26035478204315,\n  'n_estimators': 921,\n  'min_child_weight': 2,\n  'gamma': 0.34632820840028034,\n  'subsample': 0.7316077012686418,\n  'colsample_bytree': 0.9917999215056507,\n  'reg_alpha': 0.010094971733396432,\n  'reg_lambda': 0.8078998261957169,\n  'random_state': 62},\n {'max_depth': 9,\n  'learning_rate': 0.09150961885697824,\n  'n_estimators': 188,\n  'min_child_weight': 1,\n  'gamma': 0.6897573611683895,\n  'subsample': 0.8580563556775653,\n  'colsample_bytree': 0.5350058637679527,\n  'reg_alpha': 0.3228020496815222,\n  'reg_lambda': 0.3617113515412583,\n  'random_state': 58},\n {'max_depth': 9,\n  'learning_rate': 0.16780794444059677,\n  'n_estimators': 204,\n  'min_child_weight': 8,\n  'gamma': 0.9626876797794663,\n  'subsample': 0.8829801147181702,\n  'colsample_bytree': 0.18636240643379526,\n  'reg_alpha': 0.34276998421922167,\n  'reg_lambda': 0.9958754222152161,\n  'random_state': 305},\n {'max_depth': 10,\n  'learning_rate': 0.1071551926602121,\n  'n_estimators': 445,\n  'min_child_weight': 1,\n  'gamma': 0.07838095817231211,\n  'subsample': 0.3055140242275821,\n  'colsample_bytree': 0.5816873578600487,\n  'reg_alpha': 0.010505815617296795,\n  'reg_lambda': 0.8857550138487468,\n  'random_state': 859},\n {'max_depth': 3,\n  'learning_rate': 0.11788424113589727,\n  'n_estimators': 238,\n  'min_child_weight': 1,\n  'gamma': 0.8462448946543183,\n  'subsample': 0.6921551142561129,\n  'colsample_bytree': 0.8733969834606605,\n  'reg_alpha': 0.010265428396816496,\n  'reg_lambda': 0.50166927025226,\n  'random_state': 927},\n {'max_depth': 6,\n  'learning_rate': 0.2680018781217011,\n  'n_estimators': 211,\n  'min_child_weight': 7,\n  'gamma': 0.9998181617174305,\n  'subsample': 0.25401445953952606,\n  'colsample_bytree': 0.614947275401209,\n  'reg_alpha': 0.8674024424584276,\n  'reg_lambda': 0.8635921436474626,\n  'random_state': 301},\n {'max_depth': 3,\n  'learning_rate': 0.2590677837137367,\n  'n_estimators': 40,\n  'min_child_weight': 1,\n  'gamma': 0.8424762700007462,\n  'subsample': 0.9945027502694328,\n  'colsample_bytree': 0.33752364342534774,\n  'reg_alpha': 0.9335864550447711,\n  'reg_lambda': 0.9638624279967115,\n  'random_state': 276},\n {'max_depth': 10,\n  'learning_rate': 0.15857536770969485,\n  'n_estimators': 134,\n  'min_child_weight': 1,\n  'gamma': 0.11837792994448991,\n  'subsample': 0.34494094094457123,\n  'colsample_bytree': 0.9814056621563515,\n  'reg_alpha': 0.6627910011559732,\n  'reg_lambda': 0.7293856392191888,\n  'random_state': 899},\n {'max_depth': 10,\n  'learning_rate': 0.2746571665675518,\n  'n_estimators': 392,\n  'min_child_weight': 1,\n  'gamma': 0.9999295126142511,\n  'subsample': 0.9652446566776902,\n  'colsample_bytree': 0.4146554123963262,\n  'reg_alpha': 0.010063730847063718,\n  'reg_lambda': 0.633921609101711,\n  'random_state': 438},\n {'max_depth': 1,\n  'learning_rate': 0.18587455051772472,\n  'n_estimators': 945,\n  'min_child_weight': 1,\n  'gamma': 0.42302091831597205,\n  'subsample': 0.7192813026028435,\n  'colsample_bytree': 0.04885928084064159,\n  'reg_alpha': 0.5205152869830895,\n  'reg_lambda': 0.640329612156606,\n  'random_state': 636},\n {'max_depth': 4,\n  'learning_rate': 0.2778818864909403,\n  'n_estimators': 593,\n  'min_child_weight': 1,\n  'gamma': 0.7211689247617944,\n  'subsample': 0.013265967395315163,\n  'colsample_bytree': 0.9804016772252329,\n  'reg_alpha': 0.04596348162946572,\n  'reg_lambda': 0.9994571640812915,\n  'random_state': 1000},\n {'max_depth': 6,\n  'learning_rate': 0.05871285355014965,\n  'n_estimators': 62,\n  'min_child_weight': 8,\n  'gamma': 0.8431817252445013,\n  'subsample': 0.02831203410639562,\n  'colsample_bytree': 0.4408987488869989,\n  'reg_alpha': 0.3213734428348185,\n  'reg_lambda': 0.9236977841912316,\n  'random_state': 924},\n {'max_depth': 3,\n  'learning_rate': 0.03011245011603951,\n  'n_estimators': 148,\n  'min_child_weight': 2,\n  'gamma': 0.04117517491991269,\n  'subsample': 0.6491400579845862,\n  'colsample_bytree': 0.10093809265163783,\n  'reg_alpha': 0.8281696518620066,\n  'reg_lambda': 0.4182630681035253,\n  'random_state': 650},\n {'max_depth': 3,\n  'learning_rate': 0.09904248587884629,\n  'n_estimators': 374,\n  'min_child_weight': 2,\n  'gamma': 0.1718763642903318,\n  'subsample': 0.6403181852036507,\n  'colsample_bytree': 0.7213073910786404,\n  'reg_alpha': 0.13177047725169758,\n  'reg_lambda': 0.8911270111328609,\n  'random_state': 743},\n {'max_depth': 9,\n  'learning_rate': 0.13952623466238304,\n  'n_estimators': 168,\n  'min_child_weight': 7,\n  'gamma': 0.6575961804620153,\n  'subsample': 0.679604952430288,\n  'colsample_bytree': 0.5533196411986984,\n  'reg_alpha': 0.012467491051943412,\n  'reg_lambda': 0.4384566257410587,\n  'random_state': 793},\n {'max_depth': 9,\n  'learning_rate': 0.19092083266379548,\n  'n_estimators': 972,\n  'min_child_weight': 1,\n  'gamma': 0.035561387045938746,\n  'subsample': 0.8822840295005195,\n  'colsample_bytree': 0.8989959097391901,\n  'reg_alpha': 0.2396921158182625,\n  'reg_lambda': 0.1570598242362683,\n  'random_state': 689},\n {'max_depth': 2,\n  'learning_rate': 0.17510443313769242,\n  'n_estimators': 489,\n  'min_child_weight': 1,\n  'gamma': 0.49042308588473427,\n  'subsample': 0.15729936808684555,\n  'colsample_bytree': 0.2801877190255798,\n  'reg_alpha': 0.7735970997485889,\n  'reg_lambda': 0.1424880763689434,\n  'random_state': 327},\n {'max_depth': 1,\n  'learning_rate': 0.16489389633394916,\n  'n_estimators': 1000,\n  'min_child_weight': 1,\n  'gamma': 0.9756396334047962,\n  'subsample': 0.2505288862779786,\n  'colsample_bytree': 0.7906762699863743,\n  'reg_alpha': 0.7446154765718273,\n  'reg_lambda': 0.6795469597558079,\n  'random_state': 23},\n {'max_depth': 8,\n  'learning_rate': 0.2665125261957769,\n  'n_estimators': 850,\n  'min_child_weight': 3,\n  'gamma': 0.052294275967723,\n  'subsample': 0.5026323733707907,\n  'colsample_bytree': 0.22270841117734136,\n  'reg_alpha': 0.963347864325256,\n  'reg_lambda': 0.5465722822407015,\n  'random_state': 927},\n {'max_depth': 2,\n  'learning_rate': 0.06661353356769684,\n  'n_estimators': 45,\n  'min_child_weight': 8,\n  'gamma': 0.2802975388223762,\n  'subsample': 0.09086614721892705,\n  'colsample_bytree': 0.8846636996918107,\n  'reg_alpha': 0.9099770269192484,\n  'reg_lambda': 0.6621842525199008,\n  'random_state': 1},\n {'max_depth': 2,\n  'learning_rate': 0.07680447519199411,\n  'n_estimators': 77,\n  'min_child_weight': 8,\n  'gamma': 0.17056766409612867,\n  'subsample': 0.8386149493904924,\n  'colsample_bytree': 0.1881353651731464,\n  'reg_alpha': 0.30680352724000676,\n  'reg_lambda': 0.461291565694345,\n  'random_state': 712},\n {'max_depth': 6,\n  'learning_rate': 0.01743103369991056,\n  'n_estimators': 865,\n  'min_child_weight': 1,\n  'gamma': 0.5993745568372313,\n  'subsample': 0.38584407274748966,\n  'colsample_bytree': 0.04606821272923996,\n  'reg_alpha': 0.2214627725178707,\n  'reg_lambda': 0.88763105433228,\n  'random_state': 430},\n {'max_depth': 5,\n  'learning_rate': 0.24952500917594755,\n  'n_estimators': 332,\n  'min_child_weight': 7,\n  'gamma': 0.38037301673887347,\n  'subsample': 0.8600231979710061,\n  'colsample_bytree': 0.25876378212570844,\n  'reg_alpha': 0.39494928631249226,\n  'reg_lambda': 0.18626576950989152,\n  'random_state': 500},\n {'max_depth': 3,\n  'learning_rate': 0.01702072420395001,\n  'n_estimators': 502,\n  'min_child_weight': 1,\n  'gamma': 0.8106916521901943,\n  'subsample': 0.3666048433712142,\n  'colsample_bytree': 0.6122617795695812,\n  'reg_alpha': 0.6461539910754803,\n  'reg_lambda': 0.4807988592169455,\n  'random_state': 258},\n {'max_depth': 10,\n  'learning_rate': 0.07359088485603792,\n  'n_estimators': 400,\n  'min_child_weight': 1,\n  'gamma': 0.43227167730919486,\n  'subsample': 0.3561438668251442,\n  'colsample_bytree': 0.08905478564966335,\n  'reg_alpha': 0.044947736542638214,\n  'reg_lambda': 0.25176533827188396,\n  'random_state': 608},\n {'max_depth': 7,\n  'learning_rate': 0.018943000969276515,\n  'n_estimators': 961,\n  'min_child_weight': 2,\n  'gamma': 0.21426359157347807,\n  'subsample': 0.23528819889600944,\n  'colsample_bytree': 0.5442117225842034,\n  'reg_alpha': 0.23100393046999945,\n  'reg_lambda': 0.4398295408458473,\n  'random_state': 935},\n {'max_depth': 8,\n  'learning_rate': 0.008820960886862704,\n  'n_estimators': 268,\n  'min_child_weight': 1,\n  'gamma': 0.03846111000986424,\n  'subsample': 0.393086439699493,\n  'colsample_bytree': 0.9751489255776646,\n  'reg_alpha': 0.31499441937503697,\n  'reg_lambda': 0.31888252197909417,\n  'random_state': 14},\n {'max_depth': 5,\n  'learning_rate': 0.017756220203577158,\n  'n_estimators': 924,\n  'min_child_weight': 7,\n  'gamma': 0.32423322769670676,\n  'subsample': 0.6967558008620521,\n  'colsample_bytree': 0.9320689564067413,\n  'reg_alpha': 0.23048748918365455,\n  'reg_lambda': 0.6584766723235678,\n  'random_state': 845},\n {'max_depth': 6,\n  'learning_rate': 0.011484842536684695,\n  'n_estimators': 126,\n  'min_child_weight': 9,\n  'gamma': 0.827991067055406,\n  'subsample': 0.41713372315508607,\n  'colsample_bytree': 0.20002485456239832,\n  'reg_alpha': 0.5286363210946364,\n  'reg_lambda': 0.5807242086514565,\n  'random_state': 231},\n {'max_depth': 6,\n  'learning_rate': 0.25584601550068164,\n  'n_estimators': 613,\n  'min_child_weight': 1,\n  'gamma': 0.3236957013584343,\n  'subsample': 0.7632254448156385,\n  'colsample_bytree': 0.8448695999541137,\n  'reg_alpha': 0.06877329457984857,\n  'reg_lambda': 0.07148516634660931,\n  'random_state': 77},\n {'max_depth': 5,\n  'learning_rate': 0.20661250750652474,\n  'n_estimators': 85,\n  'min_child_weight': 3,\n  'gamma': 0.09716851544078865,\n  'subsample': 0.01787918827315141,\n  'colsample_bytree': 0.29241725770966515,\n  'reg_alpha': 0.9253499947860439,\n  'reg_lambda': 0.9835480019814141,\n  'random_state': 793},\n {'max_depth': 5,\n  'learning_rate': 0.11740851118530944,\n  'n_estimators': 586,\n  'min_child_weight': 1,\n  'gamma': 0.26786870792376416,\n  'subsample': 0.45741389902876856,\n  'colsample_bytree': 0.14720612728905974,\n  'reg_alpha': 0.2725174252897681,\n  'reg_lambda': 0.05275171248576181,\n  'random_state': 627},\n {'max_depth': 2,\n  'learning_rate': 0.21409047649650045,\n  'n_estimators': 78,\n  'min_child_weight': 1,\n  'gamma': 0.7569831588909317,\n  'subsample': 0.588558053276025,\n  'colsample_bytree': 0.7476760372977971,\n  'reg_alpha': 0.25301771827927516,\n  'reg_lambda': 0.2883519803538686,\n  'random_state': 94},\n {'max_depth': 2,\n  'learning_rate': 0.2276658022345499,\n  'n_estimators': 822,\n  'min_child_weight': 1,\n  'gamma': 0.22606865214327998,\n  'subsample': 0.47595444379319357,\n  'colsample_bytree': 0.4161378200957001,\n  'reg_alpha': 0.9224749354958643,\n  'reg_lambda': 0.189778235321231,\n  'random_state': 326},\n {'max_depth': 6,\n  'learning_rate': 0.23992922800456162,\n  'n_estimators': 73,\n  'min_child_weight': 1,\n  'gamma': 0.14862530866426682,\n  'subsample': 0.8215292852162784,\n  'colsample_bytree': 0.9840337814424963,\n  'reg_alpha': 0.07565612258622717,\n  'reg_lambda': 0.6399495036501173,\n  'random_state': 127},\n {'max_depth': 3,\n  'learning_rate': 0.07242337730664464,\n  'n_estimators': 93,\n  'min_child_weight': 10,\n  'gamma': 0.09484721046073172,\n  'subsample': 0.012205370341674335,\n  'colsample_bytree': 0.7126995413017706,\n  'reg_alpha': 0.581801938521439,\n  'reg_lambda': 0.5931207750477142,\n  'random_state': 506},\n {'max_depth': 4,\n  'learning_rate': 0.10337478326395023,\n  'n_estimators': 56,\n  'min_child_weight': 3,\n  'gamma': 0.3681743576663005,\n  'subsample': 0.08285231266795443,\n  'colsample_bytree': 0.2783698147127094,\n  'reg_alpha': 0.02736814905242025,\n  'reg_lambda': 0.5540800001654524,\n  'random_state': 627},\n {'max_depth': 10,\n  'learning_rate': 0.12340949483623938,\n  'n_estimators': 143,\n  'min_child_weight': 6,\n  'gamma': 0.9015529542437634,\n  'subsample': 0.21387353404127696,\n  'colsample_bytree': 0.8057785159096474,\n  'reg_alpha': 0.548230252421471,\n  'reg_lambda': 0.6945187882249988,\n  'random_state': 770},\n {'max_depth': 9,\n  'learning_rate': 0.15510526504678634,\n  'n_estimators': 973,\n  'min_child_weight': 1,\n  'gamma': 0.024923635451151498,\n  'subsample': 0.9367870249644431,\n  'colsample_bytree': 0.7087727097656307,\n  'reg_alpha': 0.34596992917779096,\n  'reg_lambda': 0.7736266100873317,\n  'random_state': 500},\n {'max_depth': 6,\n  'learning_rate': 0.02663933974235607,\n  'n_estimators': 592,\n  'min_child_weight': 1,\n  'gamma': 0.3853136643427878,\n  'subsample': 0.8952198808488634,\n  'colsample_bytree': 0.9579973132595515,\n  'reg_alpha': 0.6859627773681951,\n  'reg_lambda': 0.5590032583072172,\n  'random_state': 64},\n {'max_depth': 6,\n  'learning_rate': 0.021248095955927894,\n  'n_estimators': 478,\n  'min_child_weight': 2,\n  'gamma': 0.8647321462302964,\n  'subsample': 0.3943905011270001,\n  'colsample_bytree': 0.581321488143094,\n  'reg_alpha': 0.2284396886256514,\n  'reg_lambda': 0.10243570665268655,\n  'random_state': 932},\n {'max_depth': 3,\n  'learning_rate': 0.12735113585489152,\n  'n_estimators': 67,\n  'min_child_weight': 8,\n  'gamma': 0.5946280462222574,\n  'subsample': 0.9129686397015523,\n  'colsample_bytree': 0.685749561223167,\n  'reg_alpha': 0.610260049914974,\n  'reg_lambda': 0.41529747267895567,\n  'random_state': 213},\n {'max_depth': 10,\n  'learning_rate': 0.06281832491936358,\n  'n_estimators': 328,\n  'min_child_weight': 1,\n  'gamma': 0.03311867777464256,\n  'subsample': 0.5329031109458493,\n  'colsample_bytree': 0.06681388804892935,\n  'reg_alpha': 0.44474018141436256,\n  'reg_lambda': 0.5938324584180221,\n  'random_state': 786},\n {'max_depth': 9,\n  'learning_rate': 0.22907389884184878,\n  'n_estimators': 608,\n  'min_child_weight': 3,\n  'gamma': 0.14293152151698396,\n  'subsample': 0.5966978870857981,\n  'colsample_bytree': 0.9263329497636651,\n  'reg_alpha': 0.2565434791569787,\n  'reg_lambda': 0.786942670970399,\n  'random_state': 553},\n {'max_depth': 5,\n  'learning_rate': 0.06539081303971457,\n  'n_estimators': 86,\n  'min_child_weight': 6,\n  'gamma': 0.660141522811075,\n  'subsample': 0.4880054954399378,\n  'colsample_bytree': 0.4105552520136371,\n  'reg_alpha': 0.9144596837523699,\n  'reg_lambda': 0.5172642329482057,\n  'random_state': 649},\n {'max_depth': 9,\n  'learning_rate': 0.014347212836955708,\n  'n_estimators': 329,\n  'min_child_weight': 7,\n  'gamma': 0.680441676333593,\n  'subsample': 0.25605255382527425,\n  'colsample_bytree': 0.2735039081818731,\n  'reg_alpha': 0.5050701985328482,\n  'reg_lambda': 0.6145613551366403,\n  'random_state': 850},\n {'max_depth': 4,\n  'learning_rate': 0.14178069831296666,\n  'n_estimators': 729,\n  'min_child_weight': 1,\n  'gamma': 0.7764847761850399,\n  'subsample': 0.9455625376968821,\n  'colsample_bytree': 0.05028779940348632,\n  'reg_alpha': 0.20936300645051445,\n  'reg_lambda': 0.7523594556606032,\n  'random_state': 47},\n {'max_depth': 1,\n  'learning_rate': 0.07368747428928811,\n  'n_estimators': 136,\n  'min_child_weight': 9,\n  'gamma': 0.11695154896730453,\n  'subsample': 0.16828714618695742,\n  'colsample_bytree': 0.5175848620312975,\n  'reg_alpha': 0.741836460923439,\n  'reg_lambda': 0.6860281491031787,\n  'random_state': 233},\n {'max_depth': 3,\n  'learning_rate': 0.14438892609433648,\n  'n_estimators': 774,\n  'min_child_weight': 1,\n  'gamma': 0.5118352513452326,\n  'subsample': 0.028764746634992046,\n  'colsample_bytree': 0.6748169630284765,\n  'reg_alpha': 0.993033480675642,\n  'reg_lambda': 0.9440361341948108,\n  'random_state': 811},\n {'max_depth': 1,\n  'learning_rate': 0.07724239796140343,\n  'n_estimators': 847,\n  'min_child_weight': 1,\n  'gamma': 0.7212862005940692,\n  'subsample': 0.19265998523486028,\n  'colsample_bytree': 0.9504567648989003,\n  'reg_alpha': 0.36113102739568453,\n  'reg_lambda': 0.3468493854584554,\n  'random_state': 925},\n {'max_depth': 5,\n  'learning_rate': 0.045515885651332626,\n  'n_estimators': 92,\n  'min_child_weight': 2,\n  'gamma': 0.22718577222778985,\n  'subsample': 0.30331546097028855,\n  'colsample_bytree': 0.5232133724111315,\n  'reg_alpha': 0.794287307574059,\n  'reg_lambda': 0.23382997303402098,\n  'random_state': 365},\n {'max_depth': 10,\n  'learning_rate': 0.1745102364087482,\n  'n_estimators': 78,\n  'min_child_weight': 3,\n  'gamma': 0.5999481038820142,\n  'subsample': 0.042870415961972407,\n  'colsample_bytree': 0.1766170164153049,\n  'reg_alpha': 0.1295205064892129,\n  'reg_lambda': 0.7202156879533042,\n  'random_state': 841},\n {'max_depth': 5,\n  'learning_rate': 0.23306033719322775,\n  'n_estimators': 117,\n  'min_child_weight': 2,\n  'gamma': 0.13895276697526313,\n  'subsample': 0.7501918565365631,\n  'colsample_bytree': 0.8474078090231554,\n  'reg_alpha': 0.030862897256558983,\n  'reg_lambda': 0.1238722031348521,\n  'random_state': 241},\n {'max_depth': 2,\n  'learning_rate': 0.2506068534561841,\n  'n_estimators': 81,\n  'min_child_weight': 5,\n  'gamma': 0.35239751284459153,\n  'subsample': 0.589368397412447,\n  'colsample_bytree': 0.8980025996560407,\n  'reg_alpha': 0.9449361517726013,\n  'reg_lambda': 0.2374767169449441,\n  'random_state': 319},\n {'max_depth': 5,\n  'learning_rate': 0.03100214149301007,\n  'n_estimators': 639,\n  'min_child_weight': 2,\n  'gamma': 0.20083185975819923,\n  'subsample': 0.49213418050276325,\n  'colsample_bytree': 0.8866931931987163,\n  'reg_alpha': 0.08699826960589482,\n  'reg_lambda': 0.5654654979004249,\n  'random_state': 509},\n {'max_depth': 2,\n  'learning_rate': 0.0014727210006150622,\n  'n_estimators': 152,\n  'min_child_weight': 5,\n  'gamma': 0.3528070971391384,\n  'subsample': 0.12470209505239577,\n  'colsample_bytree': 0.2789772140118265,\n  'reg_alpha': 0.6276057131350099,\n  'reg_lambda': 0.5524726230868311,\n  'random_state': 629},\n {'max_depth': 5,\n  'learning_rate': 0.1351155876823668,\n  'n_estimators': 240,\n  'min_child_weight': 1,\n  'gamma': 0.44463371569573346,\n  'subsample': 0.06816110665467937,\n  'colsample_bytree': 0.7646047201114159,\n  'reg_alpha': 0.8702004524770806,\n  'reg_lambda': 0.7967325659587499,\n  'random_state': 896},\n {'max_depth': 4,\n  'learning_rate': 0.12460109079941817,\n  'n_estimators': 956,\n  'min_child_weight': 1,\n  'gamma': 0.6961455152981798,\n  'subsample': 0.6478950695132455,\n  'colsample_bytree': 0.48043113485100136,\n  'reg_alpha': 0.3841483787698947,\n  'reg_lambda': 0.021833216789923414,\n  'random_state': 435},\n {'max_depth': 3,\n  'learning_rate': 0.27388824700040476,\n  'n_estimators': 75,\n  'min_child_weight': 10,\n  'gamma': 0.3271134340711298,\n  'subsample': 0.5107130489249703,\n  'colsample_bytree': 0.8730204784610112,\n  'reg_alpha': 0.2546444467384546,\n  'reg_lambda': 0.5256337141835334,\n  'random_state': 689},\n {'max_depth': 6,\n  'learning_rate': 0.17627790838819982,\n  'n_estimators': 450,\n  'min_child_weight': 8,\n  'gamma': 0.5834150629923942,\n  'subsample': 0.07433527774144043,\n  'colsample_bytree': 0.07259592944514687,\n  'reg_alpha': 0.07782188828098084,\n  'reg_lambda': 0.36030947810015995,\n  'random_state': 733},\n {'max_depth': 7,\n  'learning_rate': 0.19061376676168124,\n  'n_estimators': 544,\n  'min_child_weight': 3,\n  'gamma': 0.09071666397346057,\n  'subsample': 0.9581491940860921,\n  'colsample_bytree': 0.3926463779910995,\n  'reg_alpha': 0.8221838829364098,\n  'reg_lambda': 0.1278323508073887,\n  'random_state': 149},\n {'max_depth': 7,\n  'learning_rate': 0.060309682212527416,\n  'n_estimators': 62,\n  'min_child_weight': 9,\n  'gamma': 0.353634650814658,\n  'subsample': 0.04681702220161261,\n  'colsample_bytree': 0.6345981029860809,\n  'reg_alpha': 0.6667077300758925,\n  'reg_lambda': 0.29338217762440066,\n  'random_state': 269},\n {'max_depth': 10,\n  'learning_rate': 0.028696475527994435,\n  'n_estimators': 175,\n  'min_child_weight': 8,\n  'gamma': 0.7430235911380306,\n  'subsample': 0.15058613838855248,\n  'colsample_bytree': 0.323192351566663,\n  'reg_alpha': 0.19923199253073917,\n  'reg_lambda': 0.16270954119660871,\n  'random_state': 422},\n {'max_depth': 5,\n  'learning_rate': 0.2408798990306986,\n  'n_estimators': 298,\n  'min_child_weight': 6,\n  'gamma': 0.6739388295041006,\n  'subsample': 0.7642243045725008,\n  'colsample_bytree': 0.37239829697958576,\n  'reg_alpha': 0.3503008437920255,\n  'reg_lambda': 0.44383372144650257,\n  'random_state': 106},\n {'max_depth': 7,\n  'learning_rate': 0.22269411251467391,\n  'n_estimators': 113,\n  'min_child_weight': 7,\n  'gamma': 0.09651269905639732,\n  'subsample': 0.4566926568815883,\n  'colsample_bytree': 0.7622152845737746,\n  'reg_alpha': 0.30546461784504314,\n  'reg_lambda': 0.015077934442503813,\n  'random_state': 453},\n {'max_depth': 6,\n  'learning_rate': 0.17688026325237652,\n  'n_estimators': 684,\n  'min_child_weight': 1,\n  'gamma': 0.5060009672243466,\n  'subsample': 0.6755170595898061,\n  'colsample_bytree': 0.7432570570623422,\n  'reg_alpha': 0.4221871806854558,\n  'reg_lambda': 0.6122585861733304,\n  'random_state': 738},\n {'max_depth': 5,\n  'learning_rate': 0.267763233430385,\n  'n_estimators': 52,\n  'min_child_weight': 2,\n  'gamma': 0.07105789969102032,\n  'subsample': 0.6005933560512731,\n  'colsample_bytree': 0.8842349705680175,\n  'reg_alpha': 0.9988129788131818,\n  'reg_lambda': 0.013427572802796398,\n  'random_state': 163},\n {'max_depth': 2,\n  'learning_rate': 0.08042721634926607,\n  'n_estimators': 334,\n  'min_child_weight': 8,\n  'gamma': 0.7994148129541041,\n  'subsample': 0.3294839364878518,\n  'colsample_bytree': 0.5044024307268886,\n  'reg_alpha': 0.15196510891127776,\n  'reg_lambda': 0.3137979251963712,\n  'random_state': 477},\n {'max_depth': 10,\n  'learning_rate': 0.16265344474831403,\n  'n_estimators': 294,\n  'min_child_weight': 2,\n  'gamma': 0.8873055210096067,\n  'subsample': 0.013180590827579067,\n  'colsample_bytree': 0.6352932963025275,\n  'reg_alpha': 0.45375995903621735,\n  'reg_lambda': 0.09677747753583246,\n  'random_state': 202},\n {'max_depth': 9,\n  'learning_rate': 0.0038856563860653246,\n  'n_estimators': 63,\n  'min_child_weight': 10,\n  'gamma': 0.9373757113617609,\n  'subsample': 0.0716973006970539,\n  'colsample_bytree': 0.1557977161761207,\n  'reg_alpha': 0.9447298606854083,\n  'reg_lambda': 0.018006348014608122,\n  'random_state': 961},\n {'max_depth': 9,\n  'learning_rate': 0.11594972563119466,\n  'n_estimators': 51,\n  'min_child_weight': 6,\n  'gamma': 0.5346278518630005,\n  'subsample': 0.7983573201479062,\n  'colsample_bytree': 0.17102838632537232,\n  'reg_alpha': 0.4643221335714178,\n  'reg_lambda': 0.2938060149837335,\n  'random_state': 975},\n {'max_depth': 1,\n  'learning_rate': 0.062272869367714735,\n  'n_estimators': 210,\n  'min_child_weight': 6,\n  'gamma': 0.9748531234455218,\n  'subsample': 0.9660108300263262,\n  'colsample_bytree': 0.7276972249197429,\n  'reg_alpha': 0.5426474700989281,\n  'reg_lambda': 0.5414616793208628,\n  'random_state': 9},\n {'max_depth': 10,\n  'learning_rate': 0.09966181713469043,\n  'n_estimators': 176,\n  'min_child_weight': 2,\n  'gamma': 0.26060720795694486,\n  'subsample': 0.8692235473054329,\n  'colsample_bytree': 0.6290873888537126,\n  'reg_alpha': 0.6797020136536276,\n  'reg_lambda': 0.011500671571488815,\n  'random_state': 695},\n {'max_depth': 3,\n  'learning_rate': 0.2782788806935123,\n  'n_estimators': 122,\n  'min_child_weight': 8,\n  'gamma': 0.6274886109675666,\n  'subsample': 0.9348587140924239,\n  'colsample_bytree': 0.22142842711094826,\n  'reg_alpha': 0.6562016048569569,\n  'reg_lambda': 0.5579492435765536,\n  'random_state': 286},\n {'max_depth': 6,\n  'learning_rate': 0.08293658838299989,\n  'n_estimators': 130,\n  'min_child_weight': 5,\n  'gamma': 0.9749392000997529,\n  'subsample': 0.16004837668672214,\n  'colsample_bytree': 0.018596073729503323,\n  'reg_alpha': 0.4114356754765783,\n  'reg_lambda': 0.6358595837958948,\n  'random_state': 818},\n {'max_depth': 5,\n  'learning_rate': 0.238335264208055,\n  'n_estimators': 223,\n  'min_child_weight': 9,\n  'gamma': 0.28697494227053,\n  'subsample': 0.35886298653461485,\n  'colsample_bytree': 0.5870677459927772,\n  'reg_alpha': 0.8842422636197339,\n  'reg_lambda': 0.18913162793411473,\n  'random_state': 684}]"
     },
     "execution_count": 9,
     "metadata": {},
     "output_type": "execute_result"
    }
   ],
   "source": [
    "best_sets"
   ],
   "metadata": {
    "collapsed": false
   }
  },
  {
   "cell_type": "code",
   "execution_count": 10,
   "outputs": [
    {
     "data": {
      "text/plain": "{'max_depth': 5,\n 'learning_rate': 0.14059527657696863,\n 'n_estimators': 361,\n 'min_child_weight': 3,\n 'gamma': 0.4912187267826963,\n 'subsample': 0.5045950075765605,\n 'colsample_bytree': 0.524596396920619,\n 'reg_alpha': 0.4413223538576955,\n 'reg_lambda': 0.48185366891338777,\n 'random_state': 505}"
     },
     "execution_count": 10,
     "metadata": {},
     "output_type": "execute_result"
    }
   ],
   "source": [
    "max_depth_agg = []\n",
    "lr_agg = []\n",
    "n_est_agg = []\n",
    "min_cw_agg = []\n",
    "gamma_agg = []\n",
    "subsam_agg = []\n",
    "col_bytree_agg = []\n",
    "alpha_agg = []\n",
    "lambda_agg = []\n",
    "random_agg = []\n",
    "\n",
    "for node in best_sets:\n",
    "    max_depth_agg.append(node['max_depth'])\n",
    "    lr_agg.append(node['learning_rate'])\n",
    "    n_est_agg.append(node['n_estimators'])\n",
    "    min_cw_agg.append(node['min_child_weight'])\n",
    "    gamma_agg.append(node['gamma'])\n",
    "    subsam_agg.append(node['subsample'])\n",
    "    col_bytree_agg.append(node['colsample_bytree'])\n",
    "    alpha_agg.append(node['reg_alpha'])\n",
    "    lambda_agg.append(node['reg_lambda'])\n",
    "    random_agg.append(node['random_state'])\n",
    "\n",
    "max_depth_agg = int(sum(max_depth_agg)/len(max_depth_agg))\n",
    "lr_agg = sum(lr_agg)/len(lr_agg)\n",
    "n_est_agg = int(sum(n_est_agg)/len(n_est_agg))\n",
    "min_cw_agg = int(sum(min_cw_agg)/len(min_cw_agg))\n",
    "gamma_agg = sum(gamma_agg)/len(gamma_agg)\n",
    "subsam_agg = sum(subsam_agg)/len(subsam_agg)\n",
    "col_bytree_agg = sum(col_bytree_agg)/len(col_bytree_agg)\n",
    "alpha_agg = sum(alpha_agg)/len(alpha_agg)\n",
    "lambda_agg = sum(lambda_agg)/len(lambda_agg)\n",
    "random_agg = int(sum(random_agg)/len(random_agg))\n",
    "\n",
    "best_set = {\n",
    "    'max_depth': max_depth_agg,\n",
    "    'learning_rate': lr_agg,\n",
    "    'n_estimators': n_est_agg,\n",
    "    'min_child_weight': min_cw_agg,\n",
    "    'gamma': gamma_agg,\n",
    "    'subsample': subsam_agg,\n",
    "    'colsample_bytree': col_bytree_agg,\n",
    "    'reg_alpha': alpha_agg,\n",
    "    'reg_lambda': lambda_agg,\n",
    "    'random_state': random_agg\n",
    "}\n",
    "\n",
    "best_set"
   ],
   "metadata": {
    "collapsed": false
   }
  }
 ],
 "metadata": {
  "kernelspec": {
   "display_name": "Python 3",
   "language": "python",
   "name": "python3"
  },
  "language_info": {
   "codemirror_mode": {
    "name": "ipython",
    "version": 2
   },
   "file_extension": ".py",
   "mimetype": "text/x-python",
   "name": "python",
   "nbconvert_exporter": "python",
   "pygments_lexer": "ipython2",
   "version": "2.7.6"
  }
 },
 "nbformat": 4,
 "nbformat_minor": 0
}
