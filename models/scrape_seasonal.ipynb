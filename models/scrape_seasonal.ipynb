{
 "cells": [
  {
   "cell_type": "code",
   "execution_count": 1,
   "metadata": {
    "collapsed": true
   },
   "outputs": [],
   "source": [
    "import xgbmodule as xgb\n",
    "import csv\n",
    "import pandas as pd"
   ]
  },
  {
   "cell_type": "code",
   "execution_count": 2,
   "outputs": [],
   "source": [
    "flag = True\n",
    "data = []\n",
    "\n",
    "\n",
    "#url = 'https://www.fantasypros.com/nfl/stats/dst.php'\n",
    "#df = pd.read_html(url)\n",
    "#df = df[0]\n",
    "\n",
    "def hyphen_split(a):\n",
    "    if a.count(\"-\") == 1:\n",
    "        return a.split(\"-\")[0]\n",
    "    return \"-\".join(a.split(\"-\", 2)[:2])"
   ],
   "metadata": {
    "collapsed": false
   }
  },
  {
   "cell_type": "code",
   "execution_count": 3,
   "outputs": [
    {
     "data": {
      "text/plain": "'for i in range(df.shape[0]):\\n    row = df.iloc[i]\\n    name = row[1].replace(\\' \\', \\'-\\').lower()\\n    #name = hyphen_split(name)\\n    pos = \\'d\\'\\n\\n    newRow = [name, pos]\\n    data.append(newRow)\\n\\nwith open(\"ds.csv\", \"w\") as fp:\\n    writer = csv.writer(fp)\\n    writer.writerows(data)\\n\\nprint(\"Success\")'"
     },
     "execution_count": 3,
     "metadata": {},
     "output_type": "execute_result"
    }
   ],
   "source": [
    "'''for i in range(df.shape[0]):\n",
    "    row = df.iloc[i]\n",
    "    name = row[1].replace(' ', '-').lower()\n",
    "    #name = hyphen_split(name)\n",
    "    pos = 'd'\n",
    "\n",
    "    newRow = [name, pos]\n",
    "    data.append(newRow)\n",
    "\n",
    "with open(\"ds.csv\", \"w\") as fp:\n",
    "    writer = csv.writer(fp)\n",
    "    writer.writerows(data)\n",
    "\n",
    "print(\"Success\")'''"
   ],
   "metadata": {
    "collapsed": false
   }
  },
  {
   "cell_type": "code",
   "execution_count": 4,
   "outputs": [
    {
     "name": "stdout",
     "output_type": "stream",
     "text": [
      "Accessing:  New England Patriots (NE)\n",
      "Accessing:  Dallas Cowboys (DAL)\n",
      "Accessing:  San Francisco 49ers (SF)\n",
      "Accessing:  Buffalo Bills (BUF)\n",
      "Accessing:  Philadelphia Eagles (PHI)\n",
      "Accessing:  Jacksonville Jaguars (JAC)\n",
      "Accessing:  Baltimore Ravens (BAL)\n",
      "Accessing:  Kansas City Chiefs (KC)\n",
      "Accessing:  Carolina Panthers (CAR)\n",
      "Accessing:  New York Jets (NYJ)\n",
      "Accessing:  Washington Commanders (WAS)\n",
      "Accessing:  Green Bay Packers (GB)\n",
      "Accessing:  Seattle Seahawks (SEA)\n",
      "Accessing:  Houston Texans (HOU)\n",
      "Accessing:  Indianapolis Colts (IND)\n",
      "Accessing:  New Orleans Saints (NO)\n",
      "Accessing:  Cincinnati Bengals (CIN)\n",
      "Accessing:  New York Giants (NYG)\n",
      "Accessing:  Pittsburgh Steelers (PIT)\n",
      "Accessing:  Miami Dolphins (MIA)\n",
      "Accessing:  Cleveland Browns (CLE)\n",
      "Accessing:  Minnesota Vikings (MIN)\n",
      "Accessing:  Los Angeles Chargers (LAC)\n",
      "Accessing:  Los Angeles Rams (LAR)\n",
      "Accessing:  Tennessee Titans (TEN)\n",
      "Accessing:  Tampa Bay Buccaneers (TB)\n",
      "Accessing:  Arizona Cardinals (ARI)\n",
      "Accessing:  Denver Broncos (DEN)\n",
      "Accessing:  Detroit Lions (DET)\n",
      "Accessing:  Atlanta Falcons (ATL)\n",
      "Accessing:  Las Vegas Raiders (LV)\n",
      "Accessing:  Chicago Bears (CHI)\n",
      "Success\n"
     ]
    }
   ],
   "source": [
    "data = []\n",
    "\n",
    "with open(\"ds.csv\", \"r\") as fp:\n",
    "    csvreader = csv.reader(fp, delimiter=',')\n",
    "    for row in csvreader:\n",
    "        name = row[0]\n",
    "        pos = row[1]\n",
    "        print(\"Accessing: \", name)\n",
    "        if flag:\n",
    "            fb = xgb.FantasyBoost(player_name=name, player_pos=pos)\n",
    "            flag = False\n",
    "        else:\n",
    "            fb.change(player_name=name, player_pos=pos)\n",
    "\n",
    "        pred = fb.predict()\n",
    "        if pos == 'd':\n",
    "            newRow = [name, pos, pred]\n",
    "        else:\n",
    "            newRow = [name, pos, pred[0]]\n",
    "        data.append(newRow)\n",
    "\n",
    "with open(\"d_preds.csv\", \"w\") as fp:\n",
    "    writer = csv.writer(fp)\n",
    "    writer.writerows(data)\n",
    "\n",
    "print(\"Success\")"
   ],
   "metadata": {
    "collapsed": false
   }
  },
  {
   "cell_type": "code",
   "execution_count": 4,
   "outputs": [],
   "source": [],
   "metadata": {
    "collapsed": false
   }
  }
 ],
 "metadata": {
  "kernelspec": {
   "display_name": "Python 3",
   "language": "python",
   "name": "python3"
  },
  "language_info": {
   "codemirror_mode": {
    "name": "ipython",
    "version": 2
   },
   "file_extension": ".py",
   "mimetype": "text/x-python",
   "name": "python",
   "nbconvert_exporter": "python",
   "pygments_lexer": "ipython2",
   "version": "2.7.6"
  }
 },
 "nbformat": 4,
 "nbformat_minor": 0
}
