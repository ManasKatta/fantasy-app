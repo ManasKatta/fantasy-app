{
 "cells": [
  {
   "cell_type": "code",
   "execution_count": 3,
   "metadata": {
    "collapsed": true
   },
   "outputs": [],
   "source": [
    "import numpy as np\n",
    "import pandas as pd\n",
    "import csv\n",
    "import xgboost as xgb\n",
    "from sklearn.metrics import mean_squared_error\n",
    "from sklearn.preprocessing import StandardScaler\n",
    "import optuna\n",
    "import time\n",
    "\n",
    "def scrape(option: int, player_pos, player_name) -> pd.DataFrame:\n",
    "    url = None\n",
    "\n",
    "    if player_pos == 'D':\n",
    "        # hacky way to get seasonal defensive stats\n",
    "        url = 'https://www.fantasypros.com/nfl/stats/dst.php'\n",
    "    else:\n",
    "        url_head = r'https://www.nfl.com/players/'\n",
    "        url_feet = '/stats/career'\n",
    "        url = url_head + player_name + url_feet\n",
    "\n",
    "    s_df = pd.read_html(url)\n",
    "    return s_df[option]  # option of 0 = first table, 1 = second table\n",
    "\n",
    "def objective(trial):\n",
    "    param = {\n",
    "        'max_depth': trial.suggest_int('max_depth', 1, 10),\n",
    "        'learning_rate': trial.suggest_float('learning_rate', 0.001, 0.28),\n",
    "        'n_estimators': trial.suggest_int('n_estimators', 40, 1000),\n",
    "        'min_child_weight': trial.suggest_int('min_child_weight', 1, 10),\n",
    "        'gamma': trial.suggest_float('gamma', 0.01, 1.0),\n",
    "        'subsample': trial.suggest_float('subsample', 0.01, 1.0),\n",
    "        'colsample_bytree': trial.suggest_float('colsample_bytree', 0.01, 1.0),\n",
    "        'reg_alpha': trial.suggest_float('reg_alpha', 0.01, 1.0),\n",
    "        'reg_lambda': trial.suggest_float('reg_lambda', 0.01, 1.0),\n",
    "        'random_state': trial.suggest_int('random_state', 1, 1000)  # ,'seed': trial.suggest_int('seed', 0, 10000)\n",
    "    }\n",
    "    m = xgb.XGBRegressor(**param)\n",
    "    m.fit(data_train, label_train)\n",
    "    y_pred = m.predict(data_test)\n",
    "    return np.sqrt(mean_squared_error(label_test, y_pred))"
   ]
  },
  {
   "cell_type": "code",
   "execution_count": 4,
   "outputs": [
    {
     "name": "stdout",
     "output_type": "stream",
     "text": [
      "Optimizing:  travis-kelce\n"
     ]
    },
    {
     "name": "stderr",
     "output_type": "stream",
     "text": [
      "/usr/local/lib/python3.9/site-packages/optuna/progress_bar.py:56: ExperimentalWarning: Progress bar is experimental (supported from v1.2.0). The interface can change in the future.\n",
      "  self._init_valid()\n"
     ]
    },
    {
     "data": {
      "text/plain": "  0%|          | 0/200 [00:00<?, ?it/s]",
      "application/vnd.jupyter.widget-view+json": {
       "version_major": 2,
       "version_minor": 0,
       "model_id": "18c5b4928f06448c8241a6462c27a5f0"
      }
     },
     "metadata": {},
     "output_type": "display_data"
    },
    {
     "name": "stdout",
     "output_type": "stream",
     "text": [
      "Optimizing:  george-kittle\n"
     ]
    },
    {
     "name": "stderr",
     "output_type": "stream",
     "text": [
      "/usr/local/lib/python3.9/site-packages/optuna/progress_bar.py:56: ExperimentalWarning: Progress bar is experimental (supported from v1.2.0). The interface can change in the future.\n",
      "  self._init_valid()\n"
     ]
    },
    {
     "data": {
      "text/plain": "  0%|          | 0/200 [00:00<?, ?it/s]",
      "application/vnd.jupyter.widget-view+json": {
       "version_major": 2,
       "version_minor": 0,
       "model_id": "f16a4053e41b44138c8ec87d0732d855"
      }
     },
     "metadata": {},
     "output_type": "display_data"
    },
    {
     "name": "stdout",
     "output_type": "stream",
     "text": [
      "Optimizing:  taysom-hill\n"
     ]
    },
    {
     "name": "stderr",
     "output_type": "stream",
     "text": [
      "/usr/local/lib/python3.9/site-packages/optuna/progress_bar.py:56: ExperimentalWarning: Progress bar is experimental (supported from v1.2.0). The interface can change in the future.\n",
      "  self._init_valid()\n"
     ]
    },
    {
     "data": {
      "text/plain": "  0%|          | 0/200 [00:00<?, ?it/s]",
      "application/vnd.jupyter.widget-view+json": {
       "version_major": 2,
       "version_minor": 0,
       "model_id": "3d7a631a14434bd8be780005d1415515"
      }
     },
     "metadata": {},
     "output_type": "display_data"
    },
    {
     "name": "stdout",
     "output_type": "stream",
     "text": [
      "Optimizing:  t-j-hockenson\n"
     ]
    },
    {
     "name": "stderr",
     "output_type": "stream",
     "text": [
      "/usr/local/lib/python3.9/site-packages/optuna/progress_bar.py:56: ExperimentalWarning: Progress bar is experimental (supported from v1.2.0). The interface can change in the future.\n",
      "  self._init_valid()\n"
     ]
    },
    {
     "data": {
      "text/plain": "  0%|          | 0/200 [00:00<?, ?it/s]",
      "application/vnd.jupyter.widget-view+json": {
       "version_major": 2,
       "version_minor": 0,
       "model_id": "61134a00b7a643e39646c5ca9d3c10b7"
      }
     },
     "metadata": {},
     "output_type": "display_data"
    },
    {
     "name": "stdout",
     "output_type": "stream",
     "text": [
      "Optimizing:  mark-andrews\n"
     ]
    },
    {
     "name": "stderr",
     "output_type": "stream",
     "text": [
      "/usr/local/lib/python3.9/site-packages/optuna/progress_bar.py:56: ExperimentalWarning: Progress bar is experimental (supported from v1.2.0). The interface can change in the future.\n",
      "  self._init_valid()\n"
     ]
    },
    {
     "data": {
      "text/plain": "  0%|          | 0/200 [00:00<?, ?it/s]",
      "application/vnd.jupyter.widget-view+json": {
       "version_major": 2,
       "version_minor": 0,
       "model_id": "15445692ef9248d2ae7d7f03ce6807d7"
      }
     },
     "metadata": {},
     "output_type": "display_data"
    },
    {
     "name": "stdout",
     "output_type": "stream",
     "text": [
      "Optimizing:  evan-engram\n"
     ]
    },
    {
     "name": "stderr",
     "output_type": "stream",
     "text": [
      "/usr/local/lib/python3.9/site-packages/optuna/progress_bar.py:56: ExperimentalWarning: Progress bar is experimental (supported from v1.2.0). The interface can change in the future.\n",
      "  self._init_valid()\n"
     ]
    },
    {
     "data": {
      "text/plain": "  0%|          | 0/200 [00:00<?, ?it/s]",
      "application/vnd.jupyter.widget-view+json": {
       "version_major": 2,
       "version_minor": 0,
       "model_id": "2f496e3538974223bc3a40f3c97c3d11"
      }
     },
     "metadata": {},
     "output_type": "display_data"
    },
    {
     "name": "stdout",
     "output_type": "stream",
     "text": [
      "Optimizing:  cole-kmet\n"
     ]
    },
    {
     "name": "stderr",
     "output_type": "stream",
     "text": [
      "/usr/local/lib/python3.9/site-packages/optuna/progress_bar.py:56: ExperimentalWarning: Progress bar is experimental (supported from v1.2.0). The interface can change in the future.\n",
      "  self._init_valid()\n"
     ]
    },
    {
     "data": {
      "text/plain": "  0%|          | 0/200 [00:00<?, ?it/s]",
      "application/vnd.jupyter.widget-view+json": {
       "version_major": 2,
       "version_minor": 0,
       "model_id": "f1692b04fce345b1a2df1fd163213245"
      }
     },
     "metadata": {},
     "output_type": "display_data"
    },
    {
     "name": "stdout",
     "output_type": "stream",
     "text": [
      "Optimizing:  juwan-johnson\n"
     ]
    },
    {
     "name": "stderr",
     "output_type": "stream",
     "text": [
      "/usr/local/lib/python3.9/site-packages/optuna/progress_bar.py:56: ExperimentalWarning: Progress bar is experimental (supported from v1.2.0). The interface can change in the future.\n",
      "  self._init_valid()\n"
     ]
    },
    {
     "data": {
      "text/plain": "  0%|          | 0/200 [00:00<?, ?it/s]",
      "application/vnd.jupyter.widget-view+json": {
       "version_major": 2,
       "version_minor": 0,
       "model_id": "4a48575f526d4cd4b414bc41169b6254"
      }
     },
     "metadata": {},
     "output_type": "display_data"
    },
    {
     "name": "stdout",
     "output_type": "stream",
     "text": [
      "Optimizing:  dawson-knox\n"
     ]
    },
    {
     "name": "stderr",
     "output_type": "stream",
     "text": [
      "/usr/local/lib/python3.9/site-packages/optuna/progress_bar.py:56: ExperimentalWarning: Progress bar is experimental (supported from v1.2.0). The interface can change in the future.\n",
      "  self._init_valid()\n"
     ]
    },
    {
     "data": {
      "text/plain": "  0%|          | 0/200 [00:00<?, ?it/s]",
      "application/vnd.jupyter.widget-view+json": {
       "version_major": 2,
       "version_minor": 0,
       "model_id": "0698b16b05eb403db3792b37d679f451"
      }
     },
     "metadata": {},
     "output_type": "display_data"
    },
    {
     "name": "stdout",
     "output_type": "stream",
     "text": [
      "Optimizing:  dallas-goedert\n"
     ]
    },
    {
     "name": "stderr",
     "output_type": "stream",
     "text": [
      "/usr/local/lib/python3.9/site-packages/optuna/progress_bar.py:56: ExperimentalWarning: Progress bar is experimental (supported from v1.2.0). The interface can change in the future.\n",
      "  self._init_valid()\n"
     ]
    },
    {
     "data": {
      "text/plain": "  0%|          | 0/200 [00:00<?, ?it/s]",
      "application/vnd.jupyter.widget-view+json": {
       "version_major": 2,
       "version_minor": 0,
       "model_id": "b35c01a2d5ce41b6a6523a273f35bc99"
      }
     },
     "metadata": {},
     "output_type": "display_data"
    },
    {
     "name": "stdout",
     "output_type": "stream",
     "text": [
      "Optimizing:  dalton-schultz\n"
     ]
    },
    {
     "name": "stderr",
     "output_type": "stream",
     "text": [
      "/usr/local/lib/python3.9/site-packages/optuna/progress_bar.py:56: ExperimentalWarning: Progress bar is experimental (supported from v1.2.0). The interface can change in the future.\n",
      "  self._init_valid()\n"
     ]
    },
    {
     "data": {
      "text/plain": "  0%|          | 0/200 [00:00<?, ?it/s]",
      "application/vnd.jupyter.widget-view+json": {
       "version_major": 2,
       "version_minor": 0,
       "model_id": "11ef4ac7cefc404ba9b0af0c05b740b9"
      }
     },
     "metadata": {},
     "output_type": "display_data"
    },
    {
     "name": "stdout",
     "output_type": "stream",
     "text": [
      "Optimizing:  pat-freiermuth\n",
      "Optimizing:  david-njoku\n"
     ]
    },
    {
     "name": "stderr",
     "output_type": "stream",
     "text": [
      "/usr/local/lib/python3.9/site-packages/optuna/progress_bar.py:56: ExperimentalWarning: Progress bar is experimental (supported from v1.2.0). The interface can change in the future.\n",
      "  self._init_valid()\n"
     ]
    },
    {
     "data": {
      "text/plain": "  0%|          | 0/200 [00:00<?, ?it/s]",
      "application/vnd.jupyter.widget-view+json": {
       "version_major": 2,
       "version_minor": 0,
       "model_id": "1935adfcb570448494f5b10919ae1017"
      }
     },
     "metadata": {},
     "output_type": "display_data"
    },
    {
     "name": "stdout",
     "output_type": "stream",
     "text": [
      "Optimizing:  gerald-everett\n"
     ]
    },
    {
     "name": "stderr",
     "output_type": "stream",
     "text": [
      "/usr/local/lib/python3.9/site-packages/optuna/progress_bar.py:56: ExperimentalWarning: Progress bar is experimental (supported from v1.2.0). The interface can change in the future.\n",
      "  self._init_valid()\n"
     ]
    },
    {
     "data": {
      "text/plain": "  0%|          | 0/200 [00:00<?, ?it/s]",
      "application/vnd.jupyter.widget-view+json": {
       "version_major": 2,
       "version_minor": 0,
       "model_id": "5282d6b47e3a4387b4d40fea32519178"
      }
     },
     "metadata": {},
     "output_type": "display_data"
    },
    {
     "name": "stdout",
     "output_type": "stream",
     "text": [
      "Optimizing:  tyler-higbee\n"
     ]
    },
    {
     "name": "stderr",
     "output_type": "stream",
     "text": [
      "/usr/local/lib/python3.9/site-packages/optuna/progress_bar.py:56: ExperimentalWarning: Progress bar is experimental (supported from v1.2.0). The interface can change in the future.\n",
      "  self._init_valid()\n"
     ]
    },
    {
     "data": {
      "text/plain": "  0%|          | 0/200 [00:00<?, ?it/s]",
      "application/vnd.jupyter.widget-view+json": {
       "version_major": 2,
       "version_minor": 0,
       "model_id": "c4d3203634d440c0bc4682cfee3b720a"
      }
     },
     "metadata": {},
     "output_type": "display_data"
    },
    {
     "name": "stdout",
     "output_type": "stream",
     "text": [
      "Optimizing:  jordan-akins\n"
     ]
    },
    {
     "name": "stderr",
     "output_type": "stream",
     "text": [
      "/usr/local/lib/python3.9/site-packages/optuna/progress_bar.py:56: ExperimentalWarning: Progress bar is experimental (supported from v1.2.0). The interface can change in the future.\n",
      "  self._init_valid()\n"
     ]
    },
    {
     "data": {
      "text/plain": "  0%|          | 0/200 [00:00<?, ?it/s]",
      "application/vnd.jupyter.widget-view+json": {
       "version_major": 2,
       "version_minor": 0,
       "model_id": "bb4de06b23be4f6ab17e4d1f4f46702e"
      }
     },
     "metadata": {},
     "output_type": "display_data"
    },
    {
     "name": "stdout",
     "output_type": "stream",
     "text": [
      "Optimizing:  tyler-conklin\n"
     ]
    },
    {
     "name": "stderr",
     "output_type": "stream",
     "text": [
      "/usr/local/lib/python3.9/site-packages/optuna/progress_bar.py:56: ExperimentalWarning: Progress bar is experimental (supported from v1.2.0). The interface can change in the future.\n",
      "  self._init_valid()\n"
     ]
    },
    {
     "data": {
      "text/plain": "  0%|          | 0/200 [00:00<?, ?it/s]",
      "application/vnd.jupyter.widget-view+json": {
       "version_major": 2,
       "version_minor": 0,
       "model_id": "502f91dbe68749169e985af749f5d609"
      }
     },
     "metadata": {},
     "output_type": "display_data"
    },
    {
     "name": "stdout",
     "output_type": "stream",
     "text": [
      "Optimizing:  noah-fant\n"
     ]
    },
    {
     "name": "stderr",
     "output_type": "stream",
     "text": [
      "/usr/local/lib/python3.9/site-packages/optuna/progress_bar.py:56: ExperimentalWarning: Progress bar is experimental (supported from v1.2.0). The interface can change in the future.\n",
      "  self._init_valid()\n"
     ]
    },
    {
     "data": {
      "text/plain": "  0%|          | 0/200 [00:00<?, ?it/s]",
      "application/vnd.jupyter.widget-view+json": {
       "version_major": 2,
       "version_minor": 0,
       "model_id": "aa46199bad644363b549c2b89c31e1d4"
      }
     },
     "metadata": {},
     "output_type": "display_data"
    },
    {
     "name": "stdout",
     "output_type": "stream",
     "text": [
      "Optimizing:  zach-ertz\n"
     ]
    },
    {
     "name": "stderr",
     "output_type": "stream",
     "text": [
      "/usr/local/lib/python3.9/site-packages/optuna/progress_bar.py:56: ExperimentalWarning: Progress bar is experimental (supported from v1.2.0). The interface can change in the future.\n",
      "  self._init_valid()\n"
     ]
    },
    {
     "data": {
      "text/plain": "  0%|          | 0/200 [00:00<?, ?it/s]",
      "application/vnd.jupyter.widget-view+json": {
       "version_major": 2,
       "version_minor": 0,
       "model_id": "09ef381b85b74f61907807749864bdc5"
      }
     },
     "metadata": {},
     "output_type": "display_data"
    },
    {
     "name": "stdout",
     "output_type": "stream",
     "text": [
      "Optimizing:  mike-gesicki\n"
     ]
    },
    {
     "name": "stderr",
     "output_type": "stream",
     "text": [
      "/usr/local/lib/python3.9/site-packages/optuna/progress_bar.py:56: ExperimentalWarning: Progress bar is experimental (supported from v1.2.0). The interface can change in the future.\n",
      "  self._init_valid()\n"
     ]
    },
    {
     "data": {
      "text/plain": "  0%|          | 0/200 [00:00<?, ?it/s]",
      "application/vnd.jupyter.widget-view+json": {
       "version_major": 2,
       "version_minor": 0,
       "model_id": "4ee8f67ca2bc4da6b58ed4071ff0b795"
      }
     },
     "metadata": {},
     "output_type": "display_data"
    },
    {
     "name": "stdout",
     "output_type": "stream",
     "text": [
      "Optimizing:  chigoziem-okonkwo\n",
      "Optimizing:  hunter-henry\n"
     ]
    },
    {
     "name": "stderr",
     "output_type": "stream",
     "text": [
      "/usr/local/lib/python3.9/site-packages/optuna/progress_bar.py:56: ExperimentalWarning: Progress bar is experimental (supported from v1.2.0). The interface can change in the future.\n",
      "  self._init_valid()\n"
     ]
    },
    {
     "data": {
      "text/plain": "  0%|          | 0/200 [00:00<?, ?it/s]",
      "application/vnd.jupyter.widget-view+json": {
       "version_major": 2,
       "version_minor": 0,
       "model_id": "728a4c09cf824d248c63e53b896b4494"
      }
     },
     "metadata": {},
     "output_type": "display_data"
    },
    {
     "name": "stdout",
     "output_type": "stream",
     "text": [
      "Optimizing:  robert-tonyan\n"
     ]
    },
    {
     "name": "stderr",
     "output_type": "stream",
     "text": [
      "/usr/local/lib/python3.9/site-packages/optuna/progress_bar.py:56: ExperimentalWarning: Progress bar is experimental (supported from v1.2.0). The interface can change in the future.\n",
      "  self._init_valid()\n"
     ]
    },
    {
     "data": {
      "text/plain": "  0%|          | 0/200 [00:00<?, ?it/s]",
      "application/vnd.jupyter.widget-view+json": {
       "version_major": 2,
       "version_minor": 0,
       "model_id": "25570258f6854a27ab087022dac4d166"
      }
     },
     "metadata": {},
     "output_type": "display_data"
    },
    {
     "name": "stdout",
     "output_type": "stream",
     "text": [
      "Optimizing:  darren-waller\n"
     ]
    },
    {
     "name": "stderr",
     "output_type": "stream",
     "text": [
      "/usr/local/lib/python3.9/site-packages/optuna/progress_bar.py:56: ExperimentalWarning: Progress bar is experimental (supported from v1.2.0). The interface can change in the future.\n",
      "  self._init_valid()\n"
     ]
    },
    {
     "data": {
      "text/plain": "  0%|          | 0/200 [00:00<?, ?it/s]",
      "application/vnd.jupyter.widget-view+json": {
       "version_major": 2,
       "version_minor": 0,
       "model_id": "1f72ecf8f3944d4fb41417da1c6566d0"
      }
     },
     "metadata": {},
     "output_type": "display_data"
    },
    {
     "name": "stdout",
     "output_type": "stream",
     "text": [
      "Optimizing:  austin-hooper\n"
     ]
    },
    {
     "name": "stderr",
     "output_type": "stream",
     "text": [
      "/usr/local/lib/python3.9/site-packages/optuna/progress_bar.py:56: ExperimentalWarning: Progress bar is experimental (supported from v1.2.0). The interface can change in the future.\n",
      "  self._init_valid()\n"
     ]
    },
    {
     "data": {
      "text/plain": "  0%|          | 0/200 [00:00<?, ?it/s]",
      "application/vnd.jupyter.widget-view+json": {
       "version_major": 2,
       "version_minor": 0,
       "model_id": "767bbcfe35524683840d4dfcb9755aad"
      }
     },
     "metadata": {},
     "output_type": "display_data"
    },
    {
     "name": "stdout",
     "output_type": "stream",
     "text": [
      "Optimizing:  hayden-hurst\n"
     ]
    },
    {
     "name": "stderr",
     "output_type": "stream",
     "text": [
      "/usr/local/lib/python3.9/site-packages/optuna/progress_bar.py:56: ExperimentalWarning: Progress bar is experimental (supported from v1.2.0). The interface can change in the future.\n",
      "  self._init_valid()\n"
     ]
    },
    {
     "data": {
      "text/plain": "  0%|          | 0/200 [00:00<?, ?it/s]",
      "application/vnd.jupyter.widget-view+json": {
       "version_major": 2,
       "version_minor": 0,
       "model_id": "2e38979667754093b09f63fb1a3360a5"
      }
     },
     "metadata": {},
     "output_type": "display_data"
    },
    {
     "name": "stdout",
     "output_type": "stream",
     "text": [
      "Optimizing:  isaiah-likely\n",
      "Optimizing:  greg-dulcich\n",
      "Optimizing:  will-dissly\n"
     ]
    },
    {
     "name": "stderr",
     "output_type": "stream",
     "text": [
      "/usr/local/lib/python3.9/site-packages/optuna/progress_bar.py:56: ExperimentalWarning: Progress bar is experimental (supported from v1.2.0). The interface can change in the future.\n",
      "  self._init_valid()\n"
     ]
    },
    {
     "data": {
      "text/plain": "  0%|          | 0/200 [00:00<?, ?it/s]",
      "application/vnd.jupyter.widget-view+json": {
       "version_major": 2,
       "version_minor": 0,
       "model_id": "35d7504b448844998c73cc1809a350da"
      }
     },
     "metadata": {},
     "output_type": "display_data"
    },
    {
     "name": "stdout",
     "output_type": "stream",
     "text": [
      "Optimizing:  foster-moreau\n"
     ]
    },
    {
     "name": "stderr",
     "output_type": "stream",
     "text": [
      "/usr/local/lib/python3.9/site-packages/optuna/progress_bar.py:56: ExperimentalWarning: Progress bar is experimental (supported from v1.2.0). The interface can change in the future.\n",
      "  self._init_valid()\n"
     ]
    },
    {
     "data": {
      "text/plain": "  0%|          | 0/200 [00:00<?, ?it/s]",
      "application/vnd.jupyter.widget-view+json": {
       "version_major": 2,
       "version_minor": 0,
       "model_id": "c1900f3293624689b7fc07382a50fcd2"
      }
     },
     "metadata": {},
     "output_type": "display_data"
    },
    {
     "name": "stdout",
     "output_type": "stream",
     "text": [
      "Optimizing:  cade-otton\n",
      "Optimizing:  jelani-woods\n",
      "Optimizing:  kyle-pitts\n",
      "Optimizing:  brock-wright\n",
      "Optimizing:  daniel-bellinger\n",
      "Optimizing:  colby-parkinson\n"
     ]
    },
    {
     "name": "stderr",
     "output_type": "stream",
     "text": [
      "/usr/local/lib/python3.9/site-packages/optuna/progress_bar.py:56: ExperimentalWarning: Progress bar is experimental (supported from v1.2.0). The interface can change in the future.\n",
      "  self._init_valid()\n"
     ]
    },
    {
     "data": {
      "text/plain": "  0%|          | 0/200 [00:00<?, ?it/s]",
      "application/vnd.jupyter.widget-view+json": {
       "version_major": 2,
       "version_minor": 0,
       "model_id": "23e36ac700a44bbb9d9faa55ea299de7"
      }
     },
     "metadata": {},
     "output_type": "display_data"
    },
    {
     "name": "stdout",
     "output_type": "stream",
     "text": [
      "Optimizing:  noah-gray\n",
      "Optimizing:  mycole-pruitt\n"
     ]
    },
    {
     "name": "stderr",
     "output_type": "stream",
     "text": [
      "/usr/local/lib/python3.9/site-packages/optuna/progress_bar.py:56: ExperimentalWarning: Progress bar is experimental (supported from v1.2.0). The interface can change in the future.\n",
      "  self._init_valid()\n"
     ]
    },
    {
     "data": {
      "text/plain": "  0%|          | 0/200 [00:00<?, ?it/s]",
      "application/vnd.jupyter.widget-view+json": {
       "version_major": 2,
       "version_minor": 0,
       "model_id": "ad2078f5e646405694b4b9ed99358cb5"
      }
     },
     "metadata": {},
     "output_type": "display_data"
    },
    {
     "name": "stdout",
     "output_type": "stream",
     "text": [
      "Optimizing:  logan-thomas\n"
     ]
    },
    {
     "name": "stderr",
     "output_type": "stream",
     "text": [
      "/usr/local/lib/python3.9/site-packages/optuna/progress_bar.py:56: ExperimentalWarning: Progress bar is experimental (supported from v1.2.0). The interface can change in the future.\n",
      "  self._init_valid()\n"
     ]
    },
    {
     "data": {
      "text/plain": "  0%|          | 0/200 [00:00<?, ?it/s]",
      "application/vnd.jupyter.widget-view+json": {
       "version_major": 2,
       "version_minor": 0,
       "model_id": "2a8782835c8e492a9585a5a453888ebd"
      }
     },
     "metadata": {},
     "output_type": "display_data"
    },
    {
     "name": "stdout",
     "output_type": "stream",
     "text": [
      "Optimizing:  c-j-uzomah\n"
     ]
    },
    {
     "name": "stderr",
     "output_type": "stream",
     "text": [
      "/usr/local/lib/python3.9/site-packages/optuna/progress_bar.py:56: ExperimentalWarning: Progress bar is experimental (supported from v1.2.0). The interface can change in the future.\n",
      "  self._init_valid()\n"
     ]
    },
    {
     "data": {
      "text/plain": "  0%|          | 0/200 [00:00<?, ?it/s]",
      "application/vnd.jupyter.widget-view+json": {
       "version_major": 2,
       "version_minor": 0,
       "model_id": "e21a1d39a69341e5a61dcf6b6a6c5050"
      }
     },
     "metadata": {},
     "output_type": "display_data"
    },
    {
     "name": "stdout",
     "output_type": "stream",
     "text": [
      "Optimizing:  mo-alie-cox\n"
     ]
    },
    {
     "name": "stderr",
     "output_type": "stream",
     "text": [
      "/usr/local/lib/python3.9/site-packages/optuna/progress_bar.py:56: ExperimentalWarning: Progress bar is experimental (supported from v1.2.0). The interface can change in the future.\n",
      "  self._init_valid()\n"
     ]
    },
    {
     "data": {
      "text/plain": "  0%|          | 0/200 [00:00<?, ?it/s]",
      "application/vnd.jupyter.widget-view+json": {
       "version_major": 2,
       "version_minor": 0,
       "model_id": "785808f0db114d2fb86adcaf23b20ddc"
      }
     },
     "metadata": {},
     "output_type": "display_data"
    },
    {
     "name": "stdout",
     "output_type": "stream",
     "text": [
      "Optimizing:  tommy-tremble\n",
      "Optimizing:  trey-mcbride\n",
      "Optimizing:  harrison-bryant\n"
     ]
    },
    {
     "name": "stderr",
     "output_type": "stream",
     "text": [
      "/usr/local/lib/python3.9/site-packages/optuna/progress_bar.py:56: ExperimentalWarning: Progress bar is experimental (supported from v1.2.0). The interface can change in the future.\n",
      "  self._init_valid()\n"
     ]
    },
    {
     "data": {
      "text/plain": "  0%|          | 0/200 [00:00<?, ?it/s]",
      "application/vnd.jupyter.widget-view+json": {
       "version_major": 2,
       "version_minor": 0,
       "model_id": "774c24ad816b46a88f0b8e87427e0b21"
      }
     },
     "metadata": {},
     "output_type": "display_data"
    },
    {
     "name": "stdout",
     "output_type": "stream",
     "text": [
      "Optimizing:  irv-smith\n"
     ]
    },
    {
     "name": "stderr",
     "output_type": "stream",
     "text": [
      "/usr/local/lib/python3.9/site-packages/optuna/progress_bar.py:56: ExperimentalWarning: Progress bar is experimental (supported from v1.2.0). The interface can change in the future.\n",
      "  self._init_valid()\n"
     ]
    },
    {
     "data": {
      "text/plain": "  0%|          | 0/200 [00:00<?, ?it/s]",
      "application/vnd.jupyter.widget-view+json": {
       "version_major": 2,
       "version_minor": 0,
       "model_id": "967c50588aad41f49e47229b5f2d43d2"
      }
     },
     "metadata": {},
     "output_type": "display_data"
    },
    {
     "name": "stdout",
     "output_type": "stream",
     "text": [
      "Optimizing:  kylen-granson\n",
      "Optimizing:  shane-zylstra\n",
      "Optimizing:  jake-ferguson\n",
      "Optimizing:  peyton-hendershot\n",
      "Optimizing:  josh-oliver\n"
     ]
    },
    {
     "name": "stderr",
     "output_type": "stream",
     "text": [
      "/usr/local/lib/python3.9/site-packages/optuna/progress_bar.py:56: ExperimentalWarning: Progress bar is experimental (supported from v1.2.0). The interface can change in the future.\n",
      "  self._init_valid()\n"
     ]
    },
    {
     "data": {
      "text/plain": "  0%|          | 0/200 [00:00<?, ?it/s]",
      "application/vnd.jupyter.widget-view+json": {
       "version_major": 2,
       "version_minor": 0,
       "model_id": "b905214560a14f0a94a61af170bfdf48"
      }
     },
     "metadata": {},
     "output_type": "display_data"
    },
    {
     "name": "stdout",
     "output_type": "stream",
     "text": [
      "Optimizing:  adam-trautman\n"
     ]
    },
    {
     "name": "stderr",
     "output_type": "stream",
     "text": [
      "/usr/local/lib/python3.9/site-packages/optuna/progress_bar.py:56: ExperimentalWarning: Progress bar is experimental (supported from v1.2.0). The interface can change in the future.\n",
      "  self._init_valid()\n"
     ]
    },
    {
     "data": {
      "text/plain": "  0%|          | 0/200 [00:00<?, ?it/s]",
      "application/vnd.jupyter.widget-view+json": {
       "version_major": 2,
       "version_minor": 0,
       "model_id": "9b85ce931ee64d3b8df0ad159ddab2fb"
      }
     },
     "metadata": {},
     "output_type": "display_data"
    },
    {
     "name": "stdout",
     "output_type": "stream",
     "text": [
      "Optimizing:  o-j-howard\n"
     ]
    },
    {
     "name": "stderr",
     "output_type": "stream",
     "text": [
      "/usr/local/lib/python3.9/site-packages/optuna/progress_bar.py:56: ExperimentalWarning: Progress bar is experimental (supported from v1.2.0). The interface can change in the future.\n",
      "  self._init_valid()\n"
     ]
    },
    {
     "data": {
      "text/plain": "  0%|          | 0/200 [00:00<?, ?it/s]",
      "application/vnd.jupyter.widget-view+json": {
       "version_major": 2,
       "version_minor": 0,
       "model_id": "51d0f2f637084f90bd53326f8c8306e3"
      }
     },
     "metadata": {},
     "output_type": "display_data"
    },
    {
     "name": "stdout",
     "output_type": "stream",
     "text": [
      "Optimizing:  jonnu-smith\n"
     ]
    },
    {
     "name": "stderr",
     "output_type": "stream",
     "text": [
      "/usr/local/lib/python3.9/site-packages/optuna/progress_bar.py:56: ExperimentalWarning: Progress bar is experimental (supported from v1.2.0). The interface can change in the future.\n",
      "  self._init_valid()\n"
     ]
    },
    {
     "data": {
      "text/plain": "  0%|          | 0/200 [00:00<?, ?it/s]",
      "application/vnd.jupyter.widget-view+json": {
       "version_major": 2,
       "version_minor": 0,
       "model_id": "fd6fce8f34354751a990438ca511eeee"
      }
     },
     "metadata": {},
     "output_type": "display_data"
    },
    {
     "name": "stdout",
     "output_type": "stream",
     "text": [
      "Optimizing:  durham-smythe\n"
     ]
    },
    {
     "name": "stderr",
     "output_type": "stream",
     "text": [
      "/usr/local/lib/python3.9/site-packages/optuna/progress_bar.py:56: ExperimentalWarning: Progress bar is experimental (supported from v1.2.0). The interface can change in the future.\n",
      "  self._init_valid()\n"
     ]
    },
    {
     "data": {
      "text/plain": "  0%|          | 0/200 [00:00<?, ?it/s]",
      "application/vnd.jupyter.widget-view+json": {
       "version_major": 2,
       "version_minor": 0,
       "model_id": "8795cd66910e48dabf6e03461fe2a012"
      }
     },
     "metadata": {},
     "output_type": "display_data"
    },
    {
     "name": "stdout",
     "output_type": "stream",
     "text": [
      "Optimizing:  connor-heyward\n",
      "Optimizing:  teagan-quitoriano\n",
      "Optimizing:  jody-fortson\n",
      "Optimizing:  eric-saubert\n"
     ]
    },
    {
     "name": "stderr",
     "output_type": "stream",
     "text": [
      "/usr/local/lib/python3.9/site-packages/optuna/progress_bar.py:56: ExperimentalWarning: Progress bar is experimental (supported from v1.2.0). The interface can change in the future.\n",
      "  self._init_valid()\n"
     ]
    },
    {
     "data": {
      "text/plain": "  0%|          | 0/200 [00:00<?, ?it/s]",
      "application/vnd.jupyter.widget-view+json": {
       "version_major": 2,
       "version_minor": 0,
       "model_id": "a24dfe61282b4adca0b7d67a38b6f9b4"
      }
     },
     "metadata": {},
     "output_type": "display_data"
    },
    {
     "name": "stdout",
     "output_type": "stream",
     "text": [
      "Optimizing:  marcedes-lewis\n"
     ]
    },
    {
     "name": "stderr",
     "output_type": "stream",
     "text": [
      "/usr/local/lib/python3.9/site-packages/optuna/progress_bar.py:56: ExperimentalWarning: Progress bar is experimental (supported from v1.2.0). The interface can change in the future.\n",
      "  self._init_valid()\n"
     ]
    },
    {
     "data": {
      "text/plain": "  0%|          | 0/200 [00:00<?, ?it/s]",
      "application/vnd.jupyter.widget-view+json": {
       "version_major": 2,
       "version_minor": 0,
       "model_id": "013cd7fb378341f1a8d84d3bf737eb1e"
      }
     },
     "metadata": {},
     "output_type": "display_data"
    },
    {
     "name": "stdout",
     "output_type": "stream",
     "text": [
      "Optimizing:  johnny-mundt\n"
     ]
    },
    {
     "name": "stderr",
     "output_type": "stream",
     "text": [
      "/usr/local/lib/python3.9/site-packages/optuna/progress_bar.py:56: ExperimentalWarning: Progress bar is experimental (supported from v1.2.0). The interface can change in the future.\n",
      "  self._init_valid()\n"
     ]
    },
    {
     "data": {
      "text/plain": "  0%|          | 0/200 [00:00<?, ?it/s]",
      "application/vnd.jupyter.widget-view+json": {
       "version_major": 2,
       "version_minor": 0,
       "model_id": "92ef5f9b31f745f5af06cbb602c9d4dc"
      }
     },
     "metadata": {},
     "output_type": "display_data"
    },
    {
     "name": "stdout",
     "output_type": "stream",
     "text": [
      "Optimizing:  mitchell-wilcox\n",
      "Optimizing:  eric-tomlinson\n"
     ]
    },
    {
     "name": "stderr",
     "output_type": "stream",
     "text": [
      "/usr/local/lib/python3.9/site-packages/optuna/progress_bar.py:56: ExperimentalWarning: Progress bar is experimental (supported from v1.2.0). The interface can change in the future.\n",
      "  self._init_valid()\n"
     ]
    },
    {
     "data": {
      "text/plain": "  0%|          | 0/200 [00:00<?, ?it/s]",
      "application/vnd.jupyter.widget-view+json": {
       "version_major": 2,
       "version_minor": 0,
       "model_id": "79c19479272242619df3dfc01b368b86"
      }
     },
     "metadata": {},
     "output_type": "display_data"
    },
    {
     "name": "stdout",
     "output_type": "stream",
     "text": [
      "Optimizing:  ian-thomas\n"
     ]
    },
    {
     "name": "stderr",
     "output_type": "stream",
     "text": [
      "/usr/local/lib/python3.9/site-packages/optuna/progress_bar.py:56: ExperimentalWarning: Progress bar is experimental (supported from v1.2.0). The interface can change in the future.\n",
      "  self._init_valid()\n"
     ]
    },
    {
     "data": {
      "text/plain": "  0%|          | 0/200 [00:00<?, ?it/s]",
      "application/vnd.jupyter.widget-view+json": {
       "version_major": 2,
       "version_minor": 0,
       "model_id": "ba4225ea9640446385ffba0c99074bf3"
      }
     },
     "metadata": {},
     "output_type": "display_data"
    },
    {
     "name": "stdout",
     "output_type": "stream",
     "text": [
      "Optimizing:  donald-parham\n"
     ]
    },
    {
     "name": "stderr",
     "output_type": "stream",
     "text": [
      "/usr/local/lib/python3.9/site-packages/optuna/progress_bar.py:56: ExperimentalWarning: Progress bar is experimental (supported from v1.2.0). The interface can change in the future.\n",
      "  self._init_valid()\n"
     ]
    },
    {
     "data": {
      "text/plain": "  0%|          | 0/200 [00:00<?, ?it/s]",
      "application/vnd.jupyter.widget-view+json": {
       "version_major": 2,
       "version_minor": 0,
       "model_id": "bfefea1a84e84670924633f93a9f5f9d"
      }
     },
     "metadata": {},
     "output_type": "display_data"
    },
    {
     "name": "stdout",
     "output_type": "stream",
     "text": [
      "Optimizing:  cameron-brate\n"
     ]
    },
    {
     "name": "stderr",
     "output_type": "stream",
     "text": [
      "/usr/local/lib/python3.9/site-packages/optuna/progress_bar.py:56: ExperimentalWarning: Progress bar is experimental (supported from v1.2.0). The interface can change in the future.\n",
      "  self._init_valid()\n"
     ]
    },
    {
     "data": {
      "text/plain": "  0%|          | 0/200 [00:00<?, ?it/s]",
      "application/vnd.jupyter.widget-view+json": {
       "version_major": 2,
       "version_minor": 0,
       "model_id": "b4684676638542049d907a82ed0184d3"
      }
     },
     "metadata": {},
     "output_type": "display_data"
    },
    {
     "name": "stdout",
     "output_type": "stream",
     "text": [
      "Optimizing:  james-mitchell\n",
      "Optimizing:  john-bates\n",
      "Optimizing:  ross-dwelley\n"
     ]
    },
    {
     "name": "stderr",
     "output_type": "stream",
     "text": [
      "/usr/local/lib/python3.9/site-packages/optuna/progress_bar.py:56: ExperimentalWarning: Progress bar is experimental (supported from v1.2.0). The interface can change in the future.\n",
      "  self._init_valid()\n"
     ]
    },
    {
     "data": {
      "text/plain": "  0%|          | 0/200 [00:00<?, ?it/s]",
      "application/vnd.jupyter.widget-view+json": {
       "version_major": 2,
       "version_minor": 0,
       "model_id": "685a773c52aa48f8995c820be0df8850"
      }
     },
     "metadata": {},
     "output_type": "display_data"
    },
    {
     "name": "stdout",
     "output_type": "stream",
     "text": [
      "Optimizing:  albert-okwuegbunam\n"
     ]
    },
    {
     "name": "stderr",
     "output_type": "stream",
     "text": [
      "/usr/local/lib/python3.9/site-packages/optuna/progress_bar.py:56: ExperimentalWarning: Progress bar is experimental (supported from v1.2.0). The interface can change in the future.\n",
      "  self._init_valid()\n"
     ]
    },
    {
     "data": {
      "text/plain": "  0%|          | 0/200 [00:00<?, ?it/s]",
      "application/vnd.jupyter.widget-view+json": {
       "version_major": 2,
       "version_minor": 0,
       "model_id": "e29b66640b0e431ba6d70fc491694343"
      }
     },
     "metadata": {},
     "output_type": "display_data"
    },
    {
     "name": "stdout",
     "output_type": "stream",
     "text": [
      "Optimizing:  ko-kieft\n",
      "Optimizing:  dan-arnold\n"
     ]
    },
    {
     "name": "stderr",
     "output_type": "stream",
     "text": [
      "/usr/local/lib/python3.9/site-packages/optuna/progress_bar.py:56: ExperimentalWarning: Progress bar is experimental (supported from v1.2.0). The interface can change in the future.\n",
      "  self._init_valid()\n"
     ]
    },
    {
     "data": {
      "text/plain": "  0%|          | 0/200 [00:00<?, ?it/s]",
      "application/vnd.jupyter.widget-view+json": {
       "version_major": 2,
       "version_minor": 0,
       "model_id": "9f90e26d1bbe4337afb35f57ed18ca0a"
      }
     },
     "metadata": {},
     "output_type": "display_data"
    },
    {
     "name": "stdout",
     "output_type": "stream",
     "text": [
      "Optimizing:  tanner-hudson\n"
     ]
    },
    {
     "name": "stderr",
     "output_type": "stream",
     "text": [
      "/usr/local/lib/python3.9/site-packages/optuna/progress_bar.py:56: ExperimentalWarning: Progress bar is experimental (supported from v1.2.0). The interface can change in the future.\n",
      "  self._init_valid()\n"
     ]
    },
    {
     "data": {
      "text/plain": "  0%|          | 0/200 [00:00<?, ?it/s]",
      "application/vnd.jupyter.widget-view+json": {
       "version_major": 2,
       "version_minor": 0,
       "model_id": "a4117cefe3874adabc9936dd7127646e"
      }
     },
     "metadata": {},
     "output_type": "display_data"
    },
    {
     "name": "stdout",
     "output_type": "stream",
     "text": [
      "Optimizing:  zach-gentry\n"
     ]
    },
    {
     "name": "stderr",
     "output_type": "stream",
     "text": [
      "/usr/local/lib/python3.9/site-packages/optuna/progress_bar.py:56: ExperimentalWarning: Progress bar is experimental (supported from v1.2.0). The interface can change in the future.\n",
      "  self._init_valid()\n"
     ]
    },
    {
     "data": {
      "text/plain": "  0%|          | 0/200 [00:00<?, ?it/s]",
      "application/vnd.jupyter.widget-view+json": {
       "version_major": 2,
       "version_minor": 0,
       "model_id": "c81fa23b4afd461a991b69dc06461150"
      }
     },
     "metadata": {},
     "output_type": "display_data"
    },
    {
     "name": "stdout",
     "output_type": "stream",
     "text": [
      "Optimizing:  brevin-jordan\n",
      "Optimizing:  chris-myarick\n"
     ]
    },
    {
     "name": "stderr",
     "output_type": "stream",
     "text": [
      "/usr/local/lib/python3.9/site-packages/optuna/progress_bar.py:56: ExperimentalWarning: Progress bar is experimental (supported from v1.2.0). The interface can change in the future.\n",
      "  self._init_valid()\n"
     ]
    },
    {
     "data": {
      "text/plain": "  0%|          | 0/200 [00:00<?, ?it/s]",
      "application/vnd.jupyter.widget-view+json": {
       "version_major": 2,
       "version_minor": 0,
       "model_id": "4707357036b34b028856acb11bd9190c"
      }
     },
     "metadata": {},
     "output_type": "display_data"
    },
    {
     "name": "stdout",
     "output_type": "stream",
     "text": [
      "Optimizing:  quintin-morris\n",
      "Optimizing:  jack-stoll\n",
      "Optimizing:  geoff-swaim\n"
     ]
    },
    {
     "name": "stderr",
     "output_type": "stream",
     "text": [
      "/usr/local/lib/python3.9/site-packages/optuna/progress_bar.py:56: ExperimentalWarning: Progress bar is experimental (supported from v1.2.0). The interface can change in the future.\n",
      "  self._init_valid()\n"
     ]
    },
    {
     "data": {
      "text/plain": "  0%|          | 0/200 [00:00<?, ?it/s]",
      "application/vnd.jupyter.widget-view+json": {
       "version_major": 2,
       "version_minor": 0,
       "model_id": "da1423b69b774c4a9cd23c45a3c966f0"
      }
     },
     "metadata": {},
     "output_type": "display_data"
    },
    {
     "name": "stdout",
     "output_type": "stream",
     "text": [
      "Optimizing:  pharaoh-brown\n"
     ]
    },
    {
     "name": "stderr",
     "output_type": "stream",
     "text": [
      "/usr/local/lib/python3.9/site-packages/optuna/progress_bar.py:56: ExperimentalWarning: Progress bar is experimental (supported from v1.2.0). The interface can change in the future.\n",
      "  self._init_valid()\n"
     ]
    },
    {
     "data": {
      "text/plain": "  0%|          | 0/200 [00:00<?, ?it/s]",
      "application/vnd.jupyter.widget-view+json": {
       "version_major": 2,
       "version_minor": 0,
       "model_id": "1ef59acf905142718aea7638524ec9e5"
      }
     },
     "metadata": {},
     "output_type": "display_data"
    },
    {
     "name": "stdout",
     "output_type": "stream",
     "text": [
      "Optimizing:  josiah-deguara\n"
     ]
    },
    {
     "name": "stderr",
     "output_type": "stream",
     "text": [
      "/usr/local/lib/python3.9/site-packages/optuna/progress_bar.py:56: ExperimentalWarning: Progress bar is experimental (supported from v1.2.0). The interface can change in the future.\n",
      "  self._init_valid()\n"
     ]
    },
    {
     "data": {
      "text/plain": "  0%|          | 0/200 [00:00<?, ?it/s]",
      "application/vnd.jupyter.widget-view+json": {
       "version_major": 2,
       "version_minor": 0,
       "model_id": "755366f216204dbdab1cdac924114307"
      }
     },
     "metadata": {},
     "output_type": "display_data"
    },
    {
     "name": "stdout",
     "output_type": "stream",
     "text": [
      "Optimizing:  brycen-hopkins\n"
     ]
    },
    {
     "name": "stderr",
     "output_type": "stream",
     "text": [
      "/usr/local/lib/python3.9/site-packages/optuna/progress_bar.py:56: ExperimentalWarning: Progress bar is experimental (supported from v1.2.0). The interface can change in the future.\n",
      "  self._init_valid()\n"
     ]
    },
    {
     "data": {
      "text/plain": "  0%|          | 0/200 [00:00<?, ?it/s]",
      "application/vnd.jupyter.widget-view+json": {
       "version_major": 2,
       "version_minor": 0,
       "model_id": "dc09a2c077404a5893b65a85fd3288cd"
      }
     },
     "metadata": {},
     "output_type": "display_data"
    },
    {
     "name": "stdout",
     "output_type": "stream",
     "text": [
      "Optimizing:  anthony-firkser\n"
     ]
    },
    {
     "name": "stderr",
     "output_type": "stream",
     "text": [
      "/usr/local/lib/python3.9/site-packages/optuna/progress_bar.py:56: ExperimentalWarning: Progress bar is experimental (supported from v1.2.0). The interface can change in the future.\n",
      "  self._init_valid()\n"
     ]
    },
    {
     "data": {
      "text/plain": "  0%|          | 0/200 [00:00<?, ?it/s]",
      "application/vnd.jupyter.widget-view+json": {
       "version_major": 2,
       "version_minor": 0,
       "model_id": "4672c77aafbc43c8944b164a8f6a6ed9"
      }
     },
     "metadata": {},
     "output_type": "display_data"
    },
    {
     "name": "stdout",
     "output_type": "stream",
     "text": [
      "Optimizing:  giovanni-ricci\n",
      "Optimizing:  armani-rogers\n",
      "Optimizing:  parker-hesse\n",
      "Optimizing:  kyle-rudolph\n"
     ]
    },
    {
     "name": "stderr",
     "output_type": "stream",
     "text": [
      "/usr/local/lib/python3.9/site-packages/optuna/progress_bar.py:56: ExperimentalWarning: Progress bar is experimental (supported from v1.2.0). The interface can change in the future.\n",
      "  self._init_valid()\n"
     ]
    },
    {
     "data": {
      "text/plain": "  0%|          | 0/200 [00:00<?, ?it/s]",
      "application/vnd.jupyter.widget-view+json": {
       "version_major": 2,
       "version_minor": 0,
       "model_id": "55f3f077d09544599d890480640c3311"
      }
     },
     "metadata": {},
     "output_type": "display_data"
    },
    {
     "name": "stdout",
     "output_type": "stream",
     "text": [
      "Optimizing:  grant-calcaterra\n",
      "Optimizing:  blake-bell\n"
     ]
    },
    {
     "name": "stderr",
     "output_type": "stream",
     "text": [
      "/usr/local/lib/python3.9/site-packages/optuna/progress_bar.py:56: ExperimentalWarning: Progress bar is experimental (supported from v1.2.0). The interface can change in the future.\n",
      "  self._init_valid()\n"
     ]
    },
    {
     "data": {
      "text/plain": "  0%|          | 0/200 [00:00<?, ?it/s]",
      "application/vnd.jupyter.widget-view+json": {
       "version_major": 2,
       "version_minor": 0,
       "model_id": "b3fed52db7324e16aee217201eed32fc"
      }
     },
     "metadata": {},
     "output_type": "display_data"
    },
    {
     "name": "stdout",
     "output_type": "stream",
     "text": [
      "Optimizing:  tre-mckitty\n",
      "Optimizing:  andrew-beck\n"
     ]
    },
    {
     "name": "stderr",
     "output_type": "stream",
     "text": [
      "/usr/local/lib/python3.9/site-packages/optuna/progress_bar.py:56: ExperimentalWarning: Progress bar is experimental (supported from v1.2.0). The interface can change in the future.\n",
      "  self._init_valid()\n"
     ]
    },
    {
     "data": {
      "text/plain": "  0%|          | 0/200 [00:00<?, ?it/s]",
      "application/vnd.jupyter.widget-view+json": {
       "version_major": 2,
       "version_minor": 0,
       "model_id": "95a3fd86a5474dc39393dc66567d35a6"
      }
     },
     "metadata": {},
     "output_type": "display_data"
    },
    {
     "name": "stdout",
     "output_type": "stream",
     "text": [
      "Optimizing:  tyler-mabry\n",
      "Optimizing:  tyler-kroft\n"
     ]
    },
    {
     "name": "stderr",
     "output_type": "stream",
     "text": [
      "/usr/local/lib/python3.9/site-packages/optuna/progress_bar.py:56: ExperimentalWarning: Progress bar is experimental (supported from v1.2.0). The interface can change in the future.\n",
      "  self._init_valid()\n"
     ]
    },
    {
     "data": {
      "text/plain": "  0%|          | 0/200 [00:00<?, ?it/s]",
      "application/vnd.jupyter.widget-view+json": {
       "version_major": 2,
       "version_minor": 0,
       "model_id": "a7b8b1ede83343698e653bb1e5ed8330"
      }
     },
     "metadata": {},
     "output_type": "display_data"
    },
    {
     "name": "stdout",
     "output_type": "stream",
     "text": [
      "Optimizing:  nick-vannett\n"
     ]
    },
    {
     "name": "stderr",
     "output_type": "stream",
     "text": [
      "/usr/local/lib/python3.9/site-packages/optuna/progress_bar.py:56: ExperimentalWarning: Progress bar is experimental (supported from v1.2.0). The interface can change in the future.\n",
      "  self._init_valid()\n"
     ]
    },
    {
     "data": {
      "text/plain": "  0%|          | 0/200 [00:00<?, ?it/s]",
      "application/vnd.jupyter.widget-view+json": {
       "version_major": 2,
       "version_minor": 0,
       "model_id": "5fa4d0ef72784dcb99606e7ca5fdf263"
      }
     },
     "metadata": {},
     "output_type": "display_data"
    },
    {
     "name": "stdout",
     "output_type": "stream",
     "text": [
      "Optimizing:  charlie-kolar\n",
      "Optimizing:  trevon-wesco\n"
     ]
    },
    {
     "name": "stderr",
     "output_type": "stream",
     "text": [
      "/usr/local/lib/python3.9/site-packages/optuna/progress_bar.py:56: ExperimentalWarning: Progress bar is experimental (supported from v1.2.0). The interface can change in the future.\n",
      "  self._init_valid()\n"
     ]
    },
    {
     "data": {
      "text/plain": "  0%|          | 0/200 [00:00<?, ?it/s]",
      "application/vnd.jupyter.widget-view+json": {
       "version_major": 2,
       "version_minor": 0,
       "model_id": "dca5bcf6a2a9445db5f5827ed776be82"
      }
     },
     "metadata": {},
     "output_type": "display_data"
    },
    {
     "name": "stdout",
     "output_type": "stream",
     "text": [
      "Optimizing:  stephen-sullivan\n"
     ]
    },
    {
     "name": "stderr",
     "output_type": "stream",
     "text": [
      "/usr/local/lib/python3.9/site-packages/optuna/progress_bar.py:56: ExperimentalWarning: Progress bar is experimental (supported from v1.2.0). The interface can change in the future.\n",
      "  self._init_valid()\n"
     ]
    },
    {
     "data": {
      "text/plain": "  0%|          | 0/200 [00:00<?, ?it/s]",
      "application/vnd.jupyter.widget-view+json": {
       "version_major": 2,
       "version_minor": 0,
       "model_id": "1ea047cc574743fb85c48a254c18bb41"
      }
     },
     "metadata": {},
     "output_type": "display_data"
    },
    {
     "name": "stdout",
     "output_type": "stream",
     "text": [
      "Optimizing:  chris-manhertz\n"
     ]
    },
    {
     "name": "stderr",
     "output_type": "stream",
     "text": [
      "/usr/local/lib/python3.9/site-packages/optuna/progress_bar.py:56: ExperimentalWarning: Progress bar is experimental (supported from v1.2.0). The interface can change in the future.\n",
      "  self._init_valid()\n"
     ]
    },
    {
     "data": {
      "text/plain": "  0%|          | 0/200 [00:00<?, ?it/s]",
      "application/vnd.jupyter.widget-view+json": {
       "version_major": 2,
       "version_minor": 0,
       "model_id": "88246024103648c9b5154fbb60d4d5c8"
      }
     },
     "metadata": {},
     "output_type": "display_data"
    },
    {
     "name": "stdout",
     "output_type": "stream",
     "text": [
      "Optimizing:  luke-farrell\n",
      "Optimizing:  kendall-blanton\n"
     ]
    },
    {
     "name": "stderr",
     "output_type": "stream",
     "text": [
      "/usr/local/lib/python3.9/site-packages/optuna/progress_bar.py:56: ExperimentalWarning: Progress bar is experimental (supported from v1.2.0). The interface can change in the future.\n",
      "  self._init_valid()\n"
     ]
    },
    {
     "data": {
      "text/plain": "  0%|          | 0/200 [00:00<?, ?it/s]",
      "application/vnd.jupyter.widget-view+json": {
       "version_major": 2,
       "version_minor": 0,
       "model_id": "47d26aee4f2c4df8b97e795d1a354a03"
      }
     },
     "metadata": {},
     "output_type": "display_data"
    },
    {
     "name": "stdout",
     "output_type": "stream",
     "text": [
      "Optimizing:  ryan-francis-griffin\n"
     ]
    },
    {
     "name": "stderr",
     "output_type": "stream",
     "text": [
      "/usr/local/lib/python3.9/site-packages/optuna/progress_bar.py:56: ExperimentalWarning: Progress bar is experimental (supported from v1.2.0). The interface can change in the future.\n",
      "  self._init_valid()\n"
     ]
    },
    {
     "data": {
      "text/plain": "  0%|          | 0/200 [00:00<?, ?it/s]",
      "application/vnd.jupyter.widget-view+json": {
       "version_major": 2,
       "version_minor": 0,
       "model_id": "cf5526b8fc0e482fbbc3233db77fa964"
      }
     },
     "metadata": {},
     "output_type": "display_data"
    },
    {
     "name": "stdout",
     "output_type": "stream",
     "text": [
      "Optimizing:  tyler-davis-3\n"
     ]
    },
    {
     "name": "stderr",
     "output_type": "stream",
     "text": [
      "/usr/local/lib/python3.9/site-packages/optuna/progress_bar.py:56: ExperimentalWarning: Progress bar is experimental (supported from v1.2.0). The interface can change in the future.\n",
      "  self._init_valid()\n"
     ]
    },
    {
     "data": {
      "text/plain": "  0%|          | 0/200 [00:00<?, ?it/s]",
      "application/vnd.jupyter.widget-view+json": {
       "version_major": 2,
       "version_minor": 0,
       "model_id": "03a88156f4ac478ab9f4066a6b353cfd"
      }
     },
     "metadata": {},
     "output_type": "display_data"
    },
    {
     "name": "stdout",
     "output_type": "stream",
     "text": [
      "Optimizing:  ben-ellefson\n"
     ]
    },
    {
     "name": "stderr",
     "output_type": "stream",
     "text": [
      "/usr/local/lib/python3.9/site-packages/optuna/progress_bar.py:56: ExperimentalWarning: Progress bar is experimental (supported from v1.2.0). The interface can change in the future.\n",
      "  self._init_valid()\n"
     ]
    },
    {
     "data": {
      "text/plain": "  0%|          | 0/200 [00:00<?, ?it/s]",
      "application/vnd.jupyter.widget-view+json": {
       "version_major": 2,
       "version_minor": 0,
       "model_id": "80a341da0ee6488980da82e6c1aa16df"
      }
     },
     "metadata": {},
     "output_type": "display_data"
    },
    {
     "name": "stdout",
     "output_type": "stream",
     "text": [
      "Optimizing:  cole-turner\n",
      "Optimizing:  jesper-horsted\n"
     ]
    },
    {
     "name": "stderr",
     "output_type": "stream",
     "text": [
      "/usr/local/lib/python3.9/site-packages/optuna/progress_bar.py:56: ExperimentalWarning: Progress bar is experimental (supported from v1.2.0). The interface can change in the future.\n",
      "  self._init_valid()\n"
     ]
    },
    {
     "data": {
      "text/plain": "  0%|          | 0/200 [00:00<?, ?it/s]",
      "application/vnd.jupyter.widget-view+json": {
       "version_major": 2,
       "version_minor": 0,
       "model_id": "1568327f3b50421d971442515206fe6a"
      }
     },
     "metadata": {},
     "output_type": "display_data"
    },
    {
     "name": "stdout",
     "output_type": "stream",
     "text": [
      "Optimizing:  maxx-williams\n"
     ]
    },
    {
     "name": "stderr",
     "output_type": "stream",
     "text": [
      "/usr/local/lib/python3.9/site-packages/optuna/progress_bar.py:56: ExperimentalWarning: Progress bar is experimental (supported from v1.2.0). The interface can change in the future.\n",
      "  self._init_valid()\n"
     ]
    },
    {
     "data": {
      "text/plain": "  0%|          | 0/200 [00:00<?, ?it/s]",
      "application/vnd.jupyter.widget-view+json": {
       "version_major": 2,
       "version_minor": 0,
       "model_id": "322eaf16f0114a5892b33e1e61cea0bd"
      }
     },
     "metadata": {},
     "output_type": "display_data"
    },
    {
     "name": "stdout",
     "output_type": "stream",
     "text": [
      "Optimizing:  stone-smartt\n",
      "Optimizing:  sean-mckeon\n"
     ]
    },
    {
     "name": "stderr",
     "output_type": "stream",
     "text": [
      "/usr/local/lib/python3.9/site-packages/optuna/progress_bar.py:56: ExperimentalWarning: Progress bar is experimental (supported from v1.2.0). The interface can change in the future.\n",
      "  self._init_valid()\n"
     ]
    },
    {
     "data": {
      "text/plain": "  0%|          | 0/200 [00:00<?, ?it/s]",
      "application/vnd.jupyter.widget-view+json": {
       "version_major": 2,
       "version_minor": 0,
       "model_id": "6a4b93149d544ec58fe993cc4c6b361f"
      }
     },
     "metadata": {},
     "output_type": "display_data"
    },
    {
     "name": "stdout",
     "output_type": "stream",
     "text": [
      "Optimizing:  stephen-anderson\n"
     ]
    },
    {
     "name": "stderr",
     "output_type": "stream",
     "text": [
      "/usr/local/lib/python3.9/site-packages/optuna/progress_bar.py:56: ExperimentalWarning: Progress bar is experimental (supported from v1.2.0). The interface can change in the future.\n",
      "  self._init_valid()\n"
     ]
    },
    {
     "data": {
      "text/plain": "  0%|          | 0/200 [00:00<?, ?it/s]",
      "application/vnd.jupyter.widget-view+json": {
       "version_major": 2,
       "version_minor": 0,
       "model_id": "734c16f5b6dd42f2b9834b30743bae1b"
      }
     },
     "metadata": {},
     "output_type": "display_data"
    },
    {
     "name": "stdout",
     "output_type": "stream",
     "text": [
      "Optimizing:  jeremy-ruckert\n",
      "Optimizing:  tommy-sweeney\n"
     ]
    },
    {
     "name": "stderr",
     "output_type": "stream",
     "text": [
      "/usr/local/lib/python3.9/site-packages/optuna/progress_bar.py:56: ExperimentalWarning: Progress bar is experimental (supported from v1.2.0). The interface can change in the future.\n",
      "  self._init_valid()\n"
     ]
    },
    {
     "data": {
      "text/plain": "  0%|          | 0/200 [00:00<?, ?it/s]",
      "application/vnd.jupyter.widget-view+json": {
       "version_major": 2,
       "version_minor": 0,
       "model_id": "f4c6714d091d43428b992734ffb478ee"
      }
     },
     "metadata": {},
     "output_type": "display_data"
    },
    {
     "name": "stdout",
     "output_type": "stream",
     "text": [
      "Optimizing:  jacob-harris\n",
      "Optimizing:  mason-schreck\n"
     ]
    },
    {
     "name": "stderr",
     "output_type": "stream",
     "text": [
      "/usr/local/lib/python3.9/site-packages/optuna/progress_bar.py:56: ExperimentalWarning: Progress bar is experimental (supported from v1.2.0). The interface can change in the future.\n",
      "  self._init_valid()\n"
     ]
    },
    {
     "data": {
      "text/plain": "  0%|          | 0/200 [00:00<?, ?it/s]",
      "application/vnd.jupyter.widget-view+json": {
       "version_major": 2,
       "version_minor": 0,
       "model_id": "a68be664ef074320a89d09e672e0ff35"
      }
     },
     "metadata": {},
     "output_type": "display_data"
    },
    {
     "name": "stdout",
     "output_type": "stream",
     "text": [
      "Optimizing:  devin-asiasi\n"
     ]
    },
    {
     "name": "stderr",
     "output_type": "stream",
     "text": [
      "/usr/local/lib/python3.9/site-packages/optuna/progress_bar.py:56: ExperimentalWarning: Progress bar is experimental (supported from v1.2.0). The interface can change in the future.\n",
      "  self._init_valid()\n"
     ]
    },
    {
     "data": {
      "text/plain": "  0%|          | 0/200 [00:00<?, ?it/s]",
      "application/vnd.jupyter.widget-view+json": {
       "version_major": 2,
       "version_minor": 0,
       "model_id": "b01e899947fb49e48fc65538cefdeb46"
      }
     },
     "metadata": {},
     "output_type": "display_data"
    },
    {
     "name": "stdout",
     "output_type": "stream",
     "text": [
      "Optimizing:  richard-rodgers\n"
     ]
    },
    {
     "name": "stderr",
     "output_type": "stream",
     "text": [
      "/usr/local/lib/python3.9/site-packages/optuna/progress_bar.py:56: ExperimentalWarning: Progress bar is experimental (supported from v1.2.0). The interface can change in the future.\n",
      "  self._init_valid()\n"
     ]
    },
    {
     "data": {
      "text/plain": "  0%|          | 0/200 [00:00<?, ?it/s]",
      "application/vnd.jupyter.widget-view+json": {
       "version_major": 2,
       "version_minor": 0,
       "model_id": "b6b8cb33188247c393d52d1c6fc75018"
      }
     },
     "metadata": {},
     "output_type": "display_data"
    }
   ],
   "source": [
    "best_sets = []\n",
    "\n",
    "with open('tes.csv', mode ='r') as file:\n",
    "    f = csv.reader(file)\n",
    "\n",
    "    for row in f:\n",
    "        fantasy_points = []\n",
    "        player, pos = row[0], row[1]\n",
    "        print(\"Optimizing: \", player)\n",
    "        df = scrape(0, pos, player)  # get receiving\n",
    "\n",
    "        for i in range(df.shape[0] - 1):\n",
    "            # for te\n",
    "            points = 0\n",
    "\n",
    "            # receiving TD\n",
    "            rush_td = df.at[i, 'TD']\n",
    "            points += (rush_td * 6)\n",
    "\n",
    "            # receiving YDs\n",
    "            rush_yds = df.at[i, 'YDS'] * 0.1\n",
    "            points += rush_yds\n",
    "\n",
    "            fantasy_points.append(points)\n",
    "\n",
    "        fantasy_points.append(sum(fantasy_points))  # this line calculates the total sum of all fantasy points on table\n",
    "        df['Fantasy Points'] = fantasy_points\n",
    "\n",
    "        df.drop('YEAR', axis=1, inplace=True)\n",
    "        df.drop('TEAM', axis=1, inplace=True)\n",
    "        df.drop('G', axis=1, inplace=True)\n",
    "\n",
    "        df.drop(df.shape[0] - 1, axis=0, inplace=True)\n",
    "\n",
    "        df = df[::-1]\n",
    "\n",
    "        temp = pd.DataFrame()\n",
    "        temp['re-REC'] = df['REC']\n",
    "        temp['re-YDS'] = df['YDS']\n",
    "        temp['re-AVG'] = df['AVG']\n",
    "        temp['re-LNG'] = df['LNG']\n",
    "        temp['re-TD'] = df['TD']\n",
    "        temp['re-1st'] = df['1st']\n",
    "        temp['re-1st'] = df['1st%']\n",
    "        temp['re-20+'] = df['20+']\n",
    "        temp['re-40+'] = df['40+']\n",
    "        temp['Fantasy Points'] = df['Fantasy Points']\n",
    "        target = df['Fantasy Points'].tolist()\n",
    "        target.pop(0)\n",
    "        target.append(0)\n",
    "        temp['Target'] = target\n",
    "        df = temp\n",
    "        df = df[::-1]  # reverse the rows\n",
    "\n",
    "        df = df.fillna(0)\n",
    "        df = df.iloc[1:]\n",
    "\n",
    "        #print(df.shape[0])\n",
    "\n",
    "        if df.shape[0] > 1:\n",
    "            data, label = df.iloc[:, :-1], df.iloc[:, -1]\n",
    "            xgb.DMatrix(data=data, label=label, enable_categorical=True)\n",
    "\n",
    "            data_train, data_test = data.iloc[1:], data.iloc[:1]  # most recent season\n",
    "            label_train, label_test = label.iloc[1:], label.iloc[:1]\n",
    "\n",
    "            scaler = StandardScaler()\n",
    "            #print(data_train)\n",
    "            data_train = scaler.fit_transform(data_train)\n",
    "            data_test = scaler.transform(data_test)\n",
    "\n",
    "            model = xgb.XGBRegressor()\n",
    "            model.fit(data_train, label_train)\n",
    "            preds = model.predict(data_test)\n",
    "\n",
    "            # optimize parameters\n",
    "            num_trials = 200\n",
    "\n",
    "            start = time.time()\n",
    "            optuna.logging.set_verbosity(optuna.logging.WARNING)\n",
    "            study = optuna.create_study(direction='minimize', study_name='regression') # when first run\n",
    "            #study = joblib.load('qb.pkl')\n",
    "            study.optimize(objective, n_trials=num_trials, show_progress_bar=True, n_jobs=-1)\n",
    "\n",
    "            #joblib.dump(study, \"test.pkl\")  # save study\n",
    "\n",
    "            # result = study.best_params\n",
    "            result = study.best_trial.params\n",
    "            #print(\"Time: \", time.time() - start)\n",
    "            #print(result)\n",
    "            best_sets.append(result)"
   ],
   "metadata": {
    "collapsed": false
   }
  },
  {
   "cell_type": "code",
   "execution_count": 5,
   "outputs": [
    {
     "data": {
      "text/plain": "[{'max_depth': 7,\n  'learning_rate': 0.09309995995529681,\n  'n_estimators': 265,\n  'min_child_weight': 1,\n  'gamma': 0.6699921882993306,\n  'subsample': 0.8812984683779539,\n  'colsample_bytree': 0.9857941864703951,\n  'reg_alpha': 0.12324322507489847,\n  'reg_lambda': 0.3742545331306651,\n  'random_state': 712},\n {'max_depth': 3,\n  'learning_rate': 0.23814684845990025,\n  'n_estimators': 381,\n  'min_child_weight': 3,\n  'gamma': 0.3373545947852323,\n  'subsample': 0.7541984047288197,\n  'colsample_bytree': 0.6667538856794842,\n  'reg_alpha': 0.08854041651617969,\n  'reg_lambda': 0.018031214478010982,\n  'random_state': 936},\n {'max_depth': 4,\n  'learning_rate': 0.09310649134491553,\n  'n_estimators': 662,\n  'min_child_weight': 4,\n  'gamma': 0.69142377833821,\n  'subsample': 0.5488027323683404,\n  'colsample_bytree': 0.37994222672449685,\n  'reg_alpha': 0.9332921694472365,\n  'reg_lambda': 0.785819147784661,\n  'random_state': 967},\n {'max_depth': 8,\n  'learning_rate': 0.22233184815134413,\n  'n_estimators': 561,\n  'min_child_weight': 2,\n  'gamma': 0.17747604912999843,\n  'subsample': 0.832361552047277,\n  'colsample_bytree': 0.6947639700766385,\n  'reg_alpha': 0.6691484044077757,\n  'reg_lambda': 0.6959493070498403,\n  'random_state': 406},\n {'max_depth': 7,\n  'learning_rate': 0.22084464991859246,\n  'n_estimators': 299,\n  'min_child_weight': 1,\n  'gamma': 0.02072301342319649,\n  'subsample': 0.5995630403135124,\n  'colsample_bytree': 0.9484884347562524,\n  'reg_alpha': 0.8585928469271915,\n  'reg_lambda': 0.9920298973415339,\n  'random_state': 756},\n {'max_depth': 7,\n  'learning_rate': 0.17641929075929852,\n  'n_estimators': 560,\n  'min_child_weight': 1,\n  'gamma': 0.32347107237545475,\n  'subsample': 0.9976672579477904,\n  'colsample_bytree': 0.18981550799394872,\n  'reg_alpha': 0.15491599091076536,\n  'reg_lambda': 0.0686171930126801,\n  'random_state': 994},\n {'max_depth': 4,\n  'learning_rate': 0.13692673199617117,\n  'n_estimators': 922,\n  'min_child_weight': 1,\n  'gamma': 0.8212097393342003,\n  'subsample': 0.3967998119272685,\n  'colsample_bytree': 0.8222387733707508,\n  'reg_alpha': 0.01008106379886337,\n  'reg_lambda': 0.9843424762240949,\n  'random_state': 719},\n {'max_depth': 8,\n  'learning_rate': 0.11527458066225904,\n  'n_estimators': 214,\n  'min_child_weight': 1,\n  'gamma': 0.35259947986201834,\n  'subsample': 0.37197796868069366,\n  'colsample_bytree': 0.3815040005072057,\n  'reg_alpha': 0.24023529691506745,\n  'reg_lambda': 0.07160183103167057,\n  'random_state': 528},\n {'max_depth': 4,\n  'learning_rate': 0.24648262200570276,\n  'n_estimators': 871,\n  'min_child_weight': 1,\n  'gamma': 0.6964259390092004,\n  'subsample': 0.2279165144253765,\n  'colsample_bytree': 0.2530299669723111,\n  'reg_alpha': 0.6348516931760253,\n  'reg_lambda': 0.6675089745291756,\n  'random_state': 567},\n {'max_depth': 3,\n  'learning_rate': 0.10213737972693678,\n  'n_estimators': 970,\n  'min_child_weight': 1,\n  'gamma': 0.9082511168161868,\n  'subsample': 0.38864355230490827,\n  'colsample_bytree': 0.35417715730317617,\n  'reg_alpha': 0.8147893699125832,\n  'reg_lambda': 0.6382548082104629,\n  'random_state': 345},\n {'max_depth': 7,\n  'learning_rate': 0.17090129189420672,\n  'n_estimators': 432,\n  'min_child_weight': 2,\n  'gamma': 0.06008247979953528,\n  'subsample': 0.6304168696133805,\n  'colsample_bytree': 0.4513774158947663,\n  'reg_alpha': 0.1519650393311428,\n  'reg_lambda': 0.5512017520896372,\n  'random_state': 481},\n {'max_depth': 3,\n  'learning_rate': 0.17275282322812596,\n  'n_estimators': 465,\n  'min_child_weight': 1,\n  'gamma': 0.8285890607795079,\n  'subsample': 0.865453326124259,\n  'colsample_bytree': 0.9013908550146341,\n  'reg_alpha': 0.3635031288492454,\n  'reg_lambda': 0.31341841965238554,\n  'random_state': 31},\n {'max_depth': 8,\n  'learning_rate': 0.1787305275387209,\n  'n_estimators': 836,\n  'min_child_weight': 1,\n  'gamma': 0.6143748157853265,\n  'subsample': 0.8701091380999221,\n  'colsample_bytree': 0.8887205636978652,\n  'reg_alpha': 0.039160045813127584,\n  'reg_lambda': 0.05646962443969283,\n  'random_state': 876},\n {'max_depth': 1,\n  'learning_rate': 0.17295389501254405,\n  'n_estimators': 209,\n  'min_child_weight': 2,\n  'gamma': 0.5116998802141831,\n  'subsample': 0.5537705756800744,\n  'colsample_bytree': 0.6908345838816891,\n  'reg_alpha': 0.5856352001095093,\n  'reg_lambda': 0.8019186457270534,\n  'random_state': 21},\n {'max_depth': 7,\n  'learning_rate': 0.0947650096981722,\n  'n_estimators': 178,\n  'min_child_weight': 1,\n  'gamma': 0.7676795203159007,\n  'subsample': 0.4683203092396583,\n  'colsample_bytree': 0.8891364552919754,\n  'reg_alpha': 0.8939737068400776,\n  'reg_lambda': 0.07960608870269918,\n  'random_state': 738},\n {'max_depth': 5,\n  'learning_rate': 0.24543665503872816,\n  'n_estimators': 766,\n  'min_child_weight': 1,\n  'gamma': 0.059313742732303124,\n  'subsample': 0.21448335516072575,\n  'colsample_bytree': 0.2900338524900087,\n  'reg_alpha': 0.7609131279366946,\n  'reg_lambda': 0.8556694988423469,\n  'random_state': 896},\n {'max_depth': 10,\n  'learning_rate': 0.018413764939333617,\n  'n_estimators': 294,\n  'min_child_weight': 1,\n  'gamma': 0.25615250727467626,\n  'subsample': 0.32835471008479067,\n  'colsample_bytree': 0.08423633301637959,\n  'reg_alpha': 0.11768754672634303,\n  'reg_lambda': 0.7932200236553943,\n  'random_state': 560},\n {'max_depth': 1,\n  'learning_rate': 0.10224434585004405,\n  'n_estimators': 658,\n  'min_child_weight': 1,\n  'gamma': 0.5667909514419883,\n  'subsample': 0.9454239458253377,\n  'colsample_bytree': 0.03793221671621311,\n  'reg_alpha': 0.6108570816695165,\n  'reg_lambda': 0.6442326587334151,\n  'random_state': 515},\n {'max_depth': 7,\n  'learning_rate': 0.2613316087180079,\n  'n_estimators': 702,\n  'min_child_weight': 3,\n  'gamma': 0.04933087890819328,\n  'subsample': 0.23836162732979022,\n  'colsample_bytree': 0.646964283227092,\n  'reg_alpha': 0.26834150324235867,\n  'reg_lambda': 0.7999427363620624,\n  'random_state': 839},\n {'max_depth': 4,\n  'learning_rate': 0.11151129361599872,\n  'n_estimators': 146,\n  'min_child_weight': 4,\n  'gamma': 0.9067063516096089,\n  'subsample': 0.5319430125778666,\n  'colsample_bytree': 0.12283663757587122,\n  'reg_alpha': 0.16561529665209704,\n  'reg_lambda': 0.3558782770838433,\n  'random_state': 51},\n {'max_depth': 8,\n  'learning_rate': 0.023519674530056846,\n  'n_estimators': 915,\n  'min_child_weight': 2,\n  'gamma': 0.9835441578331019,\n  'subsample': 0.56767447096516,\n  'colsample_bytree': 0.2608490838100711,\n  'reg_alpha': 0.453163113567968,\n  'reg_lambda': 0.0821639474644425,\n  'random_state': 325},\n {'max_depth': 3,\n  'learning_rate': 0.0044048461368488,\n  'n_estimators': 330,\n  'min_child_weight': 4,\n  'gamma': 0.9894325233035492,\n  'subsample': 0.9511730064639061,\n  'colsample_bytree': 0.8598986849161818,\n  'reg_alpha': 0.5519696487025214,\n  'reg_lambda': 0.9910823110021725,\n  'random_state': 164},\n {'max_depth': 5,\n  'learning_rate': 0.04315460199346126,\n  'n_estimators': 682,\n  'min_child_weight': 3,\n  'gamma': 0.9338106108409168,\n  'subsample': 0.17717333235075494,\n  'colsample_bytree': 0.11310552005942037,\n  'reg_alpha': 0.1627483393157796,\n  'reg_lambda': 0.10793959817530965,\n  'random_state': 208},\n {'max_depth': 9,\n  'learning_rate': 0.2608665470540028,\n  'n_estimators': 648,\n  'min_child_weight': 1,\n  'gamma': 0.8858687543892168,\n  'subsample': 0.941682322818194,\n  'colsample_bytree': 0.9292999126196495,\n  'reg_alpha': 0.35004403983927784,\n  'reg_lambda': 0.7389819564846716,\n  'random_state': 682},\n {'max_depth': 10,\n  'learning_rate': 0.06123411838787417,\n  'n_estimators': 613,\n  'min_child_weight': 2,\n  'gamma': 0.40239210303184575,\n  'subsample': 0.42755999475923384,\n  'colsample_bytree': 0.6450731563299847,\n  'reg_alpha': 0.18885307711734847,\n  'reg_lambda': 0.046951895031816224,\n  'random_state': 620},\n {'max_depth': 9,\n  'learning_rate': 0.27900916348683985,\n  'n_estimators': 359,\n  'min_child_weight': 2,\n  'gamma': 0.43396404175209025,\n  'subsample': 0.6846044857546791,\n  'colsample_bytree': 0.5867114251425202,\n  'reg_alpha': 0.28401128198455433,\n  'reg_lambda': 0.27031103067830253,\n  'random_state': 848},\n {'max_depth': 10,\n  'learning_rate': 0.2796720586597818,\n  'n_estimators': 634,\n  'min_child_weight': 1,\n  'gamma': 0.4781850139315835,\n  'subsample': 0.677674809728926,\n  'colsample_bytree': 0.08747520457604015,\n  'reg_alpha': 0.01000617952224838,\n  'reg_lambda': 0.612176246636243,\n  'random_state': 53},\n {'max_depth': 6,\n  'learning_rate': 0.27055281899552236,\n  'n_estimators': 857,\n  'min_child_weight': 1,\n  'gamma': 0.9388402338748928,\n  'subsample': 0.6987334248062997,\n  'colsample_bytree': 0.4094256453621961,\n  'reg_alpha': 0.11620749695556604,\n  'reg_lambda': 0.03134368247232971,\n  'random_state': 226},\n {'max_depth': 3,\n  'learning_rate': 0.2519565013231159,\n  'n_estimators': 897,\n  'min_child_weight': 4,\n  'gamma': 0.07347650729483285,\n  'subsample': 0.5918267203364234,\n  'colsample_bytree': 0.6314041938897286,\n  'reg_alpha': 0.8618067659212831,\n  'reg_lambda': 0.4815616888163341,\n  'random_state': 811},\n {'max_depth': 10,\n  'learning_rate': 0.2391526172930829,\n  'n_estimators': 837,\n  'min_child_weight': 3,\n  'gamma': 0.6714654098277084,\n  'subsample': 0.3629329899755258,\n  'colsample_bytree': 0.3398493892498108,\n  'reg_alpha': 0.7615371335836784,\n  'reg_lambda': 0.616206265775312,\n  'random_state': 362},\n {'max_depth': 7,\n  'learning_rate': 0.27009029567967163,\n  'n_estimators': 72,\n  'min_child_weight': 2,\n  'gamma': 0.5847453793238079,\n  'subsample': 0.35913512133898123,\n  'colsample_bytree': 0.7721476571672584,\n  'reg_alpha': 0.48982046213641667,\n  'reg_lambda': 0.7679451539050356,\n  'random_state': 158},\n {'max_depth': 10,\n  'learning_rate': 0.2019599616823933,\n  'n_estimators': 776,\n  'min_child_weight': 1,\n  'gamma': 0.2365026610515813,\n  'subsample': 0.7525238126811732,\n  'colsample_bytree': 0.268960238827229,\n  'reg_alpha': 0.7088698173934042,\n  'reg_lambda': 0.6658513571335266,\n  'random_state': 90},\n {'max_depth': 9,\n  'learning_rate': 0.07857600994673837,\n  'n_estimators': 858,\n  'min_child_weight': 1,\n  'gamma': 0.5743532223318674,\n  'subsample': 0.020640012454464694,\n  'colsample_bytree': 0.3982426726371521,\n  'reg_alpha': 0.017886479488544178,\n  'reg_lambda': 0.8330259562743819,\n  'random_state': 413},\n {'max_depth': 10,\n  'learning_rate': 0.2579086960640198,\n  'n_estimators': 890,\n  'min_child_weight': 1,\n  'gamma': 0.41597212779241255,\n  'subsample': 0.5864297408134101,\n  'colsample_bytree': 0.9912449605595848,\n  'reg_alpha': 0.3377894424368033,\n  'reg_lambda': 0.9411096700724084,\n  'random_state': 945},\n {'max_depth': 2,\n  'learning_rate': 0.2556402543184358,\n  'n_estimators': 91,\n  'min_child_weight': 1,\n  'gamma': 0.532374847369846,\n  'subsample': 0.07131705596589305,\n  'colsample_bytree': 0.8749467461889079,\n  'reg_alpha': 0.9111661569818694,\n  'reg_lambda': 0.9657265644050471,\n  'random_state': 505},\n {'max_depth': 1,\n  'learning_rate': 0.04594552652854723,\n  'n_estimators': 171,\n  'min_child_weight': 1,\n  'gamma': 0.8221796422779297,\n  'subsample': 0.35508653198555074,\n  'colsample_bytree': 0.6264744816028802,\n  'reg_alpha': 0.5540254024158964,\n  'reg_lambda': 0.4365164208546236,\n  'random_state': 332},\n {'max_depth': 4,\n  'learning_rate': 0.002264845263002584,\n  'n_estimators': 647,\n  'min_child_weight': 1,\n  'gamma': 0.24189683133268125,\n  'subsample': 0.1243434575647018,\n  'colsample_bytree': 0.2679222143387364,\n  'reg_alpha': 0.3349937201833715,\n  'reg_lambda': 0.17436768731261018,\n  'random_state': 906},\n {'max_depth': 10,\n  'learning_rate': 0.23173093571262085,\n  'n_estimators': 53,\n  'min_child_weight': 2,\n  'gamma': 0.3680263604481174,\n  'subsample': 0.1752816099576703,\n  'colsample_bytree': 0.2960519397175894,\n  'reg_alpha': 0.9694341794659976,\n  'reg_lambda': 0.2961612074857033,\n  'random_state': 103},\n {'max_depth': 3,\n  'learning_rate': 0.11072438536104501,\n  'n_estimators': 936,\n  'min_child_weight': 2,\n  'gamma': 0.3309195245968195,\n  'subsample': 0.8762985698519545,\n  'colsample_bytree': 0.40088479915943115,\n  'reg_alpha': 0.4766174061618392,\n  'reg_lambda': 0.4310983808796782,\n  'random_state': 448},\n {'max_depth': 8,\n  'learning_rate': 0.17653088015407836,\n  'n_estimators': 272,\n  'min_child_weight': 6,\n  'gamma': 0.20747573208809678,\n  'subsample': 0.14441697052452127,\n  'colsample_bytree': 0.6503167161114548,\n  'reg_alpha': 0.836895935078912,\n  'reg_lambda': 0.8306590891933695,\n  'random_state': 296},\n {'max_depth': 10,\n  'learning_rate': 0.18853210820537977,\n  'n_estimators': 279,\n  'min_child_weight': 1,\n  'gamma': 0.44945015775843716,\n  'subsample': 0.7976315927802936,\n  'colsample_bytree': 0.47665593893692343,\n  'reg_alpha': 0.6208650204756694,\n  'reg_lambda': 0.27416117357607056,\n  'random_state': 913},\n {'max_depth': 4,\n  'learning_rate': 0.09473358502276572,\n  'n_estimators': 175,\n  'min_child_weight': 4,\n  'gamma': 0.18946507497585474,\n  'subsample': 0.5606968371699157,\n  'colsample_bytree': 0.24732828357663522,\n  'reg_alpha': 0.1616310446022472,\n  'reg_lambda': 0.3586067177922966,\n  'random_state': 989},\n {'max_depth': 6,\n  'learning_rate': 0.16396739683450923,\n  'n_estimators': 798,\n  'min_child_weight': 1,\n  'gamma': 0.8399756648239144,\n  'subsample': 0.9220802559592519,\n  'colsample_bytree': 0.2879571356403908,\n  'reg_alpha': 0.17487103775566032,\n  'reg_lambda': 0.46425030172244125,\n  'random_state': 858},\n {'max_depth': 4,\n  'learning_rate': 0.22130769173865816,\n  'n_estimators': 155,\n  'min_child_weight': 1,\n  'gamma': 0.4141685699199248,\n  'subsample': 0.03152835266209327,\n  'colsample_bytree': 0.9766866538367385,\n  'reg_alpha': 0.818740319678789,\n  'reg_lambda': 0.5707630728015272,\n  'random_state': 477},\n {'max_depth': 5,\n  'learning_rate': 0.015350811868774693,\n  'n_estimators': 869,\n  'min_child_weight': 2,\n  'gamma': 0.849157079853008,\n  'subsample': 0.051042491080022914,\n  'colsample_bytree': 0.7024577508674796,\n  'reg_alpha': 0.9765560791828394,\n  'reg_lambda': 0.8243678841605829,\n  'random_state': 160},\n {'max_depth': 8,\n  'learning_rate': 0.23803021502264632,\n  'n_estimators': 471,\n  'min_child_weight': 1,\n  'gamma': 0.3095232547182144,\n  'subsample': 0.6215753295104971,\n  'colsample_bytree': 0.13171586465643384,\n  'reg_alpha': 0.6505059445138811,\n  'reg_lambda': 0.49505129329697556,\n  'random_state': 700},\n {'max_depth': 2,\n  'learning_rate': 0.019101147022760404,\n  'n_estimators': 328,\n  'min_child_weight': 1,\n  'gamma': 0.6495645060039901,\n  'subsample': 0.25831609232784486,\n  'colsample_bytree': 0.3599664657173928,\n  'reg_alpha': 0.13387955820674874,\n  'reg_lambda': 0.5159038034306428,\n  'random_state': 569},\n {'max_depth': 10,\n  'learning_rate': 0.08653231271603841,\n  'n_estimators': 356,\n  'min_child_weight': 1,\n  'gamma': 0.053020951226579315,\n  'subsample': 0.8671843829057587,\n  'colsample_bytree': 0.8048328217116073,\n  'reg_alpha': 0.5304469461846755,\n  'reg_lambda': 0.2670668680898761,\n  'random_state': 601},\n {'max_depth': 4,\n  'learning_rate': 0.0312559567098664,\n  'n_estimators': 961,\n  'min_child_weight': 1,\n  'gamma': 0.06654402830140865,\n  'subsample': 0.9220528088916329,\n  'colsample_bytree': 0.03478920479749292,\n  'reg_alpha': 0.02872283042908158,\n  'reg_lambda': 0.01234183288223517,\n  'random_state': 661},\n {'max_depth': 2,\n  'learning_rate': 0.1563259292799551,\n  'n_estimators': 922,\n  'min_child_weight': 2,\n  'gamma': 0.7220338537747426,\n  'subsample': 0.8697397300153161,\n  'colsample_bytree': 0.5511795620322362,\n  'reg_alpha': 0.276140024882582,\n  'reg_lambda': 0.33461125660875335,\n  'random_state': 263},\n {'max_depth': 4,\n  'learning_rate': 0.12583358979496972,\n  'n_estimators': 192,\n  'min_child_weight': 1,\n  'gamma': 0.5278503992320138,\n  'subsample': 0.9793994480566292,\n  'colsample_bytree': 0.8090551060452006,\n  'reg_alpha': 0.010211834543612325,\n  'reg_lambda': 0.670880928183584,\n  'random_state': 802},\n {'max_depth': 6,\n  'learning_rate': 0.12470116703998389,\n  'n_estimators': 359,\n  'min_child_weight': 1,\n  'gamma': 0.727782861751215,\n  'subsample': 0.2952840401547276,\n  'colsample_bytree': 0.6387508561007829,\n  'reg_alpha': 0.06582041232284422,\n  'reg_lambda': 0.7153611934278891,\n  'random_state': 290},\n {'max_depth': 4,\n  'learning_rate': 0.25399004954586013,\n  'n_estimators': 301,\n  'min_child_weight': 9,\n  'gamma': 0.7631906216685069,\n  'subsample': 0.7396628794038687,\n  'colsample_bytree': 0.5137046618689834,\n  'reg_alpha': 0.32376683112847066,\n  'reg_lambda': 0.3298828469783014,\n  'random_state': 761},\n {'max_depth': 3,\n  'learning_rate': 0.035826197200430586,\n  'n_estimators': 177,\n  'min_child_weight': 1,\n  'gamma': 0.1902266941032406,\n  'subsample': 0.25663625811663154,\n  'colsample_bytree': 0.32581007655165317,\n  'reg_alpha': 0.10123239268782258,\n  'reg_lambda': 0.7412012449781463,\n  'random_state': 399},\n {'max_depth': 7,\n  'learning_rate': 0.10911881030387256,\n  'n_estimators': 507,\n  'min_child_weight': 1,\n  'gamma': 0.6365200292320513,\n  'subsample': 0.5430218805067308,\n  'colsample_bytree': 0.7149955798668187,\n  'reg_alpha': 0.11710860061058576,\n  'reg_lambda': 0.6599996445622486,\n  'random_state': 216},\n {'max_depth': 7,\n  'learning_rate': 0.02455424200910387,\n  'n_estimators': 197,\n  'min_child_weight': 3,\n  'gamma': 0.8106314122449303,\n  'subsample': 0.4321306241348531,\n  'colsample_bytree': 0.6718022750787946,\n  'reg_alpha': 0.5887443883505724,\n  'reg_lambda': 0.7783573140293897,\n  'random_state': 583},\n {'max_depth': 6,\n  'learning_rate': 0.12248779378614127,\n  'n_estimators': 964,\n  'min_child_weight': 7,\n  'gamma': 0.6666948490253335,\n  'subsample': 0.14834131839364847,\n  'colsample_bytree': 0.8679157818124967,\n  'reg_alpha': 0.3464422970553638,\n  'reg_lambda': 0.38258571939142566,\n  'random_state': 791},\n {'max_depth': 6,\n  'learning_rate': 0.141539617898225,\n  'n_estimators': 184,\n  'min_child_weight': 2,\n  'gamma': 0.9211725151293312,\n  'subsample': 0.8469228755178175,\n  'colsample_bytree': 0.9284828016394073,\n  'reg_alpha': 0.3751114972488426,\n  'reg_lambda': 0.7045776277138662,\n  'random_state': 49},\n {'max_depth': 2,\n  'learning_rate': 0.24024778996894236,\n  'n_estimators': 57,\n  'min_child_weight': 4,\n  'gamma': 0.6568080706798199,\n  'subsample': 0.6197453065658496,\n  'colsample_bytree': 0.3663213416613901,\n  'reg_alpha': 0.67476349708269,\n  'reg_lambda': 0.027663389857117887,\n  'random_state': 371},\n {'max_depth': 1,\n  'learning_rate': 0.015249765081023743,\n  'n_estimators': 461,\n  'min_child_weight': 2,\n  'gamma': 0.7556367794087221,\n  'subsample': 0.8288208694710645,\n  'colsample_bytree': 0.3953163473038036,\n  'reg_alpha': 0.23391732264008575,\n  'reg_lambda': 0.6934471836357494,\n  'random_state': 179},\n {'max_depth': 6,\n  'learning_rate': 0.13943144795594195,\n  'n_estimators': 311,\n  'min_child_weight': 5,\n  'gamma': 0.7218767528234862,\n  'subsample': 0.20404019533684709,\n  'colsample_bytree': 0.3520565196929769,\n  'reg_alpha': 0.7276236129174062,\n  'reg_lambda': 0.8260327787303008,\n  'random_state': 245},\n {'max_depth': 6,\n  'learning_rate': 0.24701501097001347,\n  'n_estimators': 294,\n  'min_child_weight': 1,\n  'gamma': 0.4214192600792475,\n  'subsample': 0.7613915398411132,\n  'colsample_bytree': 0.10888268712070531,\n  'reg_alpha': 0.3102501902737484,\n  'reg_lambda': 0.610002468891087,\n  'random_state': 559},\n {'max_depth': 5,\n  'learning_rate': 0.18196887001161482,\n  'n_estimators': 76,\n  'min_child_weight': 1,\n  'gamma': 0.9275218956265243,\n  'subsample': 0.5135779551528453,\n  'colsample_bytree': 0.1820658595458309,\n  'reg_alpha': 0.9254571045686335,\n  'reg_lambda': 0.24006896924771637,\n  'random_state': 137},\n {'max_depth': 3,\n  'learning_rate': 0.1603101527913625,\n  'n_estimators': 966,\n  'min_child_weight': 6,\n  'gamma': 0.3663545423400955,\n  'subsample': 0.441971731735666,\n  'colsample_bytree': 0.9458156270699033,\n  'reg_alpha': 0.5331429108937871,\n  'reg_lambda': 0.07191234316944661,\n  'random_state': 403},\n {'max_depth': 1,\n  'learning_rate': 0.008104020854505026,\n  'n_estimators': 73,\n  'min_child_weight': 8,\n  'gamma': 0.7632717350781277,\n  'subsample': 0.22408674773950174,\n  'colsample_bytree': 0.5873419438942121,\n  'reg_alpha': 0.7055338565360322,\n  'reg_lambda': 0.13261856457987384,\n  'random_state': 791},\n {'max_depth': 3,\n  'learning_rate': 0.0345537106972922,\n  'n_estimators': 577,\n  'min_child_weight': 6,\n  'gamma': 0.8243533651882167,\n  'subsample': 0.28302929942920635,\n  'colsample_bytree': 0.34862741142921955,\n  'reg_alpha': 0.7436614435878665,\n  'reg_lambda': 0.9367089741621394,\n  'random_state': 498},\n {'max_depth': 6,\n  'learning_rate': 0.18972497496947355,\n  'n_estimators': 236,\n  'min_child_weight': 1,\n  'gamma': 0.9233611334834901,\n  'subsample': 0.1142181762231107,\n  'colsample_bytree': 0.25299503722087463,\n  'reg_alpha': 0.8348952629449616,\n  'reg_lambda': 0.21686864556389487,\n  'random_state': 95},\n {'max_depth': 2,\n  'learning_rate': 0.15141153829379436,\n  'n_estimators': 47,\n  'min_child_weight': 9,\n  'gamma': 0.7686215342079932,\n  'subsample': 0.3994657654985581,\n  'colsample_bytree': 0.39965207673353864,\n  'reg_alpha': 0.7483968849633469,\n  'reg_lambda': 0.03986686024915403,\n  'random_state': 788},\n {'max_depth': 9,\n  'learning_rate': 0.21038864452947137,\n  'n_estimators': 337,\n  'min_child_weight': 6,\n  'gamma': 0.10853471608278567,\n  'subsample': 0.8625341323003177,\n  'colsample_bytree': 0.24100552196616065,\n  'reg_alpha': 0.3748432140453922,\n  'reg_lambda': 0.3372805859822068,\n  'random_state': 778},\n {'max_depth': 10,\n  'learning_rate': 0.023245303201213728,\n  'n_estimators': 65,\n  'min_child_weight': 5,\n  'gamma': 0.611362522325253,\n  'subsample': 0.46595136907471524,\n  'colsample_bytree': 0.2706923856632366,\n  'reg_alpha': 0.39505254863340333,\n  'reg_lambda': 0.14307068235273707,\n  'random_state': 721},\n {'max_depth': 3,\n  'learning_rate': 0.18788835734933385,\n  'n_estimators': 89,\n  'min_child_weight': 9,\n  'gamma': 0.8047729091716934,\n  'subsample': 0.6589463865762027,\n  'colsample_bytree': 0.9908253415304561,\n  'reg_alpha': 0.06938567464436081,\n  'reg_lambda': 0.3807083054112557,\n  'random_state': 999},\n {'max_depth': 1,\n  'learning_rate': 0.006186985816708906,\n  'n_estimators': 57,\n  'min_child_weight': 7,\n  'gamma': 0.9143182461522154,\n  'subsample': 0.052585131288190555,\n  'colsample_bytree': 0.9261486438361215,\n  'reg_alpha': 0.35386199015985154,\n  'reg_lambda': 0.6391402431126708,\n  'random_state': 24},\n {'max_depth': 5,\n  'learning_rate': 0.1215592737999434,\n  'n_estimators': 98,\n  'min_child_weight': 4,\n  'gamma': 0.5214389043741964,\n  'subsample': 0.6579177889064901,\n  'colsample_bytree': 0.8252656994916884,\n  'reg_alpha': 0.2512385092860637,\n  'reg_lambda': 0.395824320706421,\n  'random_state': 433},\n {'max_depth': 10,\n  'learning_rate': 0.1535188666456658,\n  'n_estimators': 90,\n  'min_child_weight': 10,\n  'gamma': 0.6392403246269105,\n  'subsample': 0.10638984332854257,\n  'colsample_bytree': 0.9232465441247474,\n  'reg_alpha': 0.3406454036943238,\n  'reg_lambda': 0.13237768626357008,\n  'random_state': 131},\n {'max_depth': 2,\n  'learning_rate': 0.2291942748636123,\n  'n_estimators': 74,\n  'min_child_weight': 5,\n  'gamma': 0.4113330809970426,\n  'subsample': 0.8586344194845655,\n  'colsample_bytree': 0.8451580513962513,\n  'reg_alpha': 0.07479881405039834,\n  'reg_lambda': 0.9214260758428325,\n  'random_state': 13},\n {'max_depth': 10,\n  'learning_rate': 0.15777903485479453,\n  'n_estimators': 53,\n  'min_child_weight': 9,\n  'gamma': 0.16354729227152778,\n  'subsample': 0.4966639156650723,\n  'colsample_bytree': 0.351774729447262,\n  'reg_alpha': 0.7057727884157898,\n  'reg_lambda': 0.16472127391087146,\n  'random_state': 623}]"
     },
     "execution_count": 5,
     "metadata": {},
     "output_type": "execute_result"
    }
   ],
   "source": [
    "best_sets"
   ],
   "metadata": {
    "collapsed": false
   }
  },
  {
   "cell_type": "code",
   "execution_count": 6,
   "outputs": [
    {
     "data": {
      "text/plain": "{'max_depth': 5,\n 'learning_rate': 0.14644306581236965,\n 'n_estimators': 448,\n 'min_child_weight': 2,\n 'gamma': 0.5502081372840419,\n 'subsample': 0.5248104261205337,\n 'colsample_bytree': 0.5322044018262213,\n 'reg_alpha': 0.43641087265405804,\n 'reg_lambda': 0.48524812228197267,\n 'random_state': 503}"
     },
     "execution_count": 6,
     "metadata": {},
     "output_type": "execute_result"
    }
   ],
   "source": [
    "max_depth_agg = []\n",
    "lr_agg = []\n",
    "n_est_agg = []\n",
    "min_cw_agg = []\n",
    "gamma_agg = []\n",
    "subsam_agg = []\n",
    "col_bytree_agg = []\n",
    "alpha_agg = []\n",
    "lambda_agg = []\n",
    "random_agg = []\n",
    "\n",
    "for node in best_sets:\n",
    "    max_depth_agg.append(node['max_depth'])\n",
    "    lr_agg.append(node['learning_rate'])\n",
    "    n_est_agg.append(node['n_estimators'])\n",
    "    min_cw_agg.append(node['min_child_weight'])\n",
    "    gamma_agg.append(node['gamma'])\n",
    "    subsam_agg.append(node['subsample'])\n",
    "    col_bytree_agg.append(node['colsample_bytree'])\n",
    "    alpha_agg.append(node['reg_alpha'])\n",
    "    lambda_agg.append(node['reg_lambda'])\n",
    "    random_agg.append(node['random_state'])\n",
    "\n",
    "max_depth_agg = int(sum(max_depth_agg)/len(max_depth_agg))\n",
    "lr_agg = sum(lr_agg)/len(lr_agg)\n",
    "n_est_agg = int(sum(n_est_agg)/len(n_est_agg))\n",
    "min_cw_agg = int(sum(min_cw_agg)/len(min_cw_agg))\n",
    "gamma_agg = sum(gamma_agg)/len(gamma_agg)\n",
    "subsam_agg = sum(subsam_agg)/len(subsam_agg)\n",
    "col_bytree_agg = sum(col_bytree_agg)/len(col_bytree_agg)\n",
    "alpha_agg = sum(alpha_agg)/len(alpha_agg)\n",
    "lambda_agg = sum(lambda_agg)/len(lambda_agg)\n",
    "random_agg = int(sum(random_agg)/len(random_agg))\n",
    "\n",
    "best_set = {\n",
    "    'max_depth': max_depth_agg,\n",
    "    'learning_rate': lr_agg,\n",
    "    'n_estimators': n_est_agg,\n",
    "    'min_child_weight': min_cw_agg,\n",
    "    'gamma': gamma_agg,\n",
    "    'subsample': subsam_agg,\n",
    "    'colsample_bytree': col_bytree_agg,\n",
    "    'reg_alpha': alpha_agg,\n",
    "    'reg_lambda': lambda_agg,\n",
    "    'random_state': random_agg\n",
    "}\n",
    "\n",
    "best_set"
   ],
   "metadata": {
    "collapsed": false
   }
  }
 ],
 "metadata": {
  "kernelspec": {
   "display_name": "Python 3",
   "language": "python",
   "name": "python3"
  },
  "language_info": {
   "codemirror_mode": {
    "name": "ipython",
    "version": 2
   },
   "file_extension": ".py",
   "mimetype": "text/x-python",
   "name": "python",
   "nbconvert_exporter": "python",
   "pygments_lexer": "ipython2",
   "version": "2.7.6"
  }
 },
 "nbformat": 4,
 "nbformat_minor": 0
}
