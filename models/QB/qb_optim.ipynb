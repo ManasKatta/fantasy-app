{
 "cells": [
  {
   "cell_type": "code",
   "execution_count": 1,
   "metadata": {
    "collapsed": true
   },
   "outputs": [],
   "source": [
    "import numpy as np\n",
    "import pandas as pd\n",
    "import csv\n",
    "import xgboost as xgb\n",
    "from sklearn.metrics import mean_squared_error\n",
    "from sklearn.preprocessing import StandardScaler\n",
    "import optuna\n",
    "import time"
   ]
  },
  {
   "cell_type": "code",
   "execution_count": 2,
   "outputs": [],
   "source": [
    "def scrape(option: int, player_pos, player_name) -> pd.DataFrame:\n",
    "    url = None\n",
    "\n",
    "    if player_pos == 'D':\n",
    "        # hacky way to get seasonal defensive stats\n",
    "        url = 'https://www.fantasypros.com/nfl/stats/dst.php'\n",
    "    else:\n",
    "        url_head = r'https://www.nfl.com/players/'\n",
    "        url_feet = '/stats/career'\n",
    "        url = url_head + player_name + url_feet\n",
    "\n",
    "    s_df = pd.read_html(url)\n",
    "    return s_df[option]  # option of 0 = first table, 1 = second table\n",
    "\n",
    "def helper(h_df: pd.DataFrame, h_df2: pd.DataFrame, h_fantasy_points: [float]):\n",
    "    h_fantasy_points.append(sum(h_fantasy_points))  # this line calculates the total sum of all fantasy points on table\n",
    "    h_df['Fantasy Points'] = h_fantasy_points\n",
    "\n",
    "    # get rid of total row and bad data\n",
    "    h_df.drop(h_df.shape[0] - 1, axis=0, inplace=True)\n",
    "    h_df2.drop(h_df2.shape[0] - 1, axis=0, inplace=True)\n",
    "\n",
    "    h_df.drop('YEAR', axis=1, inplace=True)\n",
    "    h_df.drop('TEAM', axis=1, inplace=True)\n",
    "    h_df.drop('G', axis=1, inplace=True)\n",
    "\n",
    "    h_df2.drop('YEAR', axis=1, inplace=True)\n",
    "    h_df2.drop('TEAM', axis=1, inplace=True)\n",
    "    h_df2.drop('G', axis=1, inplace=True)\n",
    "\n",
    "    h_df = h_df[::-1]  # reverse the rows\n",
    "    h_df2 = h_df2[::-1]\n",
    "\n",
    "    return h_df, h_df2, h_fantasy_points\n",
    "\n",
    "def objective(trial):\n",
    "    param = {\n",
    "        'max_depth': trial.suggest_int('max_depth', 1, 10),\n",
    "        'learning_rate': trial.suggest_float('learning_rate', 0.001, 0.28),\n",
    "        'n_estimators': trial.suggest_int('n_estimators', 40, 1000),\n",
    "        'min_child_weight': trial.suggest_int('min_child_weight', 1, 10),\n",
    "        'gamma': trial.suggest_float('gamma', 0.01, 1.0),\n",
    "        'subsample': trial.suggest_float('subsample', 0.01, 1.0),\n",
    "        'colsample_bytree': trial.suggest_float('colsample_bytree', 0.01, 1.0),\n",
    "        'reg_alpha': trial.suggest_float('reg_alpha', 0.01, 1.0),\n",
    "        'reg_lambda': trial.suggest_float('reg_lambda', 0.01, 1.0),\n",
    "        'random_state': trial.suggest_int('random_state', 1, 1000)  # ,'seed': trial.suggest_int('seed', 0, 10000)\n",
    "    }\n",
    "    m = xgb.XGBRegressor(**param)\n",
    "    m.fit(data_train, label_train)\n",
    "    y_pred = m.predict(data_test)\n",
    "    return np.sqrt(mean_squared_error(label_test, y_pred))"
   ],
   "metadata": {
    "collapsed": false
   }
  },
  {
   "cell_type": "code",
   "execution_count": 3,
   "outputs": [
    {
     "name": "stdout",
     "output_type": "stream",
     "text": [
      "Optimizing:  patrick-mahomes\n"
     ]
    },
    {
     "name": "stderr",
     "output_type": "stream",
     "text": [
      "/usr/local/lib/python3.9/site-packages/optuna/progress_bar.py:56: ExperimentalWarning: Progress bar is experimental (supported from v1.2.0). The interface can change in the future.\n",
      "  self._init_valid()\n"
     ]
    },
    {
     "data": {
      "text/plain": "  0%|          | 0/200 [00:00<?, ?it/s]",
      "application/vnd.jupyter.widget-view+json": {
       "version_major": 2,
       "version_minor": 0,
       "model_id": "d465be5bcb194a84bbd3b3858bc42cdb"
      }
     },
     "metadata": {},
     "output_type": "display_data"
    },
    {
     "name": "stdout",
     "output_type": "stream",
     "text": [
      "Optimizing:  josh-allen-4\n"
     ]
    },
    {
     "name": "stderr",
     "output_type": "stream",
     "text": [
      "/usr/local/lib/python3.9/site-packages/optuna/progress_bar.py:56: ExperimentalWarning: Progress bar is experimental (supported from v1.2.0). The interface can change in the future.\n",
      "  self._init_valid()\n"
     ]
    },
    {
     "data": {
      "text/plain": "  0%|          | 0/200 [00:00<?, ?it/s]",
      "application/vnd.jupyter.widget-view+json": {
       "version_major": 2,
       "version_minor": 0,
       "model_id": "e55ef1fa9dec41f2aa8ff4c53390d08b"
      }
     },
     "metadata": {},
     "output_type": "display_data"
    },
    {
     "name": "stdout",
     "output_type": "stream",
     "text": [
      "Optimizing:  jalen-hurts\n"
     ]
    },
    {
     "name": "stderr",
     "output_type": "stream",
     "text": [
      "/usr/local/lib/python3.9/site-packages/optuna/progress_bar.py:56: ExperimentalWarning: Progress bar is experimental (supported from v1.2.0). The interface can change in the future.\n",
      "  self._init_valid()\n"
     ]
    },
    {
     "data": {
      "text/plain": "  0%|          | 0/200 [00:00<?, ?it/s]",
      "application/vnd.jupyter.widget-view+json": {
       "version_major": 2,
       "version_minor": 0,
       "model_id": "4bc0bb155c4d471fac6c67fbfec1b1fd"
      }
     },
     "metadata": {},
     "output_type": "display_data"
    },
    {
     "name": "stdout",
     "output_type": "stream",
     "text": [
      "Optimizing:  joe-burrow\n"
     ]
    },
    {
     "name": "stderr",
     "output_type": "stream",
     "text": [
      "/usr/local/lib/python3.9/site-packages/optuna/progress_bar.py:56: ExperimentalWarning: Progress bar is experimental (supported from v1.2.0). The interface can change in the future.\n",
      "  self._init_valid()\n"
     ]
    },
    {
     "data": {
      "text/plain": "  0%|          | 0/200 [00:00<?, ?it/s]",
      "application/vnd.jupyter.widget-view+json": {
       "version_major": 2,
       "version_minor": 0,
       "model_id": "7ffca980a9e440e39b4a85ef68e86b63"
      }
     },
     "metadata": {},
     "output_type": "display_data"
    },
    {
     "name": "stdout",
     "output_type": "stream",
     "text": [
      "Optimizing:  geno-smith\n"
     ]
    },
    {
     "name": "stderr",
     "output_type": "stream",
     "text": [
      "/usr/local/lib/python3.9/site-packages/optuna/progress_bar.py:56: ExperimentalWarning: Progress bar is experimental (supported from v1.2.0). The interface can change in the future.\n",
      "  self._init_valid()\n"
     ]
    },
    {
     "data": {
      "text/plain": "  0%|          | 0/200 [00:00<?, ?it/s]",
      "application/vnd.jupyter.widget-view+json": {
       "version_major": 2,
       "version_minor": 0,
       "model_id": "987042579ed74aca8a481486e7e6a8bb"
      }
     },
     "metadata": {},
     "output_type": "display_data"
    },
    {
     "name": "stdout",
     "output_type": "stream",
     "text": [
      "Optimizing:  justin-fields\n",
      "Optimizing:  kirk-cousins\n"
     ]
    },
    {
     "name": "stderr",
     "output_type": "stream",
     "text": [
      "/usr/local/lib/python3.9/site-packages/optuna/progress_bar.py:56: ExperimentalWarning: Progress bar is experimental (supported from v1.2.0). The interface can change in the future.\n",
      "  self._init_valid()\n"
     ]
    },
    {
     "data": {
      "text/plain": "  0%|          | 0/200 [00:00<?, ?it/s]",
      "application/vnd.jupyter.widget-view+json": {
       "version_major": 2,
       "version_minor": 0,
       "model_id": "894e956d97db41e5bede8b9e05279d1f"
      }
     },
     "metadata": {},
     "output_type": "display_data"
    },
    {
     "name": "stdout",
     "output_type": "stream",
     "text": [
      "Optimizing:  trevor-lawrence\n",
      "Optimizing:  daniel-jones\n"
     ]
    },
    {
     "name": "stderr",
     "output_type": "stream",
     "text": [
      "/usr/local/lib/python3.9/site-packages/optuna/progress_bar.py:56: ExperimentalWarning: Progress bar is experimental (supported from v1.2.0). The interface can change in the future.\n",
      "  self._init_valid()\n"
     ]
    },
    {
     "data": {
      "text/plain": "  0%|          | 0/200 [00:00<?, ?it/s]",
      "application/vnd.jupyter.widget-view+json": {
       "version_major": 2,
       "version_minor": 0,
       "model_id": "2ddde410e91245afb870b194ed2433ce"
      }
     },
     "metadata": {},
     "output_type": "display_data"
    },
    {
     "name": "stdout",
     "output_type": "stream",
     "text": [
      "Optimizing:  jared-goff\n"
     ]
    },
    {
     "name": "stderr",
     "output_type": "stream",
     "text": [
      "/usr/local/lib/python3.9/site-packages/optuna/progress_bar.py:56: ExperimentalWarning: Progress bar is experimental (supported from v1.2.0). The interface can change in the future.\n",
      "  self._init_valid()\n"
     ]
    },
    {
     "data": {
      "text/plain": "  0%|          | 0/200 [00:00<?, ?it/s]",
      "application/vnd.jupyter.widget-view+json": {
       "version_major": 2,
       "version_minor": 0,
       "model_id": "8869347ab29f47d6a054ceb472545c2b"
      }
     },
     "metadata": {},
     "output_type": "display_data"
    },
    {
     "name": "stdout",
     "output_type": "stream",
     "text": [
      "Optimizing:  justin-herbert\n"
     ]
    },
    {
     "name": "stderr",
     "output_type": "stream",
     "text": [
      "/usr/local/lib/python3.9/site-packages/optuna/progress_bar.py:56: ExperimentalWarning: Progress bar is experimental (supported from v1.2.0). The interface can change in the future.\n",
      "  self._init_valid()\n"
     ]
    },
    {
     "data": {
      "text/plain": "  0%|          | 0/200 [00:00<?, ?it/s]",
      "application/vnd.jupyter.widget-view+json": {
       "version_major": 2,
       "version_minor": 0,
       "model_id": "249d6c4d01e94d22a7969fe43dea8338"
      }
     },
     "metadata": {},
     "output_type": "display_data"
    },
    {
     "name": "stdout",
     "output_type": "stream",
     "text": [
      "Optimizing:  tom-brady\n"
     ]
    },
    {
     "name": "stderr",
     "output_type": "stream",
     "text": [
      "/usr/local/lib/python3.9/site-packages/optuna/progress_bar.py:56: ExperimentalWarning: Progress bar is experimental (supported from v1.2.0). The interface can change in the future.\n",
      "  self._init_valid()\n"
     ]
    },
    {
     "data": {
      "text/plain": "  0%|          | 0/200 [00:00<?, ?it/s]",
      "application/vnd.jupyter.widget-view+json": {
       "version_major": 2,
       "version_minor": 0,
       "model_id": "1661b027c9cf452f9b177b04063dc617"
      }
     },
     "metadata": {},
     "output_type": "display_data"
    },
    {
     "name": "stdout",
     "output_type": "stream",
     "text": [
      "Optimizing:  aaron-rodgers\n"
     ]
    },
    {
     "name": "stderr",
     "output_type": "stream",
     "text": [
      "/usr/local/lib/python3.9/site-packages/optuna/progress_bar.py:56: ExperimentalWarning: Progress bar is experimental (supported from v1.2.0). The interface can change in the future.\n",
      "  self._init_valid()\n"
     ]
    },
    {
     "data": {
      "text/plain": "  0%|          | 0/200 [00:00<?, ?it/s]",
      "application/vnd.jupyter.widget-view+json": {
       "version_major": 2,
       "version_minor": 0,
       "model_id": "857bf6211c654925a7e4b80d94c639e4"
      }
     },
     "metadata": {},
     "output_type": "display_data"
    },
    {
     "name": "stdout",
     "output_type": "stream",
     "text": [
      "Optimizing:  lamar-jackson\n"
     ]
    },
    {
     "name": "stderr",
     "output_type": "stream",
     "text": [
      "/usr/local/lib/python3.9/site-packages/optuna/progress_bar.py:56: ExperimentalWarning: Progress bar is experimental (supported from v1.2.0). The interface can change in the future.\n",
      "  self._init_valid()\n"
     ]
    },
    {
     "data": {
      "text/plain": "  0%|          | 0/200 [00:00<?, ?it/s]",
      "application/vnd.jupyter.widget-view+json": {
       "version_major": 2,
       "version_minor": 0,
       "model_id": "55fdaf37d06c41e49b4505aad5c3d61d"
      }
     },
     "metadata": {},
     "output_type": "display_data"
    },
    {
     "name": "stdout",
     "output_type": "stream",
     "text": [
      "Optimizing:  tua-tagovailoa\n"
     ]
    },
    {
     "name": "stderr",
     "output_type": "stream",
     "text": [
      "/usr/local/lib/python3.9/site-packages/optuna/progress_bar.py:56: ExperimentalWarning: Progress bar is experimental (supported from v1.2.0). The interface can change in the future.\n",
      "  self._init_valid()\n"
     ]
    },
    {
     "data": {
      "text/plain": "  0%|          | 0/200 [00:00<?, ?it/s]",
      "application/vnd.jupyter.widget-view+json": {
       "version_major": 2,
       "version_minor": 0,
       "model_id": "fab4b929ac58455ba462454967107296"
      }
     },
     "metadata": {},
     "output_type": "display_data"
    },
    {
     "name": "stdout",
     "output_type": "stream",
     "text": [
      "Optimizing:  russell-wilson\n"
     ]
    },
    {
     "name": "stderr",
     "output_type": "stream",
     "text": [
      "/usr/local/lib/python3.9/site-packages/optuna/progress_bar.py:56: ExperimentalWarning: Progress bar is experimental (supported from v1.2.0). The interface can change in the future.\n",
      "  self._init_valid()\n"
     ]
    },
    {
     "data": {
      "text/plain": "  0%|          | 0/200 [00:00<?, ?it/s]",
      "application/vnd.jupyter.widget-view+json": {
       "version_major": 2,
       "version_minor": 0,
       "model_id": "ee4a58581d8745c8adaf6d3fe09fd705"
      }
     },
     "metadata": {},
     "output_type": "display_data"
    },
    {
     "name": "stdout",
     "output_type": "stream",
     "text": [
      "Optimizing:  derek-carr\n"
     ]
    },
    {
     "name": "stderr",
     "output_type": "stream",
     "text": [
      "/usr/local/lib/python3.9/site-packages/optuna/progress_bar.py:56: ExperimentalWarning: Progress bar is experimental (supported from v1.2.0). The interface can change in the future.\n",
      "  self._init_valid()\n"
     ]
    },
    {
     "data": {
      "text/plain": "  0%|          | 0/200 [00:00<?, ?it/s]",
      "application/vnd.jupyter.widget-view+json": {
       "version_major": 2,
       "version_minor": 0,
       "model_id": "18428183ff124b06a3b96270aeacd9d6"
      }
     },
     "metadata": {},
     "output_type": "display_data"
    },
    {
     "name": "stdout",
     "output_type": "stream",
     "text": [
      "Optimizing:  dak-prescott\n"
     ]
    },
    {
     "name": "stderr",
     "output_type": "stream",
     "text": [
      "/usr/local/lib/python3.9/site-packages/optuna/progress_bar.py:56: ExperimentalWarning: Progress bar is experimental (supported from v1.2.0). The interface can change in the future.\n",
      "  self._init_valid()\n"
     ]
    },
    {
     "data": {
      "text/plain": "  0%|          | 0/200 [00:00<?, ?it/s]",
      "application/vnd.jupyter.widget-view+json": {
       "version_major": 2,
       "version_minor": 0,
       "model_id": "d8f3f0e5e5dd463e8b1661f980682dc0"
      }
     },
     "metadata": {},
     "output_type": "display_data"
    },
    {
     "name": "stdout",
     "output_type": "stream",
     "text": [
      "Optimizing:  kyler-murray\n"
     ]
    },
    {
     "name": "stderr",
     "output_type": "stream",
     "text": [
      "/usr/local/lib/python3.9/site-packages/optuna/progress_bar.py:56: ExperimentalWarning: Progress bar is experimental (supported from v1.2.0). The interface can change in the future.\n",
      "  self._init_valid()\n"
     ]
    },
    {
     "data": {
      "text/plain": "  0%|          | 0/200 [00:00<?, ?it/s]",
      "application/vnd.jupyter.widget-view+json": {
       "version_major": 2,
       "version_minor": 0,
       "model_id": "862755bdf7884b2d97b1355195abca78"
      }
     },
     "metadata": {},
     "output_type": "display_data"
    },
    {
     "name": "stdout",
     "output_type": "stream",
     "text": [
      "Optimizing:  marcus-mariota\n"
     ]
    },
    {
     "name": "stderr",
     "output_type": "stream",
     "text": [
      "/usr/local/lib/python3.9/site-packages/optuna/progress_bar.py:56: ExperimentalWarning: Progress bar is experimental (supported from v1.2.0). The interface can change in the future.\n",
      "  self._init_valid()\n"
     ]
    },
    {
     "data": {
      "text/plain": "  0%|          | 0/200 [00:00<?, ?it/s]",
      "application/vnd.jupyter.widget-view+json": {
       "version_major": 2,
       "version_minor": 0,
       "model_id": "35b461f49b2048e38ed90c8058d3377c"
      }
     },
     "metadata": {},
     "output_type": "display_data"
    },
    {
     "name": "stdout",
     "output_type": "stream",
     "text": [
      "Optimizing:  davis-mills\n",
      "Optimizing:  andy-dalton\n"
     ]
    },
    {
     "name": "stderr",
     "output_type": "stream",
     "text": [
      "/usr/local/lib/python3.9/site-packages/optuna/progress_bar.py:56: ExperimentalWarning: Progress bar is experimental (supported from v1.2.0). The interface can change in the future.\n",
      "  self._init_valid()\n"
     ]
    },
    {
     "data": {
      "text/plain": "  0%|          | 0/200 [00:00<?, ?it/s]",
      "application/vnd.jupyter.widget-view+json": {
       "version_major": 2,
       "version_minor": 0,
       "model_id": "7be8c18a97644084ae696820a9b3f9e2"
      }
     },
     "metadata": {},
     "output_type": "display_data"
    },
    {
     "name": "stdout",
     "output_type": "stream",
     "text": [
      "Optimizing:  mac-jones\n",
      "Optimizing:  jacoby-brissett\n"
     ]
    },
    {
     "name": "stderr",
     "output_type": "stream",
     "text": [
      "/usr/local/lib/python3.9/site-packages/optuna/progress_bar.py:56: ExperimentalWarning: Progress bar is experimental (supported from v1.2.0). The interface can change in the future.\n",
      "  self._init_valid()\n"
     ]
    },
    {
     "data": {
      "text/plain": "  0%|          | 0/200 [00:00<?, ?it/s]",
      "application/vnd.jupyter.widget-view+json": {
       "version_major": 2,
       "version_minor": 0,
       "model_id": "e0b7bb4167b44c488449ca338c1418e8"
      }
     },
     "metadata": {},
     "output_type": "display_data"
    },
    {
     "name": "stdout",
     "output_type": "stream",
     "text": [
      "Optimizing:  jimmy-garoppolo\n"
     ]
    },
    {
     "name": "stderr",
     "output_type": "stream",
     "text": [
      "/usr/local/lib/python3.9/site-packages/optuna/progress_bar.py:56: ExperimentalWarning: Progress bar is experimental (supported from v1.2.0). The interface can change in the future.\n",
      "  self._init_valid()\n"
     ]
    },
    {
     "data": {
      "text/plain": "  0%|          | 0/200 [00:00<?, ?it/s]",
      "application/vnd.jupyter.widget-view+json": {
       "version_major": 2,
       "version_minor": 0,
       "model_id": "015d0f5c11d94a519ca502ee1e2cd891"
      }
     },
     "metadata": {},
     "output_type": "display_data"
    },
    {
     "name": "stdout",
     "output_type": "stream",
     "text": [
      "Optimizing:  matt-ryan\n"
     ]
    },
    {
     "name": "stderr",
     "output_type": "stream",
     "text": [
      "/usr/local/lib/python3.9/site-packages/optuna/progress_bar.py:56: ExperimentalWarning: Progress bar is experimental (supported from v1.2.0). The interface can change in the future.\n",
      "  self._init_valid()\n"
     ]
    },
    {
     "data": {
      "text/plain": "  0%|          | 0/200 [00:00<?, ?it/s]",
      "application/vnd.jupyter.widget-view+json": {
       "version_major": 2,
       "version_minor": 0,
       "model_id": "1bbb9a0aedab458091fdec0a1e7fb9d1"
      }
     },
     "metadata": {},
     "output_type": "display_data"
    },
    {
     "name": "stdout",
     "output_type": "stream",
     "text": [
      "Optimizing:  ryan-tannehill\n"
     ]
    },
    {
     "name": "stderr",
     "output_type": "stream",
     "text": [
      "/usr/local/lib/python3.9/site-packages/optuna/progress_bar.py:56: ExperimentalWarning: Progress bar is experimental (supported from v1.2.0). The interface can change in the future.\n",
      "  self._init_valid()\n"
     ]
    },
    {
     "data": {
      "text/plain": "  0%|          | 0/200 [00:00<?, ?it/s]",
      "application/vnd.jupyter.widget-view+json": {
       "version_major": 2,
       "version_minor": 0,
       "model_id": "c46c81d4163b4ac2af1eeb73bd5045aa"
      }
     },
     "metadata": {},
     "output_type": "display_data"
    },
    {
     "name": "stdout",
     "output_type": "stream",
     "text": [
      "Optimizing:  kenny-pickett\n",
      "Optimizing:  baker-mayfield\n"
     ]
    },
    {
     "name": "stderr",
     "output_type": "stream",
     "text": [
      "/usr/local/lib/python3.9/site-packages/optuna/progress_bar.py:56: ExperimentalWarning: Progress bar is experimental (supported from v1.2.0). The interface can change in the future.\n",
      "  self._init_valid()\n"
     ]
    },
    {
     "data": {
      "text/plain": "  0%|          | 0/200 [00:00<?, ?it/s]",
      "application/vnd.jupyter.widget-view+json": {
       "version_major": 2,
       "version_minor": 0,
       "model_id": "a9c1860919ad48898df719d39445f705"
      }
     },
     "metadata": {},
     "output_type": "display_data"
    },
    {
     "name": "stdout",
     "output_type": "stream",
     "text": [
      "Optimizing:  taylor-heinicke\n"
     ]
    },
    {
     "name": "stderr",
     "output_type": "stream",
     "text": [
      "/usr/local/lib/python3.9/site-packages/optuna/progress_bar.py:56: ExperimentalWarning: Progress bar is experimental (supported from v1.2.0). The interface can change in the future.\n",
      "  self._init_valid()\n"
     ]
    },
    {
     "data": {
      "text/plain": "  0%|          | 0/200 [00:00<?, ?it/s]",
      "application/vnd.jupyter.widget-view+json": {
       "version_major": 2,
       "version_minor": 0,
       "model_id": "055b17a9a30a450589bb7e6837b3aa4a"
      }
     },
     "metadata": {},
     "output_type": "display_data"
    },
    {
     "name": "stdout",
     "output_type": "stream",
     "text": [
      "Optimizing:  carson-wentz\n"
     ]
    },
    {
     "name": "stderr",
     "output_type": "stream",
     "text": [
      "/usr/local/lib/python3.9/site-packages/optuna/progress_bar.py:56: ExperimentalWarning: Progress bar is experimental (supported from v1.2.0). The interface can change in the future.\n",
      "  self._init_valid()\n"
     ]
    },
    {
     "data": {
      "text/plain": "  0%|          | 0/200 [00:00<?, ?it/s]",
      "application/vnd.jupyter.widget-view+json": {
       "version_major": 2,
       "version_minor": 0,
       "model_id": "585be342cbb14496952c044bccfe05ec"
      }
     },
     "metadata": {},
     "output_type": "display_data"
    },
    {
     "name": "stdout",
     "output_type": "stream",
     "text": [
      "Optimizing:  matthew-stafford\n"
     ]
    },
    {
     "name": "stderr",
     "output_type": "stream",
     "text": [
      "/usr/local/lib/python3.9/site-packages/optuna/progress_bar.py:56: ExperimentalWarning: Progress bar is experimental (supported from v1.2.0). The interface can change in the future.\n",
      "  self._init_valid()\n"
     ]
    },
    {
     "data": {
      "text/plain": "  0%|          | 0/200 [00:00<?, ?it/s]",
      "application/vnd.jupyter.widget-view+json": {
       "version_major": 2,
       "version_minor": 0,
       "model_id": "fc94261267744c30a4228e3c4c600ded"
      }
     },
     "metadata": {},
     "output_type": "display_data"
    },
    {
     "name": "stdout",
     "output_type": "stream",
     "text": [
      "Optimizing:  brock-purdy\n",
      "Optimizing:  zach-wilson\n",
      "Optimizing:  deshaun-watson\n"
     ]
    },
    {
     "name": "stderr",
     "output_type": "stream",
     "text": [
      "/usr/local/lib/python3.9/site-packages/optuna/progress_bar.py:56: ExperimentalWarning: Progress bar is experimental (supported from v1.2.0). The interface can change in the future.\n",
      "  self._init_valid()\n"
     ]
    },
    {
     "data": {
      "text/plain": "  0%|          | 0/200 [00:00<?, ?it/s]",
      "application/vnd.jupyter.widget-view+json": {
       "version_major": 2,
       "version_minor": 0,
       "model_id": "d628b2ec8aa74336b662054a81131517"
      }
     },
     "metadata": {},
     "output_type": "display_data"
    },
    {
     "name": "stdout",
     "output_type": "stream",
     "text": [
      "Optimizing:  sam-darnold\n"
     ]
    },
    {
     "name": "stderr",
     "output_type": "stream",
     "text": [
      "/usr/local/lib/python3.9/site-packages/optuna/progress_bar.py:56: ExperimentalWarning: Progress bar is experimental (supported from v1.2.0). The interface can change in the future.\n",
      "  self._init_valid()\n"
     ]
    },
    {
     "data": {
      "text/plain": "  0%|          | 0/200 [00:00<?, ?it/s]",
      "application/vnd.jupyter.widget-view+json": {
       "version_major": 2,
       "version_minor": 0,
       "model_id": "0ab5736bfbe7466d9b81cbb52799fa84"
      }
     },
     "metadata": {},
     "output_type": "display_data"
    },
    {
     "name": "stdout",
     "output_type": "stream",
     "text": [
      "Optimizing:  mitchell-trubisky\n"
     ]
    },
    {
     "name": "stderr",
     "output_type": "stream",
     "text": [
      "/usr/local/lib/python3.9/site-packages/optuna/progress_bar.py:56: ExperimentalWarning: Progress bar is experimental (supported from v1.2.0). The interface can change in the future.\n",
      "  self._init_valid()\n"
     ]
    },
    {
     "data": {
      "text/plain": "  0%|          | 0/200 [00:00<?, ?it/s]",
      "application/vnd.jupyter.widget-view+json": {
       "version_major": 2,
       "version_minor": 0,
       "model_id": "a4336d35008941eeb429f0987bb8a3c1"
      }
     },
     "metadata": {},
     "output_type": "display_data"
    },
    {
     "name": "stdout",
     "output_type": "stream",
     "text": [
      "Optimizing:  mike-white\n",
      "Optimizing:  cooper-rush\n"
     ]
    },
    {
     "name": "stderr",
     "output_type": "stream",
     "text": [
      "/usr/local/lib/python3.9/site-packages/optuna/progress_bar.py:56: ExperimentalWarning: Progress bar is experimental (supported from v1.2.0). The interface can change in the future.\n",
      "  self._init_valid()\n"
     ]
    },
    {
     "data": {
      "text/plain": "  0%|          | 0/200 [00:00<?, ?it/s]",
      "application/vnd.jupyter.widget-view+json": {
       "version_major": 2,
       "version_minor": 0,
       "model_id": "ff444ef9ae1e4959ab6a382e21afd821"
      }
     },
     "metadata": {},
     "output_type": "display_data"
    },
    {
     "name": "stdout",
     "output_type": "stream",
     "text": [
      "Optimizing:  tyler-huntley\n"
     ]
    },
    {
     "name": "stderr",
     "output_type": "stream",
     "text": [
      "/usr/local/lib/python3.9/site-packages/optuna/progress_bar.py:56: ExperimentalWarning: Progress bar is experimental (supported from v1.2.0). The interface can change in the future.\n",
      "  self._init_valid()\n"
     ]
    },
    {
     "data": {
      "text/plain": "  0%|          | 0/200 [00:00<?, ?it/s]",
      "application/vnd.jupyter.widget-view+json": {
       "version_major": 2,
       "version_minor": 0,
       "model_id": "43d32fda7c7a42369d42eca8a6d54bc7"
      }
     },
     "metadata": {},
     "output_type": "display_data"
    },
    {
     "name": "stdout",
     "output_type": "stream",
     "text": [
      "Optimizing:  joe-flacco\n"
     ]
    },
    {
     "name": "stderr",
     "output_type": "stream",
     "text": [
      "/usr/local/lib/python3.9/site-packages/optuna/progress_bar.py:56: ExperimentalWarning: Progress bar is experimental (supported from v1.2.0). The interface can change in the future.\n",
      "  self._init_valid()\n"
     ]
    },
    {
     "data": {
      "text/plain": "  0%|          | 0/200 [00:00<?, ?it/s]",
      "application/vnd.jupyter.widget-view+json": {
       "version_major": 2,
       "version_minor": 0,
       "model_id": "121e01d362a44e6f81e754fbc166c45d"
      }
     },
     "metadata": {},
     "output_type": "display_data"
    },
    {
     "name": "stdout",
     "output_type": "stream",
     "text": [
      "Optimizing:  jameis-winston\n"
     ]
    },
    {
     "name": "stderr",
     "output_type": "stream",
     "text": [
      "/usr/local/lib/python3.9/site-packages/optuna/progress_bar.py:56: ExperimentalWarning: Progress bar is experimental (supported from v1.2.0). The interface can change in the future.\n",
      "  self._init_valid()\n"
     ]
    },
    {
     "data": {
      "text/plain": "  0%|          | 0/200 [00:00<?, ?it/s]",
      "application/vnd.jupyter.widget-view+json": {
       "version_major": 2,
       "version_minor": 0,
       "model_id": "82985fea74dd455190b8f7ee5a3a749d"
      }
     },
     "metadata": {},
     "output_type": "display_data"
    },
    {
     "name": "stdout",
     "output_type": "stream",
     "text": [
      "Optimizing:  jarrett-stidham\n"
     ]
    },
    {
     "name": "stderr",
     "output_type": "stream",
     "text": [
      "/usr/local/lib/python3.9/site-packages/optuna/progress_bar.py:56: ExperimentalWarning: Progress bar is experimental (supported from v1.2.0). The interface can change in the future.\n",
      "  self._init_valid()\n"
     ]
    },
    {
     "data": {
      "text/plain": "  0%|          | 0/200 [00:00<?, ?it/s]",
      "application/vnd.jupyter.widget-view+json": {
       "version_major": 2,
       "version_minor": 0,
       "model_id": "c84e50eb44634c12a0422026b93c27cf"
      }
     },
     "metadata": {},
     "output_type": "display_data"
    },
    {
     "name": "stdout",
     "output_type": "stream",
     "text": [
      "Optimizing:  phillip-walker\n"
     ]
    },
    {
     "name": "stderr",
     "output_type": "stream",
     "text": [
      "/usr/local/lib/python3.9/site-packages/optuna/progress_bar.py:56: ExperimentalWarning: Progress bar is experimental (supported from v1.2.0). The interface can change in the future.\n",
      "  self._init_valid()\n"
     ]
    },
    {
     "data": {
      "text/plain": "  0%|          | 0/200 [00:00<?, ?it/s]",
      "application/vnd.jupyter.widget-view+json": {
       "version_major": 2,
       "version_minor": 0,
       "model_id": "bf25aac71d7440f3be53a3084aa4f629"
      }
     },
     "metadata": {},
     "output_type": "display_data"
    },
    {
     "name": "stdout",
     "output_type": "stream",
     "text": [
      "Optimizing:  teddy-bridgewater\n"
     ]
    },
    {
     "name": "stderr",
     "output_type": "stream",
     "text": [
      "/usr/local/lib/python3.9/site-packages/optuna/progress_bar.py:56: ExperimentalWarning: Progress bar is experimental (supported from v1.2.0). The interface can change in the future.\n",
      "  self._init_valid()\n"
     ]
    },
    {
     "data": {
      "text/plain": "  0%|          | 0/200 [00:00<?, ?it/s]",
      "application/vnd.jupyter.widget-view+json": {
       "version_major": 2,
       "version_minor": 0,
       "model_id": "908f8a8e3e5b494b8b7b69726faff1ce"
      }
     },
     "metadata": {},
     "output_type": "display_data"
    },
    {
     "name": "stdout",
     "output_type": "stream",
     "text": [
      "Optimizing:  bailey-zappe\n",
      "Optimizing:  gardner-minshew\n"
     ]
    },
    {
     "name": "stderr",
     "output_type": "stream",
     "text": [
      "/usr/local/lib/python3.9/site-packages/optuna/progress_bar.py:56: ExperimentalWarning: Progress bar is experimental (supported from v1.2.0). The interface can change in the future.\n",
      "  self._init_valid()\n"
     ]
    },
    {
     "data": {
      "text/plain": "  0%|          | 0/200 [00:00<?, ?it/s]",
      "application/vnd.jupyter.widget-view+json": {
       "version_major": 2,
       "version_minor": 0,
       "model_id": "b010c492899a4059b3fece18cd6ecbc7"
      }
     },
     "metadata": {},
     "output_type": "display_data"
    },
    {
     "name": "stdout",
     "output_type": "stream",
     "text": [
      "Optimizing:  desmond-ridder\n",
      "Optimizing:  sam-ehlinger\n",
      "Optimizing:  colt-mccoy\n"
     ]
    },
    {
     "name": "stderr",
     "output_type": "stream",
     "text": [
      "/usr/local/lib/python3.9/site-packages/optuna/progress_bar.py:56: ExperimentalWarning: Progress bar is experimental (supported from v1.2.0). The interface can change in the future.\n",
      "  self._init_valid()\n"
     ]
    },
    {
     "data": {
      "text/plain": "  0%|          | 0/200 [00:00<?, ?it/s]",
      "application/vnd.jupyter.widget-view+json": {
       "version_major": 2,
       "version_minor": 0,
       "model_id": "6f7113bc212e473b85291e89eb01cfee"
      }
     },
     "metadata": {},
     "output_type": "display_data"
    },
    {
     "name": "stdout",
     "output_type": "stream",
     "text": [
      "Optimizing:  joshua-dobbs\n"
     ]
    },
    {
     "name": "stderr",
     "output_type": "stream",
     "text": [
      "/usr/local/lib/python3.9/site-packages/optuna/progress_bar.py:56: ExperimentalWarning: Progress bar is experimental (supported from v1.2.0). The interface can change in the future.\n",
      "  self._init_valid()\n"
     ]
    },
    {
     "data": {
      "text/plain": "  0%|          | 0/200 [00:00<?, ?it/s]",
      "application/vnd.jupyter.widget-view+json": {
       "version_major": 2,
       "version_minor": 0,
       "model_id": "642fa4da7a894965b0758e40986bad33"
      }
     },
     "metadata": {},
     "output_type": "display_data"
    },
    {
     "name": "stdout",
     "output_type": "stream",
     "text": [
      "Optimizing:  malik-willis\n",
      "Optimizing:  brett-rypien\n"
     ]
    },
    {
     "name": "stderr",
     "output_type": "stream",
     "text": [
      "/usr/local/lib/python3.9/site-packages/optuna/progress_bar.py:56: ExperimentalWarning: Progress bar is experimental (supported from v1.2.0). The interface can change in the future.\n",
      "  self._init_valid()\n"
     ]
    },
    {
     "data": {
      "text/plain": "  0%|          | 0/200 [00:00<?, ?it/s]",
      "application/vnd.jupyter.widget-view+json": {
       "version_major": 2,
       "version_minor": 0,
       "model_id": "545f278748514a008d424ee335586bdb"
      }
     },
     "metadata": {},
     "output_type": "display_data"
    },
    {
     "name": "stdout",
     "output_type": "stream",
     "text": [
      "Optimizing:  davis-webb\n",
      "Optimizing:  david-blough\n"
     ]
    },
    {
     "name": "stderr",
     "output_type": "stream",
     "text": [
      "/usr/local/lib/python3.9/site-packages/optuna/progress_bar.py:56: ExperimentalWarning: Progress bar is experimental (supported from v1.2.0). The interface can change in the future.\n",
      "  self._init_valid()\n"
     ]
    },
    {
     "data": {
      "text/plain": "  0%|          | 0/200 [00:00<?, ?it/s]",
      "application/vnd.jupyter.widget-view+json": {
       "version_major": 2,
       "version_minor": 0,
       "model_id": "a59e9a8a4b214aea8cac4b83185cf51a"
      }
     },
     "metadata": {},
     "output_type": "display_data"
    },
    {
     "name": "stdout",
     "output_type": "stream",
     "text": [
      "Optimizing:  skylar-thompson\n",
      "Optimizing:  kyle-allen\n"
     ]
    },
    {
     "name": "stderr",
     "output_type": "stream",
     "text": [
      "/usr/local/lib/python3.9/site-packages/optuna/progress_bar.py:56: ExperimentalWarning: Progress bar is experimental (supported from v1.2.0). The interface can change in the future.\n",
      "  self._init_valid()\n"
     ]
    },
    {
     "data": {
      "text/plain": "  0%|          | 0/200 [00:00<?, ?it/s]",
      "application/vnd.jupyter.widget-view+json": {
       "version_major": 2,
       "version_minor": 0,
       "model_id": "3bc4f0ba01024b8eaea67c2ed9acd9a3"
      }
     },
     "metadata": {},
     "output_type": "display_data"
    },
    {
     "name": "stdout",
     "output_type": "stream",
     "text": [
      "Optimizing:  sam-howell\n",
      "Optimizing:  john-wolford\n"
     ]
    },
    {
     "name": "stderr",
     "output_type": "stream",
     "text": [
      "/usr/local/lib/python3.9/site-packages/optuna/progress_bar.py:56: ExperimentalWarning: Progress bar is experimental (supported from v1.2.0). The interface can change in the future.\n",
      "  self._init_valid()\n"
     ]
    },
    {
     "data": {
      "text/plain": "  0%|          | 0/200 [00:00<?, ?it/s]",
      "application/vnd.jupyter.widget-view+json": {
       "version_major": 2,
       "version_minor": 0,
       "model_id": "0813b738d5084067870c6aee1aaaae3d"
      }
     },
     "metadata": {},
     "output_type": "display_data"
    },
    {
     "name": "stdout",
     "output_type": "stream",
     "text": [
      "Optimizing:  bryce-perkins\n",
      "Optimizing:  jeff-driskel\n"
     ]
    },
    {
     "name": "stderr",
     "output_type": "stream",
     "text": [
      "/usr/local/lib/python3.9/site-packages/optuna/progress_bar.py:56: ExperimentalWarning: Progress bar is experimental (supported from v1.2.0). The interface can change in the future.\n",
      "  self._init_valid()\n"
     ]
    },
    {
     "data": {
      "text/plain": "  0%|          | 0/200 [00:00<?, ?it/s]",
      "application/vnd.jupyter.widget-view+json": {
       "version_major": 2,
       "version_minor": 0,
       "model_id": "29717729523b4019a3888e8075ece8a3"
      }
     },
     "metadata": {},
     "output_type": "display_data"
    },
    {
     "name": "stdout",
     "output_type": "stream",
     "text": [
      "Optimizing:  trace-mcsorley\n"
     ]
    },
    {
     "name": "stderr",
     "output_type": "stream",
     "text": [
      "/usr/local/lib/python3.9/site-packages/optuna/progress_bar.py:56: ExperimentalWarning: Progress bar is experimental (supported from v1.2.0). The interface can change in the future.\n",
      "  self._init_valid()\n"
     ]
    },
    {
     "data": {
      "text/plain": "  0%|          | 0/200 [00:00<?, ?it/s]",
      "application/vnd.jupyter.widget-view+json": {
       "version_major": 2,
       "version_minor": 0,
       "model_id": "07df24d808844eabaa71067464e65db3"
      }
     },
     "metadata": {},
     "output_type": "display_data"
    },
    {
     "name": "stdout",
     "output_type": "stream",
     "text": [
      "Optimizing:  trey-lance\n",
      "Optimizing:  nick-mullens\n"
     ]
    },
    {
     "name": "stderr",
     "output_type": "stream",
     "text": [
      "/usr/local/lib/python3.9/site-packages/optuna/progress_bar.py:56: ExperimentalWarning: Progress bar is experimental (supported from v1.2.0). The interface can change in the future.\n",
      "  self._init_valid()\n"
     ]
    },
    {
     "data": {
      "text/plain": "  0%|          | 0/200 [00:00<?, ?it/s]",
      "application/vnd.jupyter.widget-view+json": {
       "version_major": 2,
       "version_minor": 0,
       "model_id": "de958d5ea2ef4f7d8f59b1ca0dc0d346"
      }
     },
     "metadata": {},
     "output_type": "display_data"
    },
    {
     "name": "stdout",
     "output_type": "stream",
     "text": [
      "Optimizing:  tyrod-taylor\n"
     ]
    },
    {
     "name": "stderr",
     "output_type": "stream",
     "text": [
      "/usr/local/lib/python3.9/site-packages/optuna/progress_bar.py:56: ExperimentalWarning: Progress bar is experimental (supported from v1.2.0). The interface can change in the future.\n",
      "  self._init_valid()\n"
     ]
    },
    {
     "data": {
      "text/plain": "  0%|          | 0/200 [00:00<?, ?it/s]",
      "application/vnd.jupyter.widget-view+json": {
       "version_major": 2,
       "version_minor": 0,
       "model_id": "cc57bb9b96734eb69ad38f3e5a516ebc"
      }
     },
     "metadata": {},
     "output_type": "display_data"
    },
    {
     "name": "stdout",
     "output_type": "stream",
     "text": [
      "Optimizing:  jordan-love\n",
      "Optimizing:  trevor-siemian\n"
     ]
    },
    {
     "name": "stderr",
     "output_type": "stream",
     "text": [
      "/usr/local/lib/python3.9/site-packages/optuna/progress_bar.py:56: ExperimentalWarning: Progress bar is experimental (supported from v1.2.0). The interface can change in the future.\n",
      "  self._init_valid()\n"
     ]
    },
    {
     "data": {
      "text/plain": "  0%|          | 0/200 [00:00<?, ?it/s]",
      "application/vnd.jupyter.widget-view+json": {
       "version_major": 2,
       "version_minor": 0,
       "model_id": "68183017545540be88d4a1c1fc4f594e"
      }
     },
     "metadata": {},
     "output_type": "display_data"
    },
    {
     "name": "stdout",
     "output_type": "stream",
     "text": [
      "Optimizing:  nathan-peterman\n"
     ]
    },
    {
     "name": "stderr",
     "output_type": "stream",
     "text": [
      "/usr/local/lib/python3.9/site-packages/optuna/progress_bar.py:56: ExperimentalWarning: Progress bar is experimental (supported from v1.2.0). The interface can change in the future.\n",
      "  self._init_valid()\n"
     ]
    },
    {
     "data": {
      "text/plain": "  0%|          | 0/200 [00:00<?, ?it/s]",
      "application/vnd.jupyter.widget-view+json": {
       "version_major": 2,
       "version_minor": 0,
       "model_id": "e25e3dcfb6e04fef8ae87ed524b05919"
      }
     },
     "metadata": {},
     "output_type": "display_data"
    },
    {
     "name": "stdout",
     "output_type": "stream",
     "text": [
      "Optimizing:  chris-streveler\n"
     ]
    },
    {
     "name": "stderr",
     "output_type": "stream",
     "text": [
      "/usr/local/lib/python3.9/site-packages/optuna/progress_bar.py:56: ExperimentalWarning: Progress bar is experimental (supported from v1.2.0). The interface can change in the future.\n",
      "  self._init_valid()\n"
     ]
    },
    {
     "data": {
      "text/plain": "  0%|          | 0/200 [00:00<?, ?it/s]",
      "application/vnd.jupyter.widget-view+json": {
       "version_major": 2,
       "version_minor": 0,
       "model_id": "526c636c4df342f19a81c54ae150cee1"
      }
     },
     "metadata": {},
     "output_type": "display_data"
    },
    {
     "name": "stdout",
     "output_type": "stream",
     "text": [
      "Optimizing:  chase-daniel\n"
     ]
    },
    {
     "name": "stderr",
     "output_type": "stream",
     "text": [
      "/usr/local/lib/python3.9/site-packages/optuna/progress_bar.py:56: ExperimentalWarning: Progress bar is experimental (supported from v1.2.0). The interface can change in the future.\n",
      "  self._init_valid()\n"
     ]
    },
    {
     "data": {
      "text/plain": "  0%|          | 0/200 [00:00<?, ?it/s]",
      "application/vnd.jupyter.widget-view+json": {
       "version_major": 2,
       "version_minor": 0,
       "model_id": "aabfde11d38449b49307d0b38b680537"
      }
     },
     "metadata": {},
     "output_type": "display_data"
    },
    {
     "name": "stdout",
     "output_type": "stream",
     "text": [
      "Optimizing:  anthony-brown-3\n",
      "Optimizing:  nick-foles\n"
     ]
    },
    {
     "name": "stderr",
     "output_type": "stream",
     "text": [
      "/usr/local/lib/python3.9/site-packages/optuna/progress_bar.py:56: ExperimentalWarning: Progress bar is experimental (supported from v1.2.0). The interface can change in the future.\n",
      "  self._init_valid()\n"
     ]
    },
    {
     "data": {
      "text/plain": "  0%|          | 0/200 [00:00<?, ?it/s]",
      "application/vnd.jupyter.widget-view+json": {
       "version_major": 2,
       "version_minor": 0,
       "model_id": "d0b19aa5fe1f4044a5972d5cd759536f"
      }
     },
     "metadata": {},
     "output_type": "display_data"
    },
    {
     "name": "stdout",
     "output_type": "stream",
     "text": [
      "Optimizing:  blaine-gabbert\n"
     ]
    },
    {
     "name": "stderr",
     "output_type": "stream",
     "text": [
      "/usr/local/lib/python3.9/site-packages/optuna/progress_bar.py:56: ExperimentalWarning: Progress bar is experimental (supported from v1.2.0). The interface can change in the future.\n",
      "  self._init_valid()\n"
     ]
    },
    {
     "data": {
      "text/plain": "  0%|          | 0/200 [00:00<?, ?it/s]",
      "application/vnd.jupyter.widget-view+json": {
       "version_major": 2,
       "version_minor": 0,
       "model_id": "d4bc5f21518b43699c814e67cfecd11d"
      }
     },
     "metadata": {},
     "output_type": "display_data"
    },
    {
     "name": "stdout",
     "output_type": "stream",
     "text": [
      "Optimizing:  brian-hoyer\n"
     ]
    },
    {
     "name": "stderr",
     "output_type": "stream",
     "text": [
      "/usr/local/lib/python3.9/site-packages/optuna/progress_bar.py:56: ExperimentalWarning: Progress bar is experimental (supported from v1.2.0). The interface can change in the future.\n",
      "  self._init_valid()\n"
     ]
    },
    {
     "data": {
      "text/plain": "  0%|          | 0/200 [00:00<?, ?it/s]",
      "application/vnd.jupyter.widget-view+json": {
       "version_major": 2,
       "version_minor": 0,
       "model_id": "241e81957a2f4907aa038995c7663774"
      }
     },
     "metadata": {},
     "output_type": "display_data"
    },
    {
     "name": "stdout",
     "output_type": "stream",
     "text": [
      "Optimizing:  brandon-allen\n"
     ]
    },
    {
     "name": "stderr",
     "output_type": "stream",
     "text": [
      "/usr/local/lib/python3.9/site-packages/optuna/progress_bar.py:56: ExperimentalWarning: Progress bar is experimental (supported from v1.2.0). The interface can change in the future.\n",
      "  self._init_valid()\n"
     ]
    },
    {
     "data": {
      "text/plain": "  0%|          | 0/200 [00:00<?, ?it/s]",
      "application/vnd.jupyter.widget-view+json": {
       "version_major": 2,
       "version_minor": 0,
       "model_id": "894924f2394c47dab7572f8f76ba0f91"
      }
     },
     "metadata": {},
     "output_type": "display_data"
    },
    {
     "name": "stdout",
     "output_type": "stream",
     "text": [
      "Optimizing:  josh-johnson\n"
     ]
    },
    {
     "name": "stderr",
     "output_type": "stream",
     "text": [
      "/usr/local/lib/python3.9/site-packages/optuna/progress_bar.py:56: ExperimentalWarning: Progress bar is experimental (supported from v1.2.0). The interface can change in the future.\n",
      "  self._init_valid()\n"
     ]
    },
    {
     "data": {
      "text/plain": "  0%|          | 0/200 [00:00<?, ?it/s]",
      "application/vnd.jupyter.widget-view+json": {
       "version_major": 2,
       "version_minor": 0,
       "model_id": "26936361fe394276b50e0c239d826975"
      }
     },
     "metadata": {},
     "output_type": "display_data"
    },
    {
     "name": "stdout",
     "output_type": "stream",
     "text": [
      "Optimizing:  case-keenum\n"
     ]
    },
    {
     "name": "stderr",
     "output_type": "stream",
     "text": [
      "/usr/local/lib/python3.9/site-packages/optuna/progress_bar.py:56: ExperimentalWarning: Progress bar is experimental (supported from v1.2.0). The interface can change in the future.\n",
      "  self._init_valid()\n"
     ]
    },
    {
     "data": {
      "text/plain": "  0%|          | 0/200 [00:00<?, ?it/s]",
      "application/vnd.jupyter.widget-view+json": {
       "version_major": 2,
       "version_minor": 0,
       "model_id": "5f3378a01a1c4224a642aeb285133bc8"
      }
     },
     "metadata": {},
     "output_type": "display_data"
    },
    {
     "name": "stdout",
     "output_type": "stream",
     "text": [
      "Optimizing:  jake-fromm\n",
      "Optimizing:  jake-luton\n"
     ]
    }
   ],
   "source": [
    "best_sets = []\n",
    "\n",
    "with open('qbs.csv', mode ='r') as file:\n",
    "    f = csv.reader(file)\n",
    "\n",
    "    for row in f:\n",
    "        fantasy_points = []\n",
    "        player, pos = row[0], row[1]\n",
    "        print(\"Optimizing: \", player)\n",
    "        df = scrape(0, pos, player)\n",
    "        df2 = scrape(1, pos, player)\n",
    "\n",
    "        # fantasy calculations\n",
    "        for i in range(df.shape[0] - 1):\n",
    "            # passing yard fantasy calculation\n",
    "            yard_val = df.at[i, 'YDS'] * 0.04\n",
    "            points = yard_val\n",
    "\n",
    "            # passing touchdown fantasy calculation\n",
    "            pass_val = df.at[i, 'TD']\n",
    "            points += (pass_val * 4)\n",
    "\n",
    "            # interception fantasy calculation\n",
    "            points -= df.at[i, 'INT']\n",
    "\n",
    "            # rushing TD\n",
    "            rush_td = df2.at[i, 'TD']\n",
    "            points += (rush_td * 6)\n",
    "\n",
    "            # rushing YDs\n",
    "            rush_yds = df2.at[i, 'YDS'] * 0.1\n",
    "            points += rush_yds\n",
    "\n",
    "            fantasy_points.append(points)\n",
    "\n",
    "        df, df2, fantasy_points = helper(df, df2, fantasy_points)\n",
    "\n",
    "        # copy dataframe to make the target column for the XGBoost\n",
    "        temp = pd.DataFrame()\n",
    "        temp['p-COMP'] = df['COMP']\n",
    "        temp['p-PCT'] = df['PCT']\n",
    "        temp['p-YDS'] = df['YDS']\n",
    "        temp['p-AVG'] = df['AVG']\n",
    "        temp['p-LNG'] = df['LNG']\n",
    "        temp['p-TD'] = df['TD']\n",
    "        temp['p-INT'] = df['INT']\n",
    "        temp['p-1st'] = df['1st']\n",
    "        temp['p-1st%'] = df['1st%']\n",
    "        temp['p-20+'] = df['20+']\n",
    "        temp['p-SCK'] = df['SCK']\n",
    "        temp['p-SCKY'] = df['SCKY']\n",
    "        temp['p-RATE'] = df['RATE']\n",
    "\n",
    "        temp['ru-ATT'] = df2['ATT']\n",
    "        temp['ru-YDS'] = df2['YDS']\n",
    "        temp['ru-AVG'] = df2['AVG']\n",
    "        temp['ru-LNG'] = df2['LNG']\n",
    "        temp['ru-TD'] = df2['TD']\n",
    "        temp['ru-1st'] = df2['1st']\n",
    "        temp['ru-1st%'] = df2['1st%']\n",
    "        temp['ru-20+'] = df2['20+']\n",
    "        temp['ru-40+'] = df2['40+']\n",
    "        temp['ru-FUM'] = df2['FUM']\n",
    "\n",
    "        temp['Fantasy Points'] = df['Fantasy Points']\n",
    "        target = df['Fantasy Points'].tolist()\n",
    "        target.pop(0)\n",
    "        target.append(0)\n",
    "        temp['Target'] = target\n",
    "        df = temp\n",
    "        df = df[::-1]  # reverse the rows\n",
    "\n",
    "        df = df.fillna(0)\n",
    "        df = df.iloc[1:]\n",
    "\n",
    "        #print(df.shape[0])\n",
    "\n",
    "        if df.shape[0] > 1:\n",
    "            data, label = df.iloc[:, :-1], df.iloc[:, -1]\n",
    "            xgb.DMatrix(data=data, label=label, enable_categorical=True)\n",
    "\n",
    "            data_train, data_test = data.iloc[1:], data.iloc[:1]  # most recent season\n",
    "            label_train, label_test = label.iloc[1:], label.iloc[:1]\n",
    "\n",
    "            scaler = StandardScaler()\n",
    "            #print(data_train)\n",
    "            data_train = scaler.fit_transform(data_train)\n",
    "            data_test = scaler.transform(data_test)\n",
    "\n",
    "            model = xgb.XGBRegressor()\n",
    "            model.fit(data_train, label_train)\n",
    "            preds = model.predict(data_test)\n",
    "\n",
    "            # optimize parameters\n",
    "            num_trials = 200\n",
    "\n",
    "            start = time.time()\n",
    "            optuna.logging.set_verbosity(optuna.logging.WARNING)\n",
    "            study = optuna.create_study(direction='minimize', study_name='regression') # when first run\n",
    "            #study = joblib.load('qb.pkl')\n",
    "            study.optimize(objective, n_trials=num_trials, show_progress_bar=True, n_jobs=-1)\n",
    "\n",
    "            #joblib.dump(study, \"test.pkl\")  # save study\n",
    "\n",
    "            # result = study.best_params\n",
    "            result = study.best_trial.params\n",
    "            #print(\"Time: \", time.time() - start)\n",
    "            #print(result)\n",
    "            best_sets.append(result)\n",
    "\n",
    "\n",
    "            # save parameters to file\n",
    "            #with open('current.txt', 'w') as f:\n",
    "            #    f.write(json.dumps(result))"
   ],
   "metadata": {
    "collapsed": false
   }
  },
  {
   "cell_type": "code",
   "execution_count": 4,
   "outputs": [
    {
     "data": {
      "text/plain": "[{'max_depth': 8,\n  'learning_rate': 0.1384822878569238,\n  'n_estimators': 376,\n  'min_child_weight': 1,\n  'gamma': 0.8805800801207553,\n  'subsample': 0.9150285039197229,\n  'colsample_bytree': 0.9428735561944548,\n  'reg_alpha': 0.7280885841001846,\n  'reg_lambda': 0.9948461630186739,\n  'random_state': 163},\n {'max_depth': 8,\n  'learning_rate': 0.06181520232866862,\n  'n_estimators': 163,\n  'min_child_weight': 1,\n  'gamma': 0.9821338180093987,\n  'subsample': 0.34209062244562455,\n  'colsample_bytree': 0.6138874793485276,\n  'reg_alpha': 0.29670630034418133,\n  'reg_lambda': 0.15613494945620007,\n  'random_state': 71},\n {'max_depth': 1,\n  'learning_rate': 0.2478190388815374,\n  'n_estimators': 102,\n  'min_child_weight': 1,\n  'gamma': 0.6296135445245093,\n  'subsample': 0.8122995072747319,\n  'colsample_bytree': 0.2721076277288244,\n  'reg_alpha': 0.12993193723156654,\n  'reg_lambda': 0.22638517580402295,\n  'random_state': 98},\n {'max_depth': 1,\n  'learning_rate': 0.1621888307840021,\n  'n_estimators': 583,\n  'min_child_weight': 1,\n  'gamma': 0.120702409607635,\n  'subsample': 0.30834354927211505,\n  'colsample_bytree': 0.6067459816367007,\n  'reg_alpha': 0.010670267357785188,\n  'reg_lambda': 0.6355719833414673,\n  'random_state': 976},\n {'max_depth': 6,\n  'learning_rate': 0.18974158454197407,\n  'n_estimators': 926,\n  'min_child_weight': 3,\n  'gamma': 0.7096434083613204,\n  'subsample': 0.6886906749741891,\n  'colsample_bytree': 0.3935349813232577,\n  'reg_alpha': 0.4340696064476583,\n  'reg_lambda': 0.018079640838939814,\n  'random_state': 287},\n {'max_depth': 5,\n  'learning_rate': 0.2708401446437767,\n  'n_estimators': 990,\n  'min_child_weight': 1,\n  'gamma': 0.1204926393663479,\n  'subsample': 0.6567591975182864,\n  'colsample_bytree': 0.053770424718842365,\n  'reg_alpha': 0.12479082585655568,\n  'reg_lambda': 0.43427967812546786,\n  'random_state': 12},\n {'max_depth': 6,\n  'learning_rate': 0.21990370538419016,\n  'n_estimators': 441,\n  'min_child_weight': 1,\n  'gamma': 0.8899206848154053,\n  'subsample': 0.6801677875296477,\n  'colsample_bytree': 0.11442829938810625,\n  'reg_alpha': 0.3315689729243389,\n  'reg_lambda': 0.6010834504301883,\n  'random_state': 292},\n {'max_depth': 6,\n  'learning_rate': 0.2671926447907949,\n  'n_estimators': 857,\n  'min_child_weight': 1,\n  'gamma': 0.9051585654523839,\n  'subsample': 0.7856728173233547,\n  'colsample_bytree': 0.5304119034234906,\n  'reg_alpha': 0.5428987550885418,\n  'reg_lambda': 0.0654160093671053,\n  'random_state': 836},\n {'max_depth': 1,\n  'learning_rate': 0.04031020426062977,\n  'n_estimators': 782,\n  'min_child_weight': 1,\n  'gamma': 0.16622418632364527,\n  'subsample': 0.08144480661372525,\n  'colsample_bytree': 0.8699702875039297,\n  'reg_alpha': 0.8852727005313555,\n  'reg_lambda': 0.8602335358765119,\n  'random_state': 930},\n {'max_depth': 7,\n  'learning_rate': 0.1972591146681075,\n  'n_estimators': 87,\n  'min_child_weight': 10,\n  'gamma': 0.01705697279835175,\n  'subsample': 0.6496642533854435,\n  'colsample_bytree': 0.9682491460331941,\n  'reg_alpha': 0.38746275173275085,\n  'reg_lambda': 0.6175892234794985,\n  'random_state': 270},\n {'max_depth': 1,\n  'learning_rate': 0.09691053003492316,\n  'n_estimators': 140,\n  'min_child_weight': 8,\n  'gamma': 0.8079508676167916,\n  'subsample': 0.36738487254830526,\n  'colsample_bytree': 0.8321588373156523,\n  'reg_alpha': 0.9906042010163506,\n  'reg_lambda': 0.31374826096497443,\n  'random_state': 541},\n {'max_depth': 10,\n  'learning_rate': 0.05690493316568582,\n  'n_estimators': 41,\n  'min_child_weight': 1,\n  'gamma': 0.023948806777747134,\n  'subsample': 0.2904506773640069,\n  'colsample_bytree': 0.9533107570325619,\n  'reg_alpha': 0.2589568461983625,\n  'reg_lambda': 0.21815198867646013,\n  'random_state': 375},\n {'max_depth': 6,\n  'learning_rate': 0.20677008266846728,\n  'n_estimators': 347,\n  'min_child_weight': 1,\n  'gamma': 0.9821832679964951,\n  'subsample': 0.34541709868724046,\n  'colsample_bytree': 0.3718976876436182,\n  'reg_alpha': 0.2928752056499466,\n  'reg_lambda': 0.06951206918719219,\n  'random_state': 343},\n {'max_depth': 9,\n  'learning_rate': 0.011279783368528485,\n  'n_estimators': 892,\n  'min_child_weight': 6,\n  'gamma': 0.798562048313189,\n  'subsample': 0.4938158739443299,\n  'colsample_bytree': 0.7604844583024093,\n  'reg_alpha': 0.20999592874495404,\n  'reg_lambda': 0.7520618762357318,\n  'random_state': 87},\n {'max_depth': 2,\n  'learning_rate': 0.013462225024944895,\n  'n_estimators': 277,\n  'min_child_weight': 6,\n  'gamma': 0.48722835449892526,\n  'subsample': 0.7947014085487808,\n  'colsample_bytree': 0.9055582454373399,\n  'reg_alpha': 0.03568606437649303,\n  'reg_lambda': 0.04766752893334826,\n  'random_state': 705},\n {'max_depth': 8,\n  'learning_rate': 0.18985837059824712,\n  'n_estimators': 622,\n  'min_child_weight': 1,\n  'gamma': 0.6460029733919659,\n  'subsample': 0.6129735375474481,\n  'colsample_bytree': 0.15391536260175892,\n  'reg_alpha': 0.9324420116515979,\n  'reg_lambda': 0.9375570136266169,\n  'random_state': 555},\n {'max_depth': 4,\n  'learning_rate': 0.01646674170136742,\n  'n_estimators': 105,\n  'min_child_weight': 2,\n  'gamma': 0.9978963732676451,\n  'subsample': 0.7567936142494422,\n  'colsample_bytree': 0.26236311245764293,\n  'reg_alpha': 0.1548142074124201,\n  'reg_lambda': 0.1494126050686687,\n  'random_state': 507},\n {'max_depth': 9,\n  'learning_rate': 0.21378578386021513,\n  'n_estimators': 328,\n  'min_child_weight': 4,\n  'gamma': 0.3152241916478016,\n  'subsample': 0.7685445689275766,\n  'colsample_bytree': 0.08628213425619115,\n  'reg_alpha': 0.11516459646263948,\n  'reg_lambda': 0.8621584501305725,\n  'random_state': 203},\n {'max_depth': 6,\n  'learning_rate': 0.07871901563485095,\n  'n_estimators': 813,\n  'min_child_weight': 2,\n  'gamma': 0.93839356642262,\n  'subsample': 0.19111811280346847,\n  'colsample_bytree': 0.14979265397044014,\n  'reg_alpha': 0.6469532599961338,\n  'reg_lambda': 0.5575378312580365,\n  'random_state': 344},\n {'max_depth': 6,\n  'learning_rate': 0.17070958627621774,\n  'n_estimators': 582,\n  'min_child_weight': 1,\n  'gamma': 0.3995583730631158,\n  'subsample': 0.4665447511453792,\n  'colsample_bytree': 0.47836228152734905,\n  'reg_alpha': 0.8992011280649295,\n  'reg_lambda': 0.41295512014993013,\n  'random_state': 637},\n {'max_depth': 4,\n  'learning_rate': 0.25526632649717584,\n  'n_estimators': 239,\n  'min_child_weight': 3,\n  'gamma': 0.31245509206686717,\n  'subsample': 0.49065700702045,\n  'colsample_bytree': 0.08924958068737801,\n  'reg_alpha': 0.870455023563483,\n  'reg_lambda': 0.23057417360742877,\n  'random_state': 468},\n {'max_depth': 4,\n  'learning_rate': 0.007269718547686458,\n  'n_estimators': 135,\n  'min_child_weight': 5,\n  'gamma': 0.33525508020429456,\n  'subsample': 0.96117511142746,\n  'colsample_bytree': 0.913797192119634,\n  'reg_alpha': 0.5650642427246608,\n  'reg_lambda': 0.360392752388373,\n  'random_state': 358},\n {'max_depth': 10,\n  'learning_rate': 0.1916134335714811,\n  'n_estimators': 725,\n  'min_child_weight': 5,\n  'gamma': 0.8888624835141877,\n  'subsample': 0.17187081846694116,\n  'colsample_bytree': 0.22464613544300902,\n  'reg_alpha': 0.9398179352858987,\n  'reg_lambda': 0.29887996518066645,\n  'random_state': 87},\n {'max_depth': 1,\n  'learning_rate': 0.0012362084051412772,\n  'n_estimators': 552,\n  'min_child_weight': 1,\n  'gamma': 0.5416721794500361,\n  'subsample': 0.5200164096604323,\n  'colsample_bytree': 0.5288241265894036,\n  'reg_alpha': 0.07851987136357996,\n  'reg_lambda': 0.9086128304628082,\n  'random_state': 983},\n {'max_depth': 4,\n  'learning_rate': 0.2641827509828336,\n  'n_estimators': 72,\n  'min_child_weight': 2,\n  'gamma': 0.20534497662244086,\n  'subsample': 0.7536307354691215,\n  'colsample_bytree': 0.8568806073691463,\n  'reg_alpha': 0.29238341326084977,\n  'reg_lambda': 0.645451676466949,\n  'random_state': 408},\n {'max_depth': 5,\n  'learning_rate': 0.010003428256743383,\n  'n_estimators': 140,\n  'min_child_weight': 5,\n  'gamma': 0.7190611778656525,\n  'subsample': 0.8622598915193326,\n  'colsample_bytree': 0.5007564563984152,\n  'reg_alpha': 0.5050115627654542,\n  'reg_lambda': 0.7229862305599639,\n  'random_state': 62},\n {'max_depth': 7,\n  'learning_rate': 0.022778280799023665,\n  'n_estimators': 873,\n  'min_child_weight': 3,\n  'gamma': 0.0125491099903544,\n  'subsample': 0.06669085714816232,\n  'colsample_bytree': 0.317729310991915,\n  'reg_alpha': 0.2260649820932244,\n  'reg_lambda': 0.5515205843351928,\n  'random_state': 134},\n {'max_depth': 4,\n  'learning_rate': 0.01377306427447561,\n  'n_estimators': 46,\n  'min_child_weight': 3,\n  'gamma': 0.15534934073572026,\n  'subsample': 0.8021303557588905,\n  'colsample_bytree': 0.26126954890224463,\n  'reg_alpha': 0.5454383080082972,\n  'reg_lambda': 0.43965728589005104,\n  'random_state': 112},\n {'max_depth': 4,\n  'learning_rate': 0.2791219361413641,\n  'n_estimators': 421,\n  'min_child_weight': 3,\n  'gamma': 0.6949682550117632,\n  'subsample': 0.20273413949665203,\n  'colsample_bytree': 0.8950151233264243,\n  'reg_alpha': 0.7112423594442464,\n  'reg_lambda': 0.8191733079850636,\n  'random_state': 791},\n {'max_depth': 5,\n  'learning_rate': 0.10043526221382347,\n  'n_estimators': 270,\n  'min_child_weight': 1,\n  'gamma': 0.8267374137829159,\n  'subsample': 0.5469546970542769,\n  'colsample_bytree': 0.95574895747375,\n  'reg_alpha': 0.8163823761273935,\n  'reg_lambda': 0.14423935809938307,\n  'random_state': 273},\n {'max_depth': 3,\n  'learning_rate': 0.2636163828986149,\n  'n_estimators': 813,\n  'min_child_weight': 1,\n  'gamma': 0.35341128939416805,\n  'subsample': 0.3667258896222598,\n  'colsample_bytree': 0.08123328496458732,\n  'reg_alpha': 0.5012298349686702,\n  'reg_lambda': 0.42136999936566777,\n  'random_state': 583},\n {'max_depth': 8,\n  'learning_rate': 0.0024067485952935473,\n  'n_estimators': 622,\n  'min_child_weight': 1,\n  'gamma': 0.02768141397754542,\n  'subsample': 0.5780749672158421,\n  'colsample_bytree': 0.41167857620632586,\n  'reg_alpha': 0.239586578340108,\n  'reg_lambda': 0.6037855516662569,\n  'random_state': 573},\n {'max_depth': 4,\n  'learning_rate': 0.14824031238348362,\n  'n_estimators': 125,\n  'min_child_weight': 3,\n  'gamma': 0.5280899263423248,\n  'subsample': 0.5685034523595837,\n  'colsample_bytree': 0.6718721805928948,\n  'reg_alpha': 0.8200278873132526,\n  'reg_lambda': 0.7954191824296833,\n  'random_state': 834},\n {'max_depth': 6,\n  'learning_rate': 0.04073328013627882,\n  'n_estimators': 487,\n  'min_child_weight': 4,\n  'gamma': 0.8376369094299081,\n  'subsample': 0.20906119832027908,\n  'colsample_bytree': 0.04993969051614987,\n  'reg_alpha': 0.4543501910257007,\n  'reg_lambda': 0.41279249694291464,\n  'random_state': 234},\n {'max_depth': 5,\n  'learning_rate': 0.14553963561462427,\n  'n_estimators': 920,\n  'min_child_weight': 1,\n  'gamma': 0.21682192074375597,\n  'subsample': 0.2550956965760335,\n  'colsample_bytree': 0.7008714783375206,\n  'reg_alpha': 0.010033860583471391,\n  'reg_lambda': 0.9471215443060502,\n  'random_state': 597},\n {'max_depth': 8,\n  'learning_rate': 0.13045270588421015,\n  'n_estimators': 682,\n  'min_child_weight': 1,\n  'gamma': 0.7553684246538399,\n  'subsample': 0.9987930756329957,\n  'colsample_bytree': 0.9991237728666522,\n  'reg_alpha': 0.5165251440482264,\n  'reg_lambda': 0.4458379908602389,\n  'random_state': 622},\n {'max_depth': 5,\n  'learning_rate': 0.007627405579124114,\n  'n_estimators': 469,\n  'min_child_weight': 5,\n  'gamma': 0.7753994452366535,\n  'subsample': 0.4926077093240488,\n  'colsample_bytree': 0.543346797111951,\n  'reg_alpha': 0.9712469617768411,\n  'reg_lambda': 0.387209937758601,\n  'random_state': 939},\n {'max_depth': 10,\n  'learning_rate': 0.22095743342819998,\n  'n_estimators': 125,\n  'min_child_weight': 1,\n  'gamma': 0.101865658819875,\n  'subsample': 0.3824721761008132,\n  'colsample_bytree': 0.9556678900653433,\n  'reg_alpha': 0.691772026045107,\n  'reg_lambda': 0.8102902463765262,\n  'random_state': 754},\n {'max_depth': 9,\n  'learning_rate': 0.16045352830562737,\n  'n_estimators': 745,\n  'min_child_weight': 7,\n  'gamma': 0.22867128610955298,\n  'subsample': 0.6202800852450453,\n  'colsample_bytree': 0.913977301107098,\n  'reg_alpha': 0.09641763072629284,\n  'reg_lambda': 0.7985722255873089,\n  'random_state': 229},\n {'max_depth': 3,\n  'learning_rate': 0.055284157539067555,\n  'n_estimators': 647,\n  'min_child_weight': 1,\n  'gamma': 0.9131092889628293,\n  'subsample': 0.6397526295362814,\n  'colsample_bytree': 0.07913944587350985,\n  'reg_alpha': 0.010528901241014521,\n  'reg_lambda': 0.8254311074945166,\n  'random_state': 681},\n {'max_depth': 1,\n  'learning_rate': 0.12682768973621336,\n  'n_estimators': 146,\n  'min_child_weight': 4,\n  'gamma': 0.280872992720733,\n  'subsample': 0.7032639005130291,\n  'colsample_bytree': 0.7048983158636396,\n  'reg_alpha': 0.28417584078347463,\n  'reg_lambda': 0.36263251062152396,\n  'random_state': 696},\n {'max_depth': 4,\n  'learning_rate': 0.1711793516939051,\n  'n_estimators': 644,\n  'min_child_weight': 1,\n  'gamma': 0.6456835414513409,\n  'subsample': 0.6118318655764007,\n  'colsample_bytree': 0.10854637884958715,\n  'reg_alpha': 0.05846553347345177,\n  'reg_lambda': 0.6909256168319332,\n  'random_state': 292},\n {'max_depth': 6,\n  'learning_rate': 0.11963876709610191,\n  'n_estimators': 832,\n  'min_child_weight': 3,\n  'gamma': 0.8499401913849798,\n  'subsample': 0.1305913891134595,\n  'colsample_bytree': 0.7064693328684252,\n  'reg_alpha': 0.540397052656756,\n  'reg_lambda': 0.9720449731890237,\n  'random_state': 811},\n {'max_depth': 4,\n  'learning_rate': 0.059362829281564035,\n  'n_estimators': 76,\n  'min_child_weight': 8,\n  'gamma': 0.12578724682572284,\n  'subsample': 0.634143198193432,\n  'colsample_bytree': 0.01888415540353277,\n  'reg_alpha': 0.6122547252552111,\n  'reg_lambda': 0.2755327871357533,\n  'random_state': 645},\n {'max_depth': 9,\n  'learning_rate': 0.09610499371781939,\n  'n_estimators': 133,\n  'min_child_weight': 2,\n  'gamma': 0.9321065561104038,\n  'subsample': 0.15999510967399164,\n  'colsample_bytree': 0.6424623558864541,\n  'reg_alpha': 0.9032687477192476,\n  'reg_lambda': 0.70889373799701,\n  'random_state': 598},\n {'max_depth': 2,\n  'learning_rate': 0.01856320247580221,\n  'n_estimators': 865,\n  'min_child_weight': 1,\n  'gamma': 0.12467642362445076,\n  'subsample': 0.7227465500475042,\n  'colsample_bytree': 0.4898661943024329,\n  'reg_alpha': 0.22924799860164827,\n  'reg_lambda': 0.014004124978465347,\n  'random_state': 481},\n {'max_depth': 10,\n  'learning_rate': 0.16561912904965692,\n  'n_estimators': 532,\n  'min_child_weight': 3,\n  'gamma': 0.0819646065527182,\n  'subsample': 0.14385153311307552,\n  'colsample_bytree': 0.9062303739472399,\n  'reg_alpha': 0.0782916551937265,\n  'reg_lambda': 0.37325577835501955,\n  'random_state': 728},\n {'max_depth': 8,\n  'learning_rate': 0.12209831942774027,\n  'n_estimators': 316,\n  'min_child_weight': 9,\n  'gamma': 0.8449333454596997,\n  'subsample': 0.4232074046184935,\n  'colsample_bytree': 0.4685310918645004,\n  'reg_alpha': 0.6775473008532827,\n  'reg_lambda': 0.8527553585455968,\n  'random_state': 278},\n {'max_depth': 2,\n  'learning_rate': 0.014628135248758936,\n  'n_estimators': 541,\n  'min_child_weight': 3,\n  'gamma': 0.9465940291437348,\n  'subsample': 0.16849077985266325,\n  'colsample_bytree': 0.6322798972319174,\n  'reg_alpha': 0.6937035226219768,\n  'reg_lambda': 0.7472862708666491,\n  'random_state': 859},\n {'max_depth': 9,\n  'learning_rate': 0.10243686932929824,\n  'n_estimators': 177,\n  'min_child_weight': 1,\n  'gamma': 0.6833307456736636,\n  'subsample': 0.4651297095913874,\n  'colsample_bytree': 0.533413773328588,\n  'reg_alpha': 0.3343714680305127,\n  'reg_lambda': 0.3851312420660558,\n  'random_state': 299},\n {'max_depth': 4,\n  'learning_rate': 0.27929389708959823,\n  'n_estimators': 616,\n  'min_child_weight': 1,\n  'gamma': 0.03216156315701574,\n  'subsample': 0.31678506834281106,\n  'colsample_bytree': 0.2485110002184274,\n  'reg_alpha': 0.2663581043839154,\n  'reg_lambda': 0.6365171914432327,\n  'random_state': 971},\n {'max_depth': 8,\n  'learning_rate': 0.0055567611151433275,\n  'n_estimators': 263,\n  'min_child_weight': 5,\n  'gamma': 0.3214930999554953,\n  'subsample': 0.6002804378123001,\n  'colsample_bytree': 0.03517553028427253,\n  'reg_alpha': 0.8230399399085094,\n  'reg_lambda': 0.6947374816914144,\n  'random_state': 831},\n {'max_depth': 2,\n  'learning_rate': 0.02835225352266367,\n  'n_estimators': 797,\n  'min_child_weight': 5,\n  'gamma': 0.5760557827185462,\n  'subsample': 0.16848771160600406,\n  'colsample_bytree': 0.8981406556747575,\n  'reg_alpha': 0.07348493739642309,\n  'reg_lambda': 0.730644046093634,\n  'random_state': 510},\n {'max_depth': 4,\n  'learning_rate': 0.24859162230344117,\n  'n_estimators': 81,\n  'min_child_weight': 10,\n  'gamma': 0.0469925550996242,\n  'subsample': 0.7491332250122513,\n  'colsample_bytree': 0.24911771322237997,\n  'reg_alpha': 0.07110755016036638,\n  'reg_lambda': 0.34845180997235314,\n  'random_state': 569},\n {'max_depth': 4,\n  'learning_rate': 0.0870683951836071,\n  'n_estimators': 40,\n  'min_child_weight': 9,\n  'gamma': 0.48776728040141526,\n  'subsample': 0.22024049690337355,\n  'colsample_bytree': 0.5729613318229493,\n  'reg_alpha': 0.7103433750384706,\n  'reg_lambda': 0.8298622270464145,\n  'random_state': 289},\n {'max_depth': 5,\n  'learning_rate': 0.11196913738839903,\n  'n_estimators': 65,\n  'min_child_weight': 6,\n  'gamma': 0.9042591282819057,\n  'subsample': 0.617514147901053,\n  'colsample_bytree': 0.36969677225961406,\n  'reg_alpha': 0.9259382208001765,\n  'reg_lambda': 0.4658486025344019,\n  'random_state': 564},\n {'max_depth': 10,\n  'learning_rate': 0.23439255973396497,\n  'n_estimators': 259,\n  'min_child_weight': 9,\n  'gamma': 0.4747932932902833,\n  'subsample': 0.7311511103323578,\n  'colsample_bytree': 0.0858308500267694,\n  'reg_alpha': 0.4374079766224848,\n  'reg_lambda': 0.44425619868597477,\n  'random_state': 916},\n {'max_depth': 4,\n  'learning_rate': 0.22481197420614957,\n  'n_estimators': 139,\n  'min_child_weight': 9,\n  'gamma': 0.019522443476187534,\n  'subsample': 0.6227255008537139,\n  'colsample_bytree': 0.7490334902499081,\n  'reg_alpha': 0.23655716979376584,\n  'reg_lambda': 0.5395674690433673,\n  'random_state': 226}]"
     },
     "execution_count": 4,
     "metadata": {},
     "output_type": "execute_result"
    }
   ],
   "source": [
    "best_sets"
   ],
   "metadata": {
    "collapsed": false
   }
  },
  {
   "cell_type": "code",
   "execution_count": 5,
   "outputs": [
    {
     "data": {
      "text/plain": "{'max_depth': 5,\n 'learning_rate': 0.12737771893324404,\n 'n_estimators': 432,\n 'min_child_weight': 3,\n 'gamma': 0.5108227694934251,\n 'subsample': 0.5118441772075004,\n 'colsample_bytree': 0.511912446346432,\n 'reg_alpha': 0.4521761096756538,\n 'reg_lambda': 0.5271042832557081,\n 'random_state': 491}"
     },
     "execution_count": 5,
     "metadata": {},
     "output_type": "execute_result"
    }
   ],
   "source": [
    "max_depth_agg = []\n",
    "lr_agg = []\n",
    "n_est_agg = []\n",
    "min_cw_agg = []\n",
    "gamma_agg = []\n",
    "subsam_agg = []\n",
    "col_bytree_agg = []\n",
    "alpha_agg = []\n",
    "lambda_agg = []\n",
    "random_agg = []\n",
    "\n",
    "for node in best_sets:\n",
    "    max_depth_agg.append(node['max_depth'])\n",
    "    lr_agg.append(node['learning_rate'])\n",
    "    n_est_agg.append(node['n_estimators'])\n",
    "    min_cw_agg.append(node['min_child_weight'])\n",
    "    gamma_agg.append(node['gamma'])\n",
    "    subsam_agg.append(node['subsample'])\n",
    "    col_bytree_agg.append(node['colsample_bytree'])\n",
    "    alpha_agg.append(node['reg_alpha'])\n",
    "    lambda_agg.append(node['reg_lambda'])\n",
    "    random_agg.append(node['random_state'])\n",
    "\n",
    "max_depth_agg = int(sum(max_depth_agg)/len(max_depth_agg))\n",
    "lr_agg = sum(lr_agg)/len(lr_agg)\n",
    "n_est_agg = int(sum(n_est_agg)/len(n_est_agg))\n",
    "min_cw_agg = int(sum(min_cw_agg)/len(min_cw_agg))\n",
    "gamma_agg = sum(gamma_agg)/len(gamma_agg)\n",
    "subsam_agg = sum(subsam_agg)/len(subsam_agg)\n",
    "col_bytree_agg = sum(col_bytree_agg)/len(col_bytree_agg)\n",
    "alpha_agg = sum(alpha_agg)/len(alpha_agg)\n",
    "lambda_agg = sum(lambda_agg)/len(lambda_agg)\n",
    "random_agg = int(sum(random_agg)/len(random_agg))\n",
    "\n",
    "best_set = {\n",
    "    'max_depth': max_depth_agg,\n",
    "    'learning_rate': lr_agg,\n",
    "    'n_estimators': n_est_agg,\n",
    "    'min_child_weight': min_cw_agg,\n",
    "    'gamma': gamma_agg,\n",
    "    'subsample': subsam_agg,\n",
    "    'colsample_bytree': col_bytree_agg,\n",
    "    'reg_alpha': alpha_agg,\n",
    "    'reg_lambda': lambda_agg,\n",
    "    'random_state': random_agg\n",
    "}\n",
    "\n",
    "best_set"
   ],
   "metadata": {
    "collapsed": false
   }
  },
  {
   "cell_type": "code",
   "execution_count": 5,
   "outputs": [],
   "source": [],
   "metadata": {
    "collapsed": false
   }
  }
 ],
 "metadata": {
  "kernelspec": {
   "display_name": "Python 3",
   "language": "python",
   "name": "python3"
  },
  "language_info": {
   "codemirror_mode": {
    "name": "ipython",
    "version": 2
   },
   "file_extension": ".py",
   "mimetype": "text/x-python",
   "name": "python",
   "nbconvert_exporter": "python",
   "pygments_lexer": "ipython2",
   "version": "2.7.6"
  }
 },
 "nbformat": 4,
 "nbformat_minor": 0
}
