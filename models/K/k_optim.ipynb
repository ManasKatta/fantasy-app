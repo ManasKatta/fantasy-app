{
 "cells": [
  {
   "cell_type": "code",
   "execution_count": 5,
   "metadata": {
    "collapsed": true
   },
   "outputs": [],
   "source": [
    "import numpy as np\n",
    "import pandas as pd\n",
    "import csv\n",
    "import xgboost as xgb\n",
    "from sklearn.metrics import mean_squared_error\n",
    "from sklearn.preprocessing import StandardScaler\n",
    "import optuna\n",
    "import time\n",
    "\n",
    "def scrape(option: int, player_pos, player_name) -> pd.DataFrame:\n",
    "    url = None\n",
    "\n",
    "    if player_pos == 'D':\n",
    "        # hacky way to get seasonal defensive stats\n",
    "        url = 'https://www.fantasypros.com/nfl/stats/dst.php'\n",
    "    else:\n",
    "        url_head = r'https://www.nfl.com/players/'\n",
    "        url_feet = '/stats/career'\n",
    "        url = url_head + player_name + url_feet\n",
    "\n",
    "    s_df = pd.read_html(url)\n",
    "    return s_df[option]  # option of 0 = first table, 1 = second table\n",
    "\n",
    "def objective(trial):\n",
    "    param = {\n",
    "        'max_depth': trial.suggest_int('max_depth', 1, 10),\n",
    "        'learning_rate': trial.suggest_float('learning_rate', 0.001, 0.28),\n",
    "        'n_estimators': trial.suggest_int('n_estimators', 40, 1000),\n",
    "        'min_child_weight': trial.suggest_int('min_child_weight', 1, 10),\n",
    "        'gamma': trial.suggest_float('gamma', 0.01, 1.0),\n",
    "        'subsample': trial.suggest_float('subsample', 0.01, 1.0),\n",
    "        'colsample_bytree': trial.suggest_float('colsample_bytree', 0.01, 1.0),\n",
    "        'reg_alpha': trial.suggest_float('reg_alpha', 0.01, 1.0),\n",
    "        'reg_lambda': trial.suggest_float('reg_lambda', 0.01, 1.0),\n",
    "        'random_state': trial.suggest_int('random_state', 1, 1000)  # ,'seed': trial.suggest_int('seed', 0, 10000)\n",
    "    }\n",
    "    m = xgb.XGBRegressor(**param)\n",
    "    m.fit(data_train, label_train)\n",
    "    y_pred = m.predict(data_test)\n",
    "    return np.sqrt(mean_squared_error(label_test, y_pred))"
   ]
  },
  {
   "cell_type": "code",
   "execution_count": 6,
   "outputs": [
    {
     "name": "stdout",
     "output_type": "stream",
     "text": [
      "Optimizing:  justin-tucker\n"
     ]
    },
    {
     "name": "stderr",
     "output_type": "stream",
     "text": [
      "/usr/local/lib/python3.9/site-packages/optuna/progress_bar.py:56: ExperimentalWarning: Progress bar is experimental (supported from v1.2.0). The interface can change in the future.\n",
      "  self._init_valid()\n"
     ]
    },
    {
     "data": {
      "text/plain": "  0%|          | 0/200 [00:00<?, ?it/s]",
      "application/vnd.jupyter.widget-view+json": {
       "version_major": 2,
       "version_minor": 0,
       "model_id": "2bfe1ae461254adcaa57284953e49f6f"
      }
     },
     "metadata": {},
     "output_type": "display_data"
    },
    {
     "name": "stdout",
     "output_type": "stream",
     "text": [
      "Optimizing:  daniel-carlson\n"
     ]
    },
    {
     "name": "stderr",
     "output_type": "stream",
     "text": [
      "/usr/local/lib/python3.9/site-packages/optuna/progress_bar.py:56: ExperimentalWarning: Progress bar is experimental (supported from v1.2.0). The interface can change in the future.\n",
      "  self._init_valid()\n"
     ]
    },
    {
     "data": {
      "text/plain": "  0%|          | 0/200 [00:00<?, ?it/s]",
      "application/vnd.jupyter.widget-view+json": {
       "version_major": 2,
       "version_minor": 0,
       "model_id": "511c8858ccb04d55998468efd0cdb390"
      }
     },
     "metadata": {},
     "output_type": "display_data"
    },
    {
     "name": "stdout",
     "output_type": "stream",
     "text": [
      "Optimizing:  brett-maher\n"
     ]
    },
    {
     "name": "stderr",
     "output_type": "stream",
     "text": [
      "/usr/local/lib/python3.9/site-packages/optuna/progress_bar.py:56: ExperimentalWarning: Progress bar is experimental (supported from v1.2.0). The interface can change in the future.\n",
      "  self._init_valid()\n"
     ]
    },
    {
     "data": {
      "text/plain": "  0%|          | 0/200 [00:00<?, ?it/s]",
      "application/vnd.jupyter.widget-view+json": {
       "version_major": 2,
       "version_minor": 0,
       "model_id": "6f4e0be0e9734d3c821e839af96a0d73"
      }
     },
     "metadata": {},
     "output_type": "display_data"
    },
    {
     "name": "stdout",
     "output_type": "stream",
     "text": [
      "Optimizing:  jason-myers\n"
     ]
    },
    {
     "name": "stderr",
     "output_type": "stream",
     "text": [
      "/usr/local/lib/python3.9/site-packages/optuna/progress_bar.py:56: ExperimentalWarning: Progress bar is experimental (supported from v1.2.0). The interface can change in the future.\n",
      "  self._init_valid()\n"
     ]
    },
    {
     "data": {
      "text/plain": "  0%|          | 0/200 [00:00<?, ?it/s]",
      "application/vnd.jupyter.widget-view+json": {
       "version_major": 2,
       "version_minor": 0,
       "model_id": "f16200937cff4bd0ad1f5f65ae7f6a1d"
      }
     },
     "metadata": {},
     "output_type": "display_data"
    },
    {
     "name": "stdout",
     "output_type": "stream",
     "text": [
      "Optimizing:  younghoe-koo\n"
     ]
    },
    {
     "name": "stderr",
     "output_type": "stream",
     "text": [
      "/usr/local/lib/python3.9/site-packages/optuna/progress_bar.py:56: ExperimentalWarning: Progress bar is experimental (supported from v1.2.0). The interface can change in the future.\n",
      "  self._init_valid()\n"
     ]
    },
    {
     "data": {
      "text/plain": "  0%|          | 0/200 [00:00<?, ?it/s]",
      "application/vnd.jupyter.widget-view+json": {
       "version_major": 2,
       "version_minor": 0,
       "model_id": "017cb9dca6b345b080a417332dd763d2"
      }
     },
     "metadata": {},
     "output_type": "display_data"
    },
    {
     "name": "stdout",
     "output_type": "stream",
     "text": [
      "Optimizing:  eddy-pineiro\n"
     ]
    },
    {
     "name": "stderr",
     "output_type": "stream",
     "text": [
      "/usr/local/lib/python3.9/site-packages/optuna/progress_bar.py:56: ExperimentalWarning: Progress bar is experimental (supported from v1.2.0). The interface can change in the future.\n",
      "  self._init_valid()\n"
     ]
    },
    {
     "data": {
      "text/plain": "  0%|          | 0/200 [00:00<?, ?it/s]",
      "application/vnd.jupyter.widget-view+json": {
       "version_major": 2,
       "version_minor": 0,
       "model_id": "725cbefbad6b42a5b3bda5ee20aa64d9"
      }
     },
     "metadata": {},
     "output_type": "display_data"
    },
    {
     "name": "stdout",
     "output_type": "stream",
     "text": [
      "Optimizing:  nick-folk\n"
     ]
    },
    {
     "name": "stderr",
     "output_type": "stream",
     "text": [
      "/usr/local/lib/python3.9/site-packages/optuna/progress_bar.py:56: ExperimentalWarning: Progress bar is experimental (supported from v1.2.0). The interface can change in the future.\n",
      "  self._init_valid()\n"
     ]
    },
    {
     "data": {
      "text/plain": "  0%|          | 0/200 [00:00<?, ?it/s]",
      "application/vnd.jupyter.widget-view+json": {
       "version_major": 2,
       "version_minor": 0,
       "model_id": "69e01b73b9b746cc83b3c77925303a64"
      }
     },
     "metadata": {},
     "output_type": "display_data"
    },
    {
     "name": "stdout",
     "output_type": "stream",
     "text": [
      "Optimizing:  tyler-bass\n"
     ]
    },
    {
     "name": "stderr",
     "output_type": "stream",
     "text": [
      "/usr/local/lib/python3.9/site-packages/optuna/progress_bar.py:56: ExperimentalWarning: Progress bar is experimental (supported from v1.2.0). The interface can change in the future.\n",
      "  self._init_valid()\n"
     ]
    },
    {
     "data": {
      "text/plain": "  0%|          | 0/200 [00:00<?, ?it/s]",
      "application/vnd.jupyter.widget-view+json": {
       "version_major": 2,
       "version_minor": 0,
       "model_id": "15970a47ddab4ae09e7c5fef1ef98f51"
      }
     },
     "metadata": {},
     "output_type": "display_data"
    },
    {
     "name": "stdout",
     "output_type": "stream",
     "text": [
      "Optimizing:  graham-gano\n"
     ]
    },
    {
     "name": "stderr",
     "output_type": "stream",
     "text": [
      "/usr/local/lib/python3.9/site-packages/optuna/progress_bar.py:56: ExperimentalWarning: Progress bar is experimental (supported from v1.2.0). The interface can change in the future.\n",
      "  self._init_valid()\n"
     ]
    },
    {
     "data": {
      "text/plain": "  0%|          | 0/200 [00:00<?, ?it/s]",
      "application/vnd.jupyter.widget-view+json": {
       "version_major": 2,
       "version_minor": 0,
       "model_id": "0be19fcf2e1a4904a340b7b5101ad992"
      }
     },
     "metadata": {},
     "output_type": "display_data"
    },
    {
     "name": "stdout",
     "output_type": "stream",
     "text": [
      "Optimizing:  robbie-gould\n"
     ]
    },
    {
     "name": "stderr",
     "output_type": "stream",
     "text": [
      "/usr/local/lib/python3.9/site-packages/optuna/progress_bar.py:56: ExperimentalWarning: Progress bar is experimental (supported from v1.2.0). The interface can change in the future.\n",
      "  self._init_valid()\n"
     ]
    },
    {
     "data": {
      "text/plain": "  0%|          | 0/200 [00:00<?, ?it/s]",
      "application/vnd.jupyter.widget-view+json": {
       "version_major": 2,
       "version_minor": 0,
       "model_id": "82ff2daaa9ad4c2ea25a919f83aa4227"
      }
     },
     "metadata": {},
     "output_type": "display_data"
    },
    {
     "name": "stdout",
     "output_type": "stream",
     "text": [
      "Optimizing:  riley-patterson\n",
      "Optimizing:  greg-zuerlein\n"
     ]
    },
    {
     "name": "stderr",
     "output_type": "stream",
     "text": [
      "/usr/local/lib/python3.9/site-packages/optuna/progress_bar.py:56: ExperimentalWarning: Progress bar is experimental (supported from v1.2.0). The interface can change in the future.\n",
      "  self._init_valid()\n"
     ]
    },
    {
     "data": {
      "text/plain": "  0%|          | 0/200 [00:00<?, ?it/s]",
      "application/vnd.jupyter.widget-view+json": {
       "version_major": 2,
       "version_minor": 0,
       "model_id": "b85e6c94ae13416fba251c3e1a2f73cc"
      }
     },
     "metadata": {},
     "output_type": "display_data"
    },
    {
     "name": "stdout",
     "output_type": "stream",
     "text": [
      "Optimizing:  chase-mclaughlin\n"
     ]
    },
    {
     "name": "stderr",
     "output_type": "stream",
     "text": [
      "/usr/local/lib/python3.9/site-packages/optuna/progress_bar.py:56: ExperimentalWarning: Progress bar is experimental (supported from v1.2.0). The interface can change in the future.\n",
      "  self._init_valid()\n"
     ]
    },
    {
     "data": {
      "text/plain": "  0%|          | 0/200 [00:00<?, ?it/s]",
      "application/vnd.jupyter.widget-view+json": {
       "version_major": 2,
       "version_minor": 0,
       "model_id": "cc9d932970f442d681d4244aea460403"
      }
     },
     "metadata": {},
     "output_type": "display_data"
    },
    {
     "name": "stdout",
     "output_type": "stream",
     "text": [
      "Optimizing:  brandon-mcmanus\n"
     ]
    },
    {
     "name": "stderr",
     "output_type": "stream",
     "text": [
      "/usr/local/lib/python3.9/site-packages/optuna/progress_bar.py:56: ExperimentalWarning: Progress bar is experimental (supported from v1.2.0). The interface can change in the future.\n",
      "  self._init_valid()\n"
     ]
    },
    {
     "data": {
      "text/plain": "  0%|          | 0/200 [00:00<?, ?it/s]",
      "application/vnd.jupyter.widget-view+json": {
       "version_major": 2,
       "version_minor": 0,
       "model_id": "0a4336905ce94a2cbf7cb8fa9579f021"
      }
     },
     "metadata": {},
     "output_type": "display_data"
    },
    {
     "name": "stdout",
     "output_type": "stream",
     "text": [
      "Optimizing:  jason-sanders\n"
     ]
    },
    {
     "name": "stderr",
     "output_type": "stream",
     "text": [
      "/usr/local/lib/python3.9/site-packages/optuna/progress_bar.py:56: ExperimentalWarning: Progress bar is experimental (supported from v1.2.0). The interface can change in the future.\n",
      "  self._init_valid()\n"
     ]
    },
    {
     "data": {
      "text/plain": "  0%|          | 0/200 [00:00<?, ?it/s]",
      "application/vnd.jupyter.widget-view+json": {
       "version_major": 2,
       "version_minor": 0,
       "model_id": "f70bd08650c54235aa164caaf95be4bd"
      }
     },
     "metadata": {},
     "output_type": "display_data"
    },
    {
     "name": "stdout",
     "output_type": "stream",
     "text": [
      "Optimizing:  ryan-succop\n"
     ]
    },
    {
     "name": "stderr",
     "output_type": "stream",
     "text": [
      "/usr/local/lib/python3.9/site-packages/optuna/progress_bar.py:56: ExperimentalWarning: Progress bar is experimental (supported from v1.2.0). The interface can change in the future.\n",
      "  self._init_valid()\n"
     ]
    },
    {
     "data": {
      "text/plain": "  0%|          | 0/200 [00:00<?, ?it/s]",
      "application/vnd.jupyter.widget-view+json": {
       "version_major": 2,
       "version_minor": 0,
       "model_id": "e31e0fee5e3a4ddaa827844f333eb0a1"
      }
     },
     "metadata": {},
     "output_type": "display_data"
    },
    {
     "name": "stdout",
     "output_type": "stream",
     "text": [
      "Optimizing:  matt-gay\n"
     ]
    },
    {
     "name": "stderr",
     "output_type": "stream",
     "text": [
      "/usr/local/lib/python3.9/site-packages/optuna/progress_bar.py:56: ExperimentalWarning: Progress bar is experimental (supported from v1.2.0). The interface can change in the future.\n",
      "  self._init_valid()\n"
     ]
    },
    {
     "data": {
      "text/plain": "  0%|          | 0/200 [00:00<?, ?it/s]",
      "application/vnd.jupyter.widget-view+json": {
       "version_major": 2,
       "version_minor": 0,
       "model_id": "e4dba5e54a9048c5bb81046ec249702d"
      }
     },
     "metadata": {},
     "output_type": "display_data"
    },
    {
     "name": "stdout",
     "output_type": "stream",
     "text": [
      "Optimizing:  greg-joseph\n"
     ]
    },
    {
     "name": "stderr",
     "output_type": "stream",
     "text": [
      "/usr/local/lib/python3.9/site-packages/optuna/progress_bar.py:56: ExperimentalWarning: Progress bar is experimental (supported from v1.2.0). The interface can change in the future.\n",
      "  self._init_valid()\n"
     ]
    },
    {
     "data": {
      "text/plain": "  0%|          | 0/200 [00:00<?, ?it/s]",
      "application/vnd.jupyter.widget-view+json": {
       "version_major": 2,
       "version_minor": 0,
       "model_id": "941851d60fed43d5ab6ad2648cd53738"
      }
     },
     "metadata": {},
     "output_type": "display_data"
    },
    {
     "name": "stdout",
     "output_type": "stream",
     "text": [
      "Optimizing:  evan-mcpherson\n",
      "Optimizing:  ka-imi-fairbairn\n"
     ]
    },
    {
     "name": "stderr",
     "output_type": "stream",
     "text": [
      "/usr/local/lib/python3.9/site-packages/optuna/progress_bar.py:56: ExperimentalWarning: Progress bar is experimental (supported from v1.2.0). The interface can change in the future.\n",
      "  self._init_valid()\n"
     ]
    },
    {
     "data": {
      "text/plain": "  0%|          | 0/200 [00:00<?, ?it/s]",
      "application/vnd.jupyter.widget-view+json": {
       "version_major": 2,
       "version_minor": 0,
       "model_id": "69ef92df9f1a487aa1b6a086ad0e36e0"
      }
     },
     "metadata": {},
     "output_type": "display_data"
    },
    {
     "name": "stdout",
     "output_type": "stream",
     "text": [
      "Optimizing:  jake-elliott\n"
     ]
    },
    {
     "name": "stderr",
     "output_type": "stream",
     "text": [
      "/usr/local/lib/python3.9/site-packages/optuna/progress_bar.py:56: ExperimentalWarning: Progress bar is experimental (supported from v1.2.0). The interface can change in the future.\n",
      "  self._init_valid()\n"
     ]
    },
    {
     "data": {
      "text/plain": "  0%|          | 0/200 [00:00<?, ?it/s]",
      "application/vnd.jupyter.widget-view+json": {
       "version_major": 2,
       "version_minor": 0,
       "model_id": "65cc9c60ead4438eb7f509b67f5a56bd"
      }
     },
     "metadata": {},
     "output_type": "display_data"
    },
    {
     "name": "stdout",
     "output_type": "stream",
     "text": [
      "Optimizing:  cade-york\n",
      "Optimizing:  mason-crosby\n"
     ]
    },
    {
     "name": "stderr",
     "output_type": "stream",
     "text": [
      "/usr/local/lib/python3.9/site-packages/optuna/progress_bar.py:56: ExperimentalWarning: Progress bar is experimental (supported from v1.2.0). The interface can change in the future.\n",
      "  self._init_valid()\n"
     ]
    },
    {
     "data": {
      "text/plain": "  0%|          | 0/200 [00:00<?, ?it/s]",
      "application/vnd.jupyter.widget-view+json": {
       "version_major": 2,
       "version_minor": 0,
       "model_id": "cabc4cbd7f5d41579efc29414d7f3466"
      }
     },
     "metadata": {},
     "output_type": "display_data"
    },
    {
     "name": "stdout",
     "output_type": "stream",
     "text": [
      "Optimizing:  mike-badgley\n"
     ]
    },
    {
     "name": "stderr",
     "output_type": "stream",
     "text": [
      "/usr/local/lib/python3.9/site-packages/optuna/progress_bar.py:56: ExperimentalWarning: Progress bar is experimental (supported from v1.2.0). The interface can change in the future.\n",
      "  self._init_valid()\n"
     ]
    },
    {
     "data": {
      "text/plain": "  0%|          | 0/200 [00:00<?, ?it/s]",
      "application/vnd.jupyter.widget-view+json": {
       "version_major": 2,
       "version_minor": 0,
       "model_id": "47482d2ec39f41a8949174b153eec252"
      }
     },
     "metadata": {},
     "output_type": "display_data"
    },
    {
     "name": "stdout",
     "output_type": "stream",
     "text": [
      "Optimizing:  joey-slye\n"
     ]
    },
    {
     "name": "stderr",
     "output_type": "stream",
     "text": [
      "/usr/local/lib/python3.9/site-packages/optuna/progress_bar.py:56: ExperimentalWarning: Progress bar is experimental (supported from v1.2.0). The interface can change in the future.\n",
      "  self._init_valid()\n"
     ]
    },
    {
     "data": {
      "text/plain": "  0%|          | 0/200 [00:00<?, ?it/s]",
      "application/vnd.jupyter.widget-view+json": {
       "version_major": 2,
       "version_minor": 0,
       "model_id": "9958c02396c9498fac4955f6caa59285"
      }
     },
     "metadata": {},
     "output_type": "display_data"
    },
    {
     "name": "stdout",
     "output_type": "stream",
     "text": [
      "Optimizing:  wil-lutz\n"
     ]
    },
    {
     "name": "stderr",
     "output_type": "stream",
     "text": [
      "/usr/local/lib/python3.9/site-packages/optuna/progress_bar.py:56: ExperimentalWarning: Progress bar is experimental (supported from v1.2.0). The interface can change in the future.\n",
      "  self._init_valid()\n"
     ]
    },
    {
     "data": {
      "text/plain": "  0%|          | 0/200 [00:00<?, ?it/s]",
      "application/vnd.jupyter.widget-view+json": {
       "version_major": 2,
       "version_minor": 0,
       "model_id": "fc3c6fe2c5e945c589f5938c45cb05f4"
      }
     },
     "metadata": {},
     "output_type": "display_data"
    },
    {
     "name": "stdout",
     "output_type": "stream",
     "text": [
      "Optimizing:  cairo-santos\n"
     ]
    },
    {
     "name": "stderr",
     "output_type": "stream",
     "text": [
      "/usr/local/lib/python3.9/site-packages/optuna/progress_bar.py:56: ExperimentalWarning: Progress bar is experimental (supported from v1.2.0). The interface can change in the future.\n",
      "  self._init_valid()\n"
     ]
    },
    {
     "data": {
      "text/plain": "  0%|          | 0/200 [00:00<?, ?it/s]",
      "application/vnd.jupyter.widget-view+json": {
       "version_major": 2,
       "version_minor": 0,
       "model_id": "69c66e3298734bf584c8aff8538dc23a"
      }
     },
     "metadata": {},
     "output_type": "display_data"
    },
    {
     "name": "stdout",
     "output_type": "stream",
     "text": [
      "Optimizing:  harrison-butker\n"
     ]
    },
    {
     "name": "stderr",
     "output_type": "stream",
     "text": [
      "/usr/local/lib/python3.9/site-packages/optuna/progress_bar.py:56: ExperimentalWarning: Progress bar is experimental (supported from v1.2.0). The interface can change in the future.\n",
      "  self._init_valid()\n"
     ]
    },
    {
     "data": {
      "text/plain": "  0%|          | 0/200 [00:00<?, ?it/s]",
      "application/vnd.jupyter.widget-view+json": {
       "version_major": 2,
       "version_minor": 0,
       "model_id": "90929be906fc4afaa03bb94d35597494"
      }
     },
     "metadata": {},
     "output_type": "display_data"
    },
    {
     "name": "stdout",
     "output_type": "stream",
     "text": [
      "Optimizing:  chris-boswell\n"
     ]
    },
    {
     "name": "stderr",
     "output_type": "stream",
     "text": [
      "/usr/local/lib/python3.9/site-packages/optuna/progress_bar.py:56: ExperimentalWarning: Progress bar is experimental (supported from v1.2.0). The interface can change in the future.\n",
      "  self._init_valid()\n"
     ]
    },
    {
     "data": {
      "text/plain": "  0%|          | 0/200 [00:00<?, ?it/s]",
      "application/vnd.jupyter.widget-view+json": {
       "version_major": 2,
       "version_minor": 0,
       "model_id": "0068158a1ee941e48f4f78891df5bad2"
      }
     },
     "metadata": {},
     "output_type": "display_data"
    },
    {
     "name": "stdout",
     "output_type": "stream",
     "text": [
      "Optimizing:  cameron-dicker\n",
      "Optimizing:  randy-bullock\n"
     ]
    },
    {
     "name": "stderr",
     "output_type": "stream",
     "text": [
      "/usr/local/lib/python3.9/site-packages/optuna/progress_bar.py:56: ExperimentalWarning: Progress bar is experimental (supported from v1.2.0). The interface can change in the future.\n",
      "  self._init_valid()\n"
     ]
    },
    {
     "data": {
      "text/plain": "  0%|          | 0/200 [00:00<?, ?it/s]",
      "application/vnd.jupyter.widget-view+json": {
       "version_major": 2,
       "version_minor": 0,
       "model_id": "25574e85cf814edaaeee1f157f67c8e8"
      }
     },
     "metadata": {},
     "output_type": "display_data"
    },
    {
     "name": "stdout",
     "output_type": "stream",
     "text": [
      "Optimizing:  matthew-wright\n"
     ]
    },
    {
     "name": "stderr",
     "output_type": "stream",
     "text": [
      "/usr/local/lib/python3.9/site-packages/optuna/progress_bar.py:56: ExperimentalWarning: Progress bar is experimental (supported from v1.2.0). The interface can change in the future.\n",
      "  self._init_valid()\n"
     ]
    },
    {
     "data": {
      "text/plain": "  0%|          | 0/200 [00:00<?, ?it/s]",
      "application/vnd.jupyter.widget-view+json": {
       "version_major": 2,
       "version_minor": 0,
       "model_id": "98976269348046ef9e00e9203d36a46c"
      }
     },
     "metadata": {},
     "output_type": "display_data"
    },
    {
     "name": "stdout",
     "output_type": "stream",
     "text": [
      "Optimizing:  dustin-hopkins\n"
     ]
    },
    {
     "name": "stderr",
     "output_type": "stream",
     "text": [
      "/usr/local/lib/python3.9/site-packages/optuna/progress_bar.py:56: ExperimentalWarning: Progress bar is experimental (supported from v1.2.0). The interface can change in the future.\n",
      "  self._init_valid()\n"
     ]
    },
    {
     "data": {
      "text/plain": "  0%|          | 0/200 [00:00<?, ?it/s]",
      "application/vnd.jupyter.widget-view+json": {
       "version_major": 2,
       "version_minor": 0,
       "model_id": "86723112e1f44a23a4741d8b5a1fd913"
      }
     },
     "metadata": {},
     "output_type": "display_data"
    },
    {
     "name": "stdout",
     "output_type": "stream",
     "text": [
      "Optimizing:  austin-seibert\n"
     ]
    },
    {
     "name": "stderr",
     "output_type": "stream",
     "text": [
      "/usr/local/lib/python3.9/site-packages/optuna/progress_bar.py:56: ExperimentalWarning: Progress bar is experimental (supported from v1.2.0). The interface can change in the future.\n",
      "  self._init_valid()\n"
     ]
    },
    {
     "data": {
      "text/plain": "  0%|          | 0/200 [00:00<?, ?it/s]",
      "application/vnd.jupyter.widget-view+json": {
       "version_major": 2,
       "version_minor": 0,
       "model_id": "5bef2f387e6f4a22a2d6262f9768224b"
      }
     },
     "metadata": {},
     "output_type": "display_data"
    },
    {
     "name": "stdout",
     "output_type": "stream",
     "text": [
      "Optimizing:  matt-ammendola\n"
     ]
    },
    {
     "name": "stderr",
     "output_type": "stream",
     "text": [
      "/usr/local/lib/python3.9/site-packages/optuna/progress_bar.py:56: ExperimentalWarning: Progress bar is experimental (supported from v1.2.0). The interface can change in the future.\n",
      "  self._init_valid()\n"
     ]
    },
    {
     "data": {
      "text/plain": "  0%|          | 0/200 [00:00<?, ?it/s]",
      "application/vnd.jupyter.widget-view+json": {
       "version_major": 2,
       "version_minor": 0,
       "model_id": "5aec3417893b49428acff9642f44fc38"
      }
     },
     "metadata": {},
     "output_type": "display_data"
    },
    {
     "name": "stdout",
     "output_type": "stream",
     "text": [
      "Optimizing:  rodrigo-blankenship\n"
     ]
    },
    {
     "name": "stderr",
     "output_type": "stream",
     "text": [
      "/usr/local/lib/python3.9/site-packages/optuna/progress_bar.py:56: ExperimentalWarning: Progress bar is experimental (supported from v1.2.0). The interface can change in the future.\n",
      "  self._init_valid()\n"
     ]
    },
    {
     "data": {
      "text/plain": "  0%|          | 0/200 [00:00<?, ?it/s]",
      "application/vnd.jupyter.widget-view+json": {
       "version_major": 2,
       "version_minor": 0,
       "model_id": "8a15542db84a4f53aadcf469985b4166"
      }
     },
     "metadata": {},
     "output_type": "display_data"
    },
    {
     "name": "stdout",
     "output_type": "stream",
     "text": [
      "Optimizing:  taylor-bertolet\n",
      "Optimizing:  caleb-shudak\n",
      "Optimizing:  nick-sciba\n",
      "Optimizing:  dominik-eberle\n",
      "Optimizing:  josh-lambo\n"
     ]
    },
    {
     "name": "stderr",
     "output_type": "stream",
     "text": [
      "/usr/local/lib/python3.9/site-packages/optuna/progress_bar.py:56: ExperimentalWarning: Progress bar is experimental (supported from v1.2.0). The interface can change in the future.\n",
      "  self._init_valid()\n"
     ]
    },
    {
     "data": {
      "text/plain": "  0%|          | 0/200 [00:00<?, ?it/s]",
      "application/vnd.jupyter.widget-view+json": {
       "version_major": 2,
       "version_minor": 0,
       "model_id": "fcfc0889fbff4eccb6bf6b25e659f540"
      }
     },
     "metadata": {},
     "output_type": "display_data"
    }
   ],
   "source": [
    "best_sets = []\n",
    "\n",
    "with open('ks.csv', mode ='r') as file:\n",
    "    f = csv.reader(file)\n",
    "\n",
    "    for row in f:\n",
    "        fantasy_points = []\n",
    "        player, pos = row[0], row[1]\n",
    "        print(\"Optimizing: \", player)\n",
    "        df = scrape(0, pos, player)  # get kicking\n",
    "\n",
    "        my_dict = {'0': [], '1': [], '2': [], '3': [], '4': [], '5': [], '6': [], '7': []}\n",
    "        final_df = pd.DataFrame(my_dict)\n",
    "\n",
    "        for i in range(df.shape[0] - 1):\n",
    "            points = 0\n",
    "            contents = []\n",
    "\n",
    "            # calculate points gained and penalty for 0-39 yd FGs\n",
    "            data = df.at[i, '30-39']\n",
    "            data = data.split('-')\n",
    "\n",
    "            temp1 = int(data[0])\n",
    "            other = int(data[1])\n",
    "            penalty = other - temp1\n",
    "\n",
    "            data = df.at[i, '20-29']\n",
    "            data = data.split('-')\n",
    "            temp2 = int(data[0])\n",
    "            other = int(data[1])\n",
    "            penalty += other - temp2\n",
    "\n",
    "            data = df.at[i, '1-19']\n",
    "            data = data.split('-')\n",
    "            temp3 = int(data[0])\n",
    "            other = int(data[1])\n",
    "            penalty += other - temp3\n",
    "\n",
    "            points += (temp1 + temp2) * 5\n",
    "            points -= penalty * 2\n",
    "\n",
    "            contents.append(temp1 + temp2)\n",
    "            contents.append(penalty)\n",
    "\n",
    "            # calculate points gained and penalty for 40-49 yard FGs\n",
    "            data = df.at[i, '40-49']\n",
    "            data = data.split('-')\n",
    "            temp1 = int(data[0])\n",
    "            other = int(data[1])\n",
    "            penalty = other - temp1\n",
    "\n",
    "            points += temp1 * 4\n",
    "            points -= penalty\n",
    "\n",
    "            contents.append(temp1)\n",
    "            contents.append(penalty)\n",
    "\n",
    "            # calculate points gained for 50+ yard FGs\n",
    "            data = df.at[i, '60+']\n",
    "            data = data.split('-')\n",
    "            temp1 = int(data[0])\n",
    "\n",
    "            data = df.at[i, '50-59']\n",
    "            data = data.split('-')\n",
    "            temp2 = int(data[0])\n",
    "\n",
    "            points += (temp1 + temp2) * 5\n",
    "\n",
    "            # formulate the data so xgboost can interpret it\n",
    "            contents.append(temp1 + temp2)\n",
    "            contents.append(df.at[i, 'FGM'])\n",
    "            contents.append(df.at[i, 'FG ATT'])\n",
    "            contents.append(df.at[i, 'PCT'])\n",
    "            temp = pd.DataFrame(my_dict)\n",
    "            temp.loc[len(df.index)] = contents\n",
    "            final_df = pd.concat([final_df, temp], axis=0)\n",
    "\n",
    "            fantasy_points.append(points)\n",
    "\n",
    "        fantasy_points.append(sum(fantasy_points))  # this line calculates the total sum of all fantasy points on table\n",
    "        df['Fantasy Points'] = fantasy_points\n",
    "\n",
    "        df.drop('YEAR', axis=1, inplace=True)\n",
    "        df.drop('TEAM', axis=1, inplace=True)\n",
    "        df.drop('G', axis=1, inplace=True)\n",
    "\n",
    "        df.drop(df.shape[0] - 1, axis=0, inplace=True)\n",
    "\n",
    "        df = df[::-1]\n",
    "\n",
    "        temp = pd.DataFrame()\n",
    "        temp['0-39-good'] = final_df['0']\n",
    "        temp['0-39-miss'] = final_df['1']\n",
    "        temp['40-49-good'] = final_df['2']\n",
    "        temp['40-49-miss'] = final_df['3']\n",
    "        temp['50+good'] = final_df['4']\n",
    "        temp['FGM'] = final_df['5']\n",
    "        temp['FG ATT'] = final_df['6']\n",
    "        temp['PCT'] = final_df['7']\n",
    "        temp['Fantasy Points'] = df['Fantasy Points']\n",
    "        target = df['Fantasy Points'].tolist()\n",
    "        target.pop(0)\n",
    "        target.append(0)\n",
    "        temp['Target'] = target\n",
    "        df = temp\n",
    "        df = df[::-1]  # reverse the rows\n",
    "\n",
    "        df = df.fillna(0)\n",
    "        df = df.iloc[1:]\n",
    "\n",
    "        #print(df.shape[0])\n",
    "\n",
    "        if df.shape[0] > 1:\n",
    "            data, label = df.iloc[:, :-1], df.iloc[:, -1]\n",
    "            xgb.DMatrix(data=data, label=label, enable_categorical=True)\n",
    "\n",
    "            data_train, data_test = data.iloc[1:], data.iloc[:1]  # most recent season\n",
    "            label_train, label_test = label.iloc[1:], label.iloc[:1]\n",
    "\n",
    "            scaler = StandardScaler()\n",
    "            #print(data_train)\n",
    "            data_train = scaler.fit_transform(data_train)\n",
    "            data_test = scaler.transform(data_test)\n",
    "\n",
    "            model = xgb.XGBRegressor()\n",
    "            model.fit(data_train, label_train)\n",
    "            preds = model.predict(data_test)\n",
    "\n",
    "            # optimize parameters\n",
    "            num_trials = 200\n",
    "\n",
    "            start = time.time()\n",
    "            optuna.logging.set_verbosity(optuna.logging.WARNING)\n",
    "            study = optuna.create_study(direction='minimize', study_name='regression') # when first run\n",
    "            #study = joblib.load('qb.pkl')\n",
    "            study.optimize(objective, n_trials=num_trials, show_progress_bar=True, n_jobs=-1)\n",
    "\n",
    "            #joblib.dump(study, \"test.pkl\")  # save study\n",
    "\n",
    "            # result = study.best_params\n",
    "            result = study.best_trial.params\n",
    "            #print(\"Time: \", time.time() - start)\n",
    "            #print(result)\n",
    "            best_sets.append(result)"
   ],
   "metadata": {
    "collapsed": false
   }
  },
  {
   "cell_type": "code",
   "execution_count": 7,
   "outputs": [
    {
     "data": {
      "text/plain": "[{'max_depth': 6,\n  'learning_rate': 0.25992024721458007,\n  'n_estimators': 528,\n  'min_child_weight': 2,\n  'gamma': 0.9089477847041423,\n  'subsample': 0.6878367822329426,\n  'colsample_bytree': 0.03528554889841008,\n  'reg_alpha': 0.8555519315237761,\n  'reg_lambda': 0.8160520324365781,\n  'random_state': 47},\n {'max_depth': 3,\n  'learning_rate': 0.2457440549761218,\n  'n_estimators': 747,\n  'min_child_weight': 1,\n  'gamma': 0.4781539669414922,\n  'subsample': 0.9223137009622872,\n  'colsample_bytree': 0.09180771862590394,\n  'reg_alpha': 0.411798148001434,\n  'reg_lambda': 0.8250177870660836,\n  'random_state': 425},\n {'max_depth': 2,\n  'learning_rate': 0.2633840104968418,\n  'n_estimators': 672,\n  'min_child_weight': 1,\n  'gamma': 0.6530699576775191,\n  'subsample': 0.7807009870865689,\n  'colsample_bytree': 0.17083220570848856,\n  'reg_alpha': 0.010433507864942328,\n  'reg_lambda': 0.8822315451899957,\n  'random_state': 659},\n {'max_depth': 5,\n  'learning_rate': 0.1879799168627806,\n  'n_estimators': 482,\n  'min_child_weight': 2,\n  'gamma': 0.9750352530786223,\n  'subsample': 0.4923802017102715,\n  'colsample_bytree': 0.6199863364564332,\n  'reg_alpha': 0.47035156634875264,\n  'reg_lambda': 0.49818846166180586,\n  'random_state': 521},\n {'max_depth': 6,\n  'learning_rate': 0.2630306666808522,\n  'n_estimators': 606,\n  'min_child_weight': 1,\n  'gamma': 0.2762484282474545,\n  'subsample': 0.6558082978641847,\n  'colsample_bytree': 0.14344481335513284,\n  'reg_alpha': 0.4014895707762458,\n  'reg_lambda': 0.22241910174252155,\n  'random_state': 486},\n {'max_depth': 10,\n  'learning_rate': 0.14234630567346818,\n  'n_estimators': 729,\n  'min_child_weight': 1,\n  'gamma': 0.1817457398530326,\n  'subsample': 0.175638539663392,\n  'colsample_bytree': 0.5030544540740534,\n  'reg_alpha': 0.24095251728971714,\n  'reg_lambda': 0.012731968082731688,\n  'random_state': 979},\n {'max_depth': 3,\n  'learning_rate': 0.260983690397589,\n  'n_estimators': 908,\n  'min_child_weight': 1,\n  'gamma': 0.17554656654208312,\n  'subsample': 0.12175898680311767,\n  'colsample_bytree': 0.24030569513740402,\n  'reg_alpha': 0.9991963523972002,\n  'reg_lambda': 0.8949280169985008,\n  'random_state': 861},\n {'max_depth': 1,\n  'learning_rate': 0.05396354912697421,\n  'n_estimators': 141,\n  'min_child_weight': 1,\n  'gamma': 0.25083259474994707,\n  'subsample': 0.47109937347206865,\n  'colsample_bytree': 0.7156946118190329,\n  'reg_alpha': 0.9780569490731363,\n  'reg_lambda': 0.6619846476489083,\n  'random_state': 947},\n {'max_depth': 5,\n  'learning_rate': 0.11079154517534988,\n  'n_estimators': 872,\n  'min_child_weight': 1,\n  'gamma': 0.45783342832288687,\n  'subsample': 0.5668255824514598,\n  'colsample_bytree': 0.06178382371997085,\n  'reg_alpha': 0.05441748388371415,\n  'reg_lambda': 0.9718300656040929,\n  'random_state': 165},\n {'max_depth': 9,\n  'learning_rate': 0.13355773000982074,\n  'n_estimators': 229,\n  'min_child_weight': 7,\n  'gamma': 0.13344075171824257,\n  'subsample': 0.7642540432820525,\n  'colsample_bytree': 0.7750302678569096,\n  'reg_alpha': 0.6759293179959188,\n  'reg_lambda': 0.20205058556658703,\n  'random_state': 718},\n {'max_depth': 1,\n  'learning_rate': 0.1705867153189535,\n  'n_estimators': 790,\n  'min_child_weight': 3,\n  'gamma': 0.1249745632573849,\n  'subsample': 0.8158443593515728,\n  'colsample_bytree': 0.9110881000861428,\n  'reg_alpha': 0.5574518937764741,\n  'reg_lambda': 0.3180228423339786,\n  'random_state': 761},\n {'max_depth': 8,\n  'learning_rate': 0.27425386828375137,\n  'n_estimators': 197,\n  'min_child_weight': 1,\n  'gamma': 0.24373242491072353,\n  'subsample': 0.6592481974521407,\n  'colsample_bytree': 0.23911909695528036,\n  'reg_alpha': 0.8583260093055872,\n  'reg_lambda': 0.6372423065763692,\n  'random_state': 175},\n {'max_depth': 6,\n  'learning_rate': 0.24101101831466204,\n  'n_estimators': 735,\n  'min_child_weight': 1,\n  'gamma': 0.575187757157252,\n  'subsample': 0.6097254994078571,\n  'colsample_bytree': 0.3714635773663864,\n  'reg_alpha': 0.08385037116940684,\n  'reg_lambda': 0.9068302851023087,\n  'random_state': 388},\n {'max_depth': 2,\n  'learning_rate': 0.2536595917981273,\n  'n_estimators': 829,\n  'min_child_weight': 1,\n  'gamma': 0.18259640937771576,\n  'subsample': 0.7795175673045316,\n  'colsample_bytree': 0.6705788138898644,\n  'reg_alpha': 0.2515236243135818,\n  'reg_lambda': 0.6858089629105122,\n  'random_state': 708},\n {'max_depth': 8,\n  'learning_rate': 0.27406833246552836,\n  'n_estimators': 515,\n  'min_child_weight': 5,\n  'gamma': 0.22274749522781706,\n  'subsample': 0.5399514232415635,\n  'colsample_bytree': 0.21496302029699066,\n  'reg_alpha': 0.5687555585192066,\n  'reg_lambda': 0.49771500590758166,\n  'random_state': 536},\n {'max_depth': 9,\n  'learning_rate': 0.2028582240858407,\n  'n_estimators': 723,\n  'min_child_weight': 1,\n  'gamma': 0.9398286491464027,\n  'subsample': 0.5266583748279117,\n  'colsample_bytree': 0.25423214877433303,\n  'reg_alpha': 0.38862197422685796,\n  'reg_lambda': 0.12672177734838805,\n  'random_state': 693},\n {'max_depth': 2,\n  'learning_rate': 0.16723569908213215,\n  'n_estimators': 847,\n  'min_child_weight': 2,\n  'gamma': 0.04713119933211621,\n  'subsample': 0.27785070472162837,\n  'colsample_bytree': 0.05468491715802974,\n  'reg_alpha': 0.010691885067453909,\n  'reg_lambda': 0.1660526153057394,\n  'random_state': 89},\n {'max_depth': 4,\n  'learning_rate': 0.021047986842991882,\n  'n_estimators': 803,\n  'min_child_weight': 1,\n  'gamma': 0.11495889213374809,\n  'subsample': 0.26083034998150967,\n  'colsample_bytree': 0.903447598348804,\n  'reg_alpha': 0.25539327120146554,\n  'reg_lambda': 0.527381384996239,\n  'random_state': 618},\n {'max_depth': 3,\n  'learning_rate': 0.10919207277078682,\n  'n_estimators': 300,\n  'min_child_weight': 1,\n  'gamma': 0.8019321127027177,\n  'subsample': 0.21652359586547543,\n  'colsample_bytree': 0.7872855338776158,\n  'reg_alpha': 0.5898933749483484,\n  'reg_lambda': 0.14793429113246553,\n  'random_state': 678},\n {'max_depth': 10,\n  'learning_rate': 0.15791172885423946,\n  'n_estimators': 57,\n  'min_child_weight': 5,\n  'gamma': 0.7777050444000192,\n  'subsample': 0.7562528628832723,\n  'colsample_bytree': 0.298031824168002,\n  'reg_alpha': 0.4727094879113449,\n  'reg_lambda': 0.5921254121775492,\n  'random_state': 237},\n {'max_depth': 5,\n  'learning_rate': 0.24726663527103843,\n  'n_estimators': 458,\n  'min_child_weight': 1,\n  'gamma': 0.3449860687520834,\n  'subsample': 0.21816023828171852,\n  'colsample_bytree': 0.8622363786238071,\n  'reg_alpha': 0.3330647657999138,\n  'reg_lambda': 0.41799314762035206,\n  'random_state': 188},\n {'max_depth': 2,\n  'learning_rate': 0.12952682253141215,\n  'n_estimators': 335,\n  'min_child_weight': 1,\n  'gamma': 0.7249957791500449,\n  'subsample': 0.9215353200541339,\n  'colsample_bytree': 0.29218883589119937,\n  'reg_alpha': 0.9251234928436867,\n  'reg_lambda': 0.2931929727837774,\n  'random_state': 341},\n {'max_depth': 9,\n  'learning_rate': 0.1164863525689223,\n  'n_estimators': 462,\n  'min_child_weight': 4,\n  'gamma': 0.16949708404742095,\n  'subsample': 0.4488755876559817,\n  'colsample_bytree': 0.0755867865430919,\n  'reg_alpha': 0.05673719827296796,\n  'reg_lambda': 0.9422768136102164,\n  'random_state': 578},\n {'max_depth': 7,\n  'learning_rate': 0.24832847358777424,\n  'n_estimators': 740,\n  'min_child_weight': 5,\n  'gamma': 0.09715747834070049,\n  'subsample': 0.28849549620847625,\n  'colsample_bytree': 0.6855277424783677,\n  'reg_alpha': 0.4539601019394479,\n  'reg_lambda': 0.8541961957566545,\n  'random_state': 531},\n {'max_depth': 9,\n  'learning_rate': 0.26577901061179526,\n  'n_estimators': 306,\n  'min_child_weight': 2,\n  'gamma': 0.14419774907056143,\n  'subsample': 0.7302393125868808,\n  'colsample_bytree': 0.7688490907246248,\n  'reg_alpha': 0.9491321122042112,\n  'reg_lambda': 0.9380887273111743,\n  'random_state': 480},\n {'max_depth': 6,\n  'learning_rate': 0.1518532624192377,\n  'n_estimators': 611,\n  'min_child_weight': 1,\n  'gamma': 0.9477871704835863,\n  'subsample': 0.6023538928214679,\n  'colsample_bytree': 0.018966714591434536,\n  'reg_alpha': 0.06144252091820555,\n  'reg_lambda': 0.08907099026392867,\n  'random_state': 285},\n {'max_depth': 3,\n  'learning_rate': 0.12424755980169994,\n  'n_estimators': 908,\n  'min_child_weight': 6,\n  'gamma': 0.22682436150655302,\n  'subsample': 0.5855141909278123,\n  'colsample_bytree': 0.0814296577165918,\n  'reg_alpha': 0.2795440439981911,\n  'reg_lambda': 0.27069243560894785,\n  'random_state': 10},\n {'max_depth': 3,\n  'learning_rate': 0.03166591769087898,\n  'n_estimators': 184,\n  'min_child_weight': 1,\n  'gamma': 0.2089649493008402,\n  'subsample': 0.04155672336026408,\n  'colsample_bytree': 0.4063488867315605,\n  'reg_alpha': 0.16357254904851617,\n  'reg_lambda': 0.5676894448443305,\n  'random_state': 778},\n {'max_depth': 6,\n  'learning_rate': 0.27705117181436373,\n  'n_estimators': 73,\n  'min_child_weight': 2,\n  'gamma': 0.11768392571768681,\n  'subsample': 0.015028601256209528,\n  'colsample_bytree': 0.26544463609397795,\n  'reg_alpha': 0.3222468525985309,\n  'reg_lambda': 0.3098776246664319,\n  'random_state': 513},\n {'max_depth': 6,\n  'learning_rate': 0.05170974714575924,\n  'n_estimators': 81,\n  'min_child_weight': 1,\n  'gamma': 0.3311211943648726,\n  'subsample': 0.7594722034257977,\n  'colsample_bytree': 0.3161192547608887,\n  'reg_alpha': 0.800791670450117,\n  'reg_lambda': 0.08162163998001415,\n  'random_state': 744},\n {'max_depth': 1,\n  'learning_rate': 0.06116198599152567,\n  'n_estimators': 734,\n  'min_child_weight': 1,\n  'gamma': 0.5663797186996244,\n  'subsample': 0.8331326503861614,\n  'colsample_bytree': 0.2034976802006276,\n  'reg_alpha': 0.3055848892032016,\n  'reg_lambda': 0.1874327808533028,\n  'random_state': 489},\n {'max_depth': 8,\n  'learning_rate': 0.016361079142476663,\n  'n_estimators': 473,\n  'min_child_weight': 2,\n  'gamma': 0.05595968255509192,\n  'subsample': 0.30065013681595976,\n  'colsample_bytree': 0.603753014618229,\n  'reg_alpha': 0.6552163196716516,\n  'reg_lambda': 0.7855533171515799,\n  'random_state': 954},\n {'max_depth': 1,\n  'learning_rate': 0.06099333005436983,\n  'n_estimators': 96,\n  'min_child_weight': 9,\n  'gamma': 0.0964283938847861,\n  'subsample': 0.7230793466509498,\n  'colsample_bytree': 0.11202126435693786,\n  'reg_alpha': 0.31384111953648713,\n  'reg_lambda': 0.6688271113070912,\n  'random_state': 285}]"
     },
     "execution_count": 7,
     "metadata": {},
     "output_type": "execute_result"
    }
   ],
   "source": [
    "best_sets"
   ],
   "metadata": {
    "collapsed": false
   }
  },
  {
   "cell_type": "code",
   "execution_count": 8,
   "outputs": [
    {
     "data": {
      "text/plain": "{'max_depth': 5,\n 'learning_rate': 0.16896843342614076,\n 'n_estimators': 520,\n 'min_child_weight': 2,\n 'gamma': 0.3804131083440961,\n 'subsample': 0.5317913069999278,\n 'colsample_bytree': 0.3864875772698342,\n 'reg_alpha': 0.4471409827902937,\n 'reg_lambda': 0.515144918107477,\n 'random_state': 511}"
     },
     "execution_count": 8,
     "metadata": {},
     "output_type": "execute_result"
    }
   ],
   "source": [
    "max_depth_agg = []\n",
    "lr_agg = []\n",
    "n_est_agg = []\n",
    "min_cw_agg = []\n",
    "gamma_agg = []\n",
    "subsam_agg = []\n",
    "col_bytree_agg = []\n",
    "alpha_agg = []\n",
    "lambda_agg = []\n",
    "random_agg = []\n",
    "\n",
    "for node in best_sets:\n",
    "    max_depth_agg.append(node['max_depth'])\n",
    "    lr_agg.append(node['learning_rate'])\n",
    "    n_est_agg.append(node['n_estimators'])\n",
    "    min_cw_agg.append(node['min_child_weight'])\n",
    "    gamma_agg.append(node['gamma'])\n",
    "    subsam_agg.append(node['subsample'])\n",
    "    col_bytree_agg.append(node['colsample_bytree'])\n",
    "    alpha_agg.append(node['reg_alpha'])\n",
    "    lambda_agg.append(node['reg_lambda'])\n",
    "    random_agg.append(node['random_state'])\n",
    "\n",
    "max_depth_agg = int(sum(max_depth_agg)/len(max_depth_agg))\n",
    "lr_agg = sum(lr_agg)/len(lr_agg)\n",
    "n_est_agg = int(sum(n_est_agg)/len(n_est_agg))\n",
    "min_cw_agg = int(sum(min_cw_agg)/len(min_cw_agg))\n",
    "gamma_agg = sum(gamma_agg)/len(gamma_agg)\n",
    "subsam_agg = sum(subsam_agg)/len(subsam_agg)\n",
    "col_bytree_agg = sum(col_bytree_agg)/len(col_bytree_agg)\n",
    "alpha_agg = sum(alpha_agg)/len(alpha_agg)\n",
    "lambda_agg = sum(lambda_agg)/len(lambda_agg)\n",
    "random_agg = int(sum(random_agg)/len(random_agg))\n",
    "\n",
    "best_set = {\n",
    "    'max_depth': max_depth_agg,\n",
    "    'learning_rate': lr_agg,\n",
    "    'n_estimators': n_est_agg,\n",
    "    'min_child_weight': min_cw_agg,\n",
    "    'gamma': gamma_agg,\n",
    "    'subsample': subsam_agg,\n",
    "    'colsample_bytree': col_bytree_agg,\n",
    "    'reg_alpha': alpha_agg,\n",
    "    'reg_lambda': lambda_agg,\n",
    "    'random_state': random_agg\n",
    "}\n",
    "\n",
    "best_set"
   ],
   "metadata": {
    "collapsed": false
   }
  }
 ],
 "metadata": {
  "kernelspec": {
   "display_name": "Python 3",
   "language": "python",
   "name": "python3"
  },
  "language_info": {
   "codemirror_mode": {
    "name": "ipython",
    "version": 2
   },
   "file_extension": ".py",
   "mimetype": "text/x-python",
   "name": "python",
   "nbconvert_exporter": "python",
   "pygments_lexer": "ipython2",
   "version": "2.7.6"
  }
 },
 "nbformat": 4,
 "nbformat_minor": 0
}
