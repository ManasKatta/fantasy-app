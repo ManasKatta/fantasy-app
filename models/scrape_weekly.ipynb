{
 "cells": [
  {
   "cell_type": "code",
   "execution_count": 76,
   "metadata": {
    "collapsed": true
   },
   "outputs": [],
   "source": [
    "import xgbmodule as xgb\n",
    "import csv\n",
    "import pandas as pd"
   ]
  },
  {
   "cell_type": "code",
   "execution_count": 77,
   "outputs": [],
   "source": [
    "flag = True\n",
    "data = []\n",
    "\n",
    "\n",
    "#url = 'https://www.fantasypros.com/nfl/stats/dst.php'\n",
    "#df = pd.read_html(url)\n",
    "#df = df[0]\n",
    "\n",
    "def hyphen_split(a):\n",
    "    if a.count(\"-\") == 1:\n",
    "        return a.split(\"-\")[0]\n",
    "    return \"-\".join(a.split(\"-\", 2)[:2])"
   ],
   "metadata": {
    "collapsed": false
   }
  },
  {
   "cell_type": "code",
   "execution_count": 78,
   "outputs": [
    {
     "data": {
      "text/plain": "'for i in range(df.shape[0]):\\n    row = df.iloc[i]\\n    name = row[1].replace(\\' \\', \\'-\\').lower()\\n    #name = hyphen_split(name)\\n    pos = \\'d\\'\\n\\n    newRow = [name, pos]\\n    data.append(newRow)\\n\\nwith open(\"ds.csv\", \"w\") as fp:\\n    writer = csv.writer(fp)\\n    writer.writerows(data)\\n\\nprint(\"Success\")'"
     },
     "execution_count": 78,
     "metadata": {},
     "output_type": "execute_result"
    }
   ],
   "source": [
    "'''for i in range(df.shape[0]):\n",
    "    row = df.iloc[i]\n",
    "    name = row[1].replace(' ', '-').lower()\n",
    "    #name = hyphen_split(name)\n",
    "    pos = 'd'\n",
    "\n",
    "    newRow = [name, pos]\n",
    "    data.append(newRow)\n",
    "\n",
    "with open(\"ds.csv\", \"w\") as fp:\n",
    "    writer = csv.writer(fp)\n",
    "    writer.writerows(data)\n",
    "\n",
    "print(\"Success\")'''"
   ],
   "metadata": {
    "collapsed": false
   }
  },
  {
   "cell_type": "code",
   "execution_count": 79,
   "outputs": [
    {
     "data": {
      "text/plain": "'data = []\\n\\nwith open(\"ds.csv\", \"r\") as fp:\\n    csvreader = csv.reader(fp, delimiter=\\',\\')\\n    for row in csvreader:\\n        name = row[0]\\n        pos = row[1]\\n        print(\"Accessing: \", name)\\n        if flag:\\n            fb = xgb.FantasyBoost(player_name=name, player_pos=pos)\\n            flag = False\\n        else:\\n            fb.change(player_name=name, player_pos=pos)\\n\\n        pred = fb.predict()\\n        if pos == \\'d\\':\\n            newRow = [name, pos, pred]\\n        else:\\n            newRow = [name, pos, pred[0]]\\n        data.append(newRow)\\n\\nwith open(\"d_preds.csv\", \"w\") as fp:\\n    writer = csv.writer(fp)\\n    writer.writerows(data)\\n\\nprint(\"Success\")'"
     },
     "execution_count": 79,
     "metadata": {},
     "output_type": "execute_result"
    }
   ],
   "source": [
    "'''data = []\n",
    "\n",
    "with open(\"ds.csv\", \"r\") as fp:\n",
    "    csvreader = csv.reader(fp, delimiter=',')\n",
    "    for row in csvreader:\n",
    "        name = row[0]\n",
    "        pos = row[1]\n",
    "        print(\"Accessing: \", name)\n",
    "        if flag:\n",
    "            fb = xgb.FantasyBoost(player_name=name, player_pos=pos)\n",
    "            flag = False\n",
    "        else:\n",
    "            fb.change(player_name=name, player_pos=pos)\n",
    "\n",
    "        pred = fb.predict()\n",
    "        if pos == 'd':\n",
    "            newRow = [name, pos, pred]\n",
    "        else:\n",
    "            newRow = [name, pos, pred[0]]\n",
    "        data.append(newRow)\n",
    "\n",
    "with open(\"d_preds.csv\", \"w\") as fp:\n",
    "    writer = csv.writer(fp)\n",
    "    writer.writerows(data)\n",
    "\n",
    "print(\"Success\")'''"
   ],
   "metadata": {
    "collapsed": false
   }
  },
  {
   "cell_type": "code",
   "execution_count": 80,
   "outputs": [
    {
     "name": "stdout",
     "output_type": "stream",
     "text": [
      "Success\n"
     ]
    }
   ],
   "source": [
    "data = []\n",
    "\n",
    "with open('rb_preds.csv', 'r') as fp:\n",
    "    csvreader = csv.reader(fp, delimiter='\\n')\n",
    "\n",
    "    for row in csvreader:\n",
    "        current = row[0].split(\",\")\n",
    "        name = current[0]\n",
    "        pos = current[1]\n",
    "        pred = current[2]\n",
    "\n",
    "        newRow = [name, pos, round(float(pred)/17, 2)]\n",
    "        data.append(newRow)\n",
    "\n",
    "with open('rb_preds_weekly.csv', 'w') as fp:\n",
    "    writer = csv.writer(fp)\n",
    "    writer.writerows(data)\n",
    "\n",
    "print(\"Success\")"
   ],
   "metadata": {
    "collapsed": false
   }
  },
  {
   "cell_type": "code",
   "execution_count": 80,
   "outputs": [],
   "source": [],
   "metadata": {
    "collapsed": false
   }
  }
 ],
 "metadata": {
  "kernelspec": {
   "display_name": "Python 3",
   "language": "python",
   "name": "python3"
  },
  "language_info": {
   "codemirror_mode": {
    "name": "ipython",
    "version": 2
   },
   "file_extension": ".py",
   "mimetype": "text/x-python",
   "name": "python",
   "nbconvert_exporter": "python",
   "pygments_lexer": "ipython2",
   "version": "2.7.6"
  }
 },
 "nbformat": 4,
 "nbformat_minor": 0
}
